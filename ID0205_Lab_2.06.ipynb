{
  "nbformat": 4,
  "nbformat_minor": 0,
  "metadata": {
    "colab": {
      "provenance": [],
      "include_colab_link": true
    },
    "kernelspec": {
      "name": "python3",
      "display_name": "Python 3"
    },
    "language_info": {
      "name": "python"
    },
    "widgets": {
      "application/vnd.jupyter.widget-state+json": {
        "1eb4ea393aa848f0ba21f46f54b8b2ee": {
          "model_module": "@jupyter-widgets/controls",
          "model_name": "VBoxModel",
          "model_module_version": "1.5.0",
          "state": {
            "_dom_classes": [
              "widget-interact"
            ],
            "_model_module": "@jupyter-widgets/controls",
            "_model_module_version": "1.5.0",
            "_model_name": "VBoxModel",
            "_view_count": null,
            "_view_module": "@jupyter-widgets/controls",
            "_view_module_version": "1.5.0",
            "_view_name": "VBoxView",
            "box_style": "",
            "children": [
              "IPY_MODEL_7285e5bc940e4dc88fe0eee39a8e1ca9",
              "IPY_MODEL_be1b61c5ec354e3f8cf288cee90e2779",
              "IPY_MODEL_f828e8548fdc4db7b979578097ed95da",
              "IPY_MODEL_5c9be09fbf7a4e78b41de73ff16ac519"
            ],
            "layout": "IPY_MODEL_77e7c0c352cb43619afa147fabfaa3b4"
          }
        },
        "7285e5bc940e4dc88fe0eee39a8e1ca9": {
          "model_module": "@jupyter-widgets/controls",
          "model_name": "IntSliderModel",
          "model_module_version": "1.5.0",
          "state": {
            "_dom_classes": [],
            "_model_module": "@jupyter-widgets/controls",
            "_model_module_version": "1.5.0",
            "_model_name": "IntSliderModel",
            "_view_count": null,
            "_view_module": "@jupyter-widgets/controls",
            "_view_module_version": "1.5.0",
            "_view_name": "IntSliderView",
            "continuous_update": true,
            "description": "n",
            "description_tooltip": null,
            "disabled": false,
            "layout": "IPY_MODEL_39a3027f8ae24cde9f6ec377ba0a111b",
            "max": 20,
            "min": 3,
            "orientation": "horizontal",
            "readout": true,
            "readout_format": "d",
            "step": 1,
            "style": "IPY_MODEL_0d7e88f22d464d68977289c5048c976e",
            "value": 3
          }
        },
        "be1b61c5ec354e3f8cf288cee90e2779": {
          "model_module": "@jupyter-widgets/controls",
          "model_name": "IntSliderModel",
          "model_module_version": "1.5.0",
          "state": {
            "_dom_classes": [],
            "_model_module": "@jupyter-widgets/controls",
            "_model_module_version": "1.5.0",
            "_model_name": "IntSliderModel",
            "_view_count": null,
            "_view_module": "@jupyter-widgets/controls",
            "_view_module_version": "1.5.0",
            "_view_name": "IntSliderView",
            "continuous_update": true,
            "description": "valor_x",
            "description_tooltip": null,
            "disabled": false,
            "layout": "IPY_MODEL_4163fd14dbb44374a8ef25d83a739092",
            "max": 20,
            "min": 10,
            "orientation": "horizontal",
            "readout": true,
            "readout_format": "d",
            "step": 1,
            "style": "IPY_MODEL_27041341df2d4a009c9836f9b38586b4",
            "value": 20
          }
        },
        "f828e8548fdc4db7b979578097ed95da": {
          "model_module": "@jupyter-widgets/controls",
          "model_name": "IntSliderModel",
          "model_module_version": "1.5.0",
          "state": {
            "_dom_classes": [],
            "_model_module": "@jupyter-widgets/controls",
            "_model_module_version": "1.5.0",
            "_model_name": "IntSliderModel",
            "_view_count": null,
            "_view_module": "@jupyter-widgets/controls",
            "_view_module_version": "1.5.0",
            "_view_name": "IntSliderView",
            "continuous_update": true,
            "description": "valor_y",
            "description_tooltip": null,
            "disabled": false,
            "layout": "IPY_MODEL_3af219fb5c0148e0b7ba5809fd3685af",
            "max": 20,
            "min": 10,
            "orientation": "horizontal",
            "readout": true,
            "readout_format": "d",
            "step": 1,
            "style": "IPY_MODEL_f942dd025c0f4cc5acded342d46ce400",
            "value": 10
          }
        },
        "5c9be09fbf7a4e78b41de73ff16ac519": {
          "model_module": "@jupyter-widgets/output",
          "model_name": "OutputModel",
          "model_module_version": "1.0.0",
          "state": {
            "_dom_classes": [],
            "_model_module": "@jupyter-widgets/output",
            "_model_module_version": "1.0.0",
            "_model_name": "OutputModel",
            "_view_count": null,
            "_view_module": "@jupyter-widgets/output",
            "_view_module_version": "1.0.0",
            "_view_name": "OutputView",
            "layout": "IPY_MODEL_a75d9696f9384242905d3c6955dc5ee3",
            "msg_id": "",
            "outputs": [
              {
                "output_type": "display_data",
                "data": {
                  "text/plain": "<Figure size 432x288 with 1 Axes>",
                  "image/png": "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\n"
                },
                "metadata": {
                  "needs_background": "light"
                }
              }
            ]
          }
        },
        "77e7c0c352cb43619afa147fabfaa3b4": {
          "model_module": "@jupyter-widgets/base",
          "model_name": "LayoutModel",
          "model_module_version": "1.2.0",
          "state": {
            "_model_module": "@jupyter-widgets/base",
            "_model_module_version": "1.2.0",
            "_model_name": "LayoutModel",
            "_view_count": null,
            "_view_module": "@jupyter-widgets/base",
            "_view_module_version": "1.2.0",
            "_view_name": "LayoutView",
            "align_content": null,
            "align_items": null,
            "align_self": null,
            "border": null,
            "bottom": null,
            "display": null,
            "flex": null,
            "flex_flow": null,
            "grid_area": null,
            "grid_auto_columns": null,
            "grid_auto_flow": null,
            "grid_auto_rows": null,
            "grid_column": null,
            "grid_gap": null,
            "grid_row": null,
            "grid_template_areas": null,
            "grid_template_columns": null,
            "grid_template_rows": null,
            "height": null,
            "justify_content": null,
            "justify_items": null,
            "left": null,
            "margin": null,
            "max_height": null,
            "max_width": null,
            "min_height": null,
            "min_width": null,
            "object_fit": null,
            "object_position": null,
            "order": null,
            "overflow": null,
            "overflow_x": null,
            "overflow_y": null,
            "padding": null,
            "right": null,
            "top": null,
            "visibility": null,
            "width": null
          }
        },
        "39a3027f8ae24cde9f6ec377ba0a111b": {
          "model_module": "@jupyter-widgets/base",
          "model_name": "LayoutModel",
          "model_module_version": "1.2.0",
          "state": {
            "_model_module": "@jupyter-widgets/base",
            "_model_module_version": "1.2.0",
            "_model_name": "LayoutModel",
            "_view_count": null,
            "_view_module": "@jupyter-widgets/base",
            "_view_module_version": "1.2.0",
            "_view_name": "LayoutView",
            "align_content": null,
            "align_items": null,
            "align_self": null,
            "border": null,
            "bottom": null,
            "display": null,
            "flex": null,
            "flex_flow": null,
            "grid_area": null,
            "grid_auto_columns": null,
            "grid_auto_flow": null,
            "grid_auto_rows": null,
            "grid_column": null,
            "grid_gap": null,
            "grid_row": null,
            "grid_template_areas": null,
            "grid_template_columns": null,
            "grid_template_rows": null,
            "height": null,
            "justify_content": null,
            "justify_items": null,
            "left": null,
            "margin": null,
            "max_height": null,
            "max_width": null,
            "min_height": null,
            "min_width": null,
            "object_fit": null,
            "object_position": null,
            "order": null,
            "overflow": null,
            "overflow_x": null,
            "overflow_y": null,
            "padding": null,
            "right": null,
            "top": null,
            "visibility": null,
            "width": null
          }
        },
        "0d7e88f22d464d68977289c5048c976e": {
          "model_module": "@jupyter-widgets/controls",
          "model_name": "SliderStyleModel",
          "model_module_version": "1.5.0",
          "state": {
            "_model_module": "@jupyter-widgets/controls",
            "_model_module_version": "1.5.0",
            "_model_name": "SliderStyleModel",
            "_view_count": null,
            "_view_module": "@jupyter-widgets/base",
            "_view_module_version": "1.2.0",
            "_view_name": "StyleView",
            "description_width": "",
            "handle_color": null
          }
        },
        "4163fd14dbb44374a8ef25d83a739092": {
          "model_module": "@jupyter-widgets/base",
          "model_name": "LayoutModel",
          "model_module_version": "1.2.0",
          "state": {
            "_model_module": "@jupyter-widgets/base",
            "_model_module_version": "1.2.0",
            "_model_name": "LayoutModel",
            "_view_count": null,
            "_view_module": "@jupyter-widgets/base",
            "_view_module_version": "1.2.0",
            "_view_name": "LayoutView",
            "align_content": null,
            "align_items": null,
            "align_self": null,
            "border": null,
            "bottom": null,
            "display": null,
            "flex": null,
            "flex_flow": null,
            "grid_area": null,
            "grid_auto_columns": null,
            "grid_auto_flow": null,
            "grid_auto_rows": null,
            "grid_column": null,
            "grid_gap": null,
            "grid_row": null,
            "grid_template_areas": null,
            "grid_template_columns": null,
            "grid_template_rows": null,
            "height": null,
            "justify_content": null,
            "justify_items": null,
            "left": null,
            "margin": null,
            "max_height": null,
            "max_width": null,
            "min_height": null,
            "min_width": null,
            "object_fit": null,
            "object_position": null,
            "order": null,
            "overflow": null,
            "overflow_x": null,
            "overflow_y": null,
            "padding": null,
            "right": null,
            "top": null,
            "visibility": null,
            "width": null
          }
        },
        "27041341df2d4a009c9836f9b38586b4": {
          "model_module": "@jupyter-widgets/controls",
          "model_name": "SliderStyleModel",
          "model_module_version": "1.5.0",
          "state": {
            "_model_module": "@jupyter-widgets/controls",
            "_model_module_version": "1.5.0",
            "_model_name": "SliderStyleModel",
            "_view_count": null,
            "_view_module": "@jupyter-widgets/base",
            "_view_module_version": "1.2.0",
            "_view_name": "StyleView",
            "description_width": "",
            "handle_color": null
          }
        },
        "3af219fb5c0148e0b7ba5809fd3685af": {
          "model_module": "@jupyter-widgets/base",
          "model_name": "LayoutModel",
          "model_module_version": "1.2.0",
          "state": {
            "_model_module": "@jupyter-widgets/base",
            "_model_module_version": "1.2.0",
            "_model_name": "LayoutModel",
            "_view_count": null,
            "_view_module": "@jupyter-widgets/base",
            "_view_module_version": "1.2.0",
            "_view_name": "LayoutView",
            "align_content": null,
            "align_items": null,
            "align_self": null,
            "border": null,
            "bottom": null,
            "display": null,
            "flex": null,
            "flex_flow": null,
            "grid_area": null,
            "grid_auto_columns": null,
            "grid_auto_flow": null,
            "grid_auto_rows": null,
            "grid_column": null,
            "grid_gap": null,
            "grid_row": null,
            "grid_template_areas": null,
            "grid_template_columns": null,
            "grid_template_rows": null,
            "height": null,
            "justify_content": null,
            "justify_items": null,
            "left": null,
            "margin": null,
            "max_height": null,
            "max_width": null,
            "min_height": null,
            "min_width": null,
            "object_fit": null,
            "object_position": null,
            "order": null,
            "overflow": null,
            "overflow_x": null,
            "overflow_y": null,
            "padding": null,
            "right": null,
            "top": null,
            "visibility": null,
            "width": null
          }
        },
        "f942dd025c0f4cc5acded342d46ce400": {
          "model_module": "@jupyter-widgets/controls",
          "model_name": "SliderStyleModel",
          "model_module_version": "1.5.0",
          "state": {
            "_model_module": "@jupyter-widgets/controls",
            "_model_module_version": "1.5.0",
            "_model_name": "SliderStyleModel",
            "_view_count": null,
            "_view_module": "@jupyter-widgets/base",
            "_view_module_version": "1.2.0",
            "_view_name": "StyleView",
            "description_width": "",
            "handle_color": null
          }
        },
        "a75d9696f9384242905d3c6955dc5ee3": {
          "model_module": "@jupyter-widgets/base",
          "model_name": "LayoutModel",
          "model_module_version": "1.2.0",
          "state": {
            "_model_module": "@jupyter-widgets/base",
            "_model_module_version": "1.2.0",
            "_model_name": "LayoutModel",
            "_view_count": null,
            "_view_module": "@jupyter-widgets/base",
            "_view_module_version": "1.2.0",
            "_view_name": "LayoutView",
            "align_content": null,
            "align_items": null,
            "align_self": null,
            "border": null,
            "bottom": null,
            "display": null,
            "flex": null,
            "flex_flow": null,
            "grid_area": null,
            "grid_auto_columns": null,
            "grid_auto_flow": null,
            "grid_auto_rows": null,
            "grid_column": null,
            "grid_gap": null,
            "grid_row": null,
            "grid_template_areas": null,
            "grid_template_columns": null,
            "grid_template_rows": null,
            "height": null,
            "justify_content": null,
            "justify_items": null,
            "left": null,
            "margin": null,
            "max_height": null,
            "max_width": null,
            "min_height": null,
            "min_width": null,
            "object_fit": null,
            "object_position": null,
            "order": null,
            "overflow": null,
            "overflow_x": null,
            "overflow_y": null,
            "padding": null,
            "right": null,
            "top": null,
            "visibility": null,
            "width": null
          }
        },
        "9edcdeaff17041ae9a4f70ac11095d89": {
          "model_module": "@jupyter-widgets/controls",
          "model_name": "VBoxModel",
          "model_module_version": "1.5.0",
          "state": {
            "_dom_classes": [
              "widget-interact"
            ],
            "_model_module": "@jupyter-widgets/controls",
            "_model_module_version": "1.5.0",
            "_model_name": "VBoxModel",
            "_view_count": null,
            "_view_module": "@jupyter-widgets/controls",
            "_view_module_version": "1.5.0",
            "_view_name": "VBoxView",
            "box_style": "",
            "children": [
              "IPY_MODEL_1828c6e555ed46908eaf9190ec0c0576",
              "IPY_MODEL_0f588717d6c74a84952ef0de138214ab"
            ],
            "layout": "IPY_MODEL_4d9c553b244546dda14335aeda00756f"
          }
        },
        "1828c6e555ed46908eaf9190ec0c0576": {
          "model_module": "@jupyter-widgets/controls",
          "model_name": "IntSliderModel",
          "model_module_version": "1.5.0",
          "state": {
            "_dom_classes": [],
            "_model_module": "@jupyter-widgets/controls",
            "_model_module_version": "1.5.0",
            "_model_name": "IntSliderModel",
            "_view_count": null,
            "_view_module": "@jupyter-widgets/controls",
            "_view_module_version": "1.5.0",
            "_view_name": "IntSliderView",
            "continuous_update": true,
            "description": "n",
            "description_tooltip": null,
            "disabled": false,
            "layout": "IPY_MODEL_7dcb7d655c594ae1aaae71b699cde39f",
            "max": 20,
            "min": 3,
            "orientation": "horizontal",
            "readout": true,
            "readout_format": "d",
            "step": 1,
            "style": "IPY_MODEL_114c9df651194d9eb7a8e72e1b197f05",
            "value": 9
          }
        },
        "0f588717d6c74a84952ef0de138214ab": {
          "model_module": "@jupyter-widgets/output",
          "model_name": "OutputModel",
          "model_module_version": "1.0.0",
          "state": {
            "_dom_classes": [],
            "_model_module": "@jupyter-widgets/output",
            "_model_module_version": "1.0.0",
            "_model_name": "OutputModel",
            "_view_count": null,
            "_view_module": "@jupyter-widgets/output",
            "_view_module_version": "1.0.0",
            "_view_name": "OutputView",
            "layout": "IPY_MODEL_36cf3212202948c7b74cf12c39d1983f",
            "msg_id": "",
            "outputs": [
              {
                "output_type": "display_data",
                "data": {
                  "text/plain": "<Figure size 432x288 with 1 Axes>",
                  "image/png": "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\n"
                },
                "metadata": {
                  "needs_background": "light"
                }
              }
            ]
          }
        },
        "4d9c553b244546dda14335aeda00756f": {
          "model_module": "@jupyter-widgets/base",
          "model_name": "LayoutModel",
          "model_module_version": "1.2.0",
          "state": {
            "_model_module": "@jupyter-widgets/base",
            "_model_module_version": "1.2.0",
            "_model_name": "LayoutModel",
            "_view_count": null,
            "_view_module": "@jupyter-widgets/base",
            "_view_module_version": "1.2.0",
            "_view_name": "LayoutView",
            "align_content": null,
            "align_items": null,
            "align_self": null,
            "border": null,
            "bottom": null,
            "display": null,
            "flex": null,
            "flex_flow": null,
            "grid_area": null,
            "grid_auto_columns": null,
            "grid_auto_flow": null,
            "grid_auto_rows": null,
            "grid_column": null,
            "grid_gap": null,
            "grid_row": null,
            "grid_template_areas": null,
            "grid_template_columns": null,
            "grid_template_rows": null,
            "height": null,
            "justify_content": null,
            "justify_items": null,
            "left": null,
            "margin": null,
            "max_height": null,
            "max_width": null,
            "min_height": null,
            "min_width": null,
            "object_fit": null,
            "object_position": null,
            "order": null,
            "overflow": null,
            "overflow_x": null,
            "overflow_y": null,
            "padding": null,
            "right": null,
            "top": null,
            "visibility": null,
            "width": null
          }
        },
        "7dcb7d655c594ae1aaae71b699cde39f": {
          "model_module": "@jupyter-widgets/base",
          "model_name": "LayoutModel",
          "model_module_version": "1.2.0",
          "state": {
            "_model_module": "@jupyter-widgets/base",
            "_model_module_version": "1.2.0",
            "_model_name": "LayoutModel",
            "_view_count": null,
            "_view_module": "@jupyter-widgets/base",
            "_view_module_version": "1.2.0",
            "_view_name": "LayoutView",
            "align_content": null,
            "align_items": null,
            "align_self": null,
            "border": null,
            "bottom": null,
            "display": null,
            "flex": null,
            "flex_flow": null,
            "grid_area": null,
            "grid_auto_columns": null,
            "grid_auto_flow": null,
            "grid_auto_rows": null,
            "grid_column": null,
            "grid_gap": null,
            "grid_row": null,
            "grid_template_areas": null,
            "grid_template_columns": null,
            "grid_template_rows": null,
            "height": null,
            "justify_content": null,
            "justify_items": null,
            "left": null,
            "margin": null,
            "max_height": null,
            "max_width": null,
            "min_height": null,
            "min_width": null,
            "object_fit": null,
            "object_position": null,
            "order": null,
            "overflow": null,
            "overflow_x": null,
            "overflow_y": null,
            "padding": null,
            "right": null,
            "top": null,
            "visibility": null,
            "width": null
          }
        },
        "114c9df651194d9eb7a8e72e1b197f05": {
          "model_module": "@jupyter-widgets/controls",
          "model_name": "SliderStyleModel",
          "model_module_version": "1.5.0",
          "state": {
            "_model_module": "@jupyter-widgets/controls",
            "_model_module_version": "1.5.0",
            "_model_name": "SliderStyleModel",
            "_view_count": null,
            "_view_module": "@jupyter-widgets/base",
            "_view_module_version": "1.2.0",
            "_view_name": "StyleView",
            "description_width": "",
            "handle_color": null
          }
        },
        "36cf3212202948c7b74cf12c39d1983f": {
          "model_module": "@jupyter-widgets/base",
          "model_name": "LayoutModel",
          "model_module_version": "1.2.0",
          "state": {
            "_model_module": "@jupyter-widgets/base",
            "_model_module_version": "1.2.0",
            "_model_name": "LayoutModel",
            "_view_count": null,
            "_view_module": "@jupyter-widgets/base",
            "_view_module_version": "1.2.0",
            "_view_name": "LayoutView",
            "align_content": null,
            "align_items": null,
            "align_self": null,
            "border": null,
            "bottom": null,
            "display": null,
            "flex": null,
            "flex_flow": null,
            "grid_area": null,
            "grid_auto_columns": null,
            "grid_auto_flow": null,
            "grid_auto_rows": null,
            "grid_column": null,
            "grid_gap": null,
            "grid_row": null,
            "grid_template_areas": null,
            "grid_template_columns": null,
            "grid_template_rows": null,
            "height": null,
            "justify_content": null,
            "justify_items": null,
            "left": null,
            "margin": null,
            "max_height": null,
            "max_width": null,
            "min_height": null,
            "min_width": null,
            "object_fit": null,
            "object_position": null,
            "order": null,
            "overflow": null,
            "overflow_x": null,
            "overflow_y": null,
            "padding": null,
            "right": null,
            "top": null,
            "visibility": null,
            "width": null
          }
        }
      }
    }
  },
  "cells": [
    {
      "cell_type": "markdown",
      "metadata": {
        "id": "view-in-github",
        "colab_type": "text"
      },
      "source": [
        "<a href=\"https://colab.research.google.com/github/sofiagoldheart/ComputationalGeometry/blob/main/ID0205_Lab_2.06.ipynb\" target=\"_parent\"><img src=\"https://colab.research.google.com/assets/colab-badge.svg\" alt=\"Open In Colab\"/></a>"
      ]
    },
    {
      "cell_type": "markdown",
      "source": [
        "#Introducción\n",
        "En el presente notebook podremos aprender sobre los usos de las librerias 'matplotlib.pyplot', 'ipywidgets' y 'numpy' en la creación de\n",
        "poligonos."
      ],
      "metadata": {
        "id": "5OqAeTyWYN8X"
      }
    },
    {
      "cell_type": "code",
      "source": [
        "import matplotlib.pyplot as plt\n",
        "from matplotlib.pyplot import *\n",
        "from numpy import *"
      ],
      "metadata": {
        "id": "rM2g8hQgiFCL"
      },
      "execution_count": null,
      "outputs": []
    },
    {
      "cell_type": "markdown",
      "source": [
        "**Ejercicio 1**\n",
        "\n",
        "Utiliza el código anterior y varia el factor usado para multiplicar ls funciones trigonométricas (seno, coseno), utiliza para este fin una entrada tipo 'input', con tal de que el usuario ingrese estos valores.\n",
        "\n"
      ],
      "metadata": {
        "id": "vcVEMZ-XAUtB"
      }
    },
    {
      "cell_type": "code",
      "source": [
        "# Ejemplo para recibir entradas de teclado\n",
        "respuesta = input('Quieres imprimir un triángulo (si/no): ')\n",
        "if respuesta == \"si\":\n",
        "  n = 3 #Número de lados\n",
        "  t = arange(0,360+(360/(n)),360/(n))#Funcion para definir el poligono\n",
        "  valor_1 = int(input('Ingresa un valor\\n> '))\n",
        "  valor_2 = int(input('Ingresa otro valor\\n> '))\n",
        "  x = valor_1*sin(radians(t))\n",
        "  y = valor_2*cos(radians(t))\n",
        "  #Grafica triángulo\n",
        "  plot(x,y)\n",
        "  # con los ejes iguales\n",
        "  axis('equal')\n",
        "else:  \n",
        "  print(\"Gracias por tu participación\")#Si la respuesta es no"
      ],
      "metadata": {
        "id": "8rwBT2yEA1HR"
      },
      "execution_count": null,
      "outputs": []
    },
    {
      "cell_type": "markdown",
      "source": [
        "**Ejercicio 2**\n",
        "\n",
        "Define:\n",
        "\n",
        "* Entrada por medio del usuario hasta 20 lados para la figura,\n",
        "\n",
        "* factor multiplicador para las funciones trigonométricas de 10 a 20."
      ],
      "metadata": {
        "id": "je8tW9sJClbK"
      }
    },
    {
      "cell_type": "code",
      "source": [
        "from ipywidgets import interactive\n",
        "  \n",
        "\n",
        "def lados(n, valor_x, valor_y):#Función para trazar el poligono \n",
        "    t = np.arange(0,360+(360/(n)),360/(n))\n",
        "    x = valor_x*np.sin(np.radians(t))\n",
        "    y = valor_y*np.cos(np.radians(t))\n",
        "    plt.plot(x,y)\n",
        "    plt.axis('equal')\n",
        "interactive_plot = interactive(lados, n=(3,20), valor_x=(10,20), valor_y=(10,20))#Creación de las barras interactivas\n",
        "interactive_plot \n"
      ],
      "metadata": {
        "id": "a3-umJ4eJSYw",
        "colab": {
          "base_uri": "https://localhost:8080/",
          "height": 361,
          "referenced_widgets": [
            "1eb4ea393aa848f0ba21f46f54b8b2ee",
            "7285e5bc940e4dc88fe0eee39a8e1ca9",
            "be1b61c5ec354e3f8cf288cee90e2779",
            "f828e8548fdc4db7b979578097ed95da",
            "5c9be09fbf7a4e78b41de73ff16ac519",
            "77e7c0c352cb43619afa147fabfaa3b4",
            "39a3027f8ae24cde9f6ec377ba0a111b",
            "0d7e88f22d464d68977289c5048c976e",
            "4163fd14dbb44374a8ef25d83a739092",
            "27041341df2d4a009c9836f9b38586b4",
            "3af219fb5c0148e0b7ba5809fd3685af",
            "f942dd025c0f4cc5acded342d46ce400",
            "a75d9696f9384242905d3c6955dc5ee3"
          ]
        },
        "outputId": "858fbb25-dbc1-4c53-a2a8-90963dd98e2b"
      },
      "execution_count": null,
      "outputs": [
        {
          "output_type": "display_data",
          "data": {
            "text/plain": [
              "interactive(children=(IntSlider(value=11, description='n', max=20, min=3), IntSlider(value=15, description='va…"
            ],
            "application/vnd.jupyter.widget-view+json": {
              "version_major": 2,
              "version_minor": 0,
              "model_id": "1eb4ea393aa848f0ba21f46f54b8b2ee"
            }
          },
          "metadata": {}
        }
      ]
    },
    {
      "cell_type": "markdown",
      "source": [
        "**Ejercicio 3**\n",
        "\n",
        "Agrega entradas (input) y controles interactivos para generar  poligonos de varios lados usando la librería 'Polygon'."
      ],
      "metadata": {
        "id": "vEKvx9mvIEd3"
      }
    },
    {
      "cell_type": "code",
      "source": [
        "import ipywidgets as widgets\n",
        "import matplotlib.pyplot as plt\n",
        "import numpy as np\n",
        "from matplotlib.patches import Polygon\n",
        "def crear_figura(n):#Aqui definimos la figura por medio de los angulos\n",
        "  angulo = np.linspace(0, 2*np.pi, n+1)\n",
        "  x = np.cos(angulo)\n",
        "  y = np.sin(angulo)\n",
        "  return x, y\n",
        "def trazar_figura(n):#En esta función trazamos la figura por medio de polygon\n",
        "  x, y = crear_figura(n)\n",
        "  fig, ax = plt.subplots()\n",
        "  figura = Polygon(np.column_stack([x, y]), color='cyan')\n",
        "  ax.add_patch(figura)\n",
        "  ax.set_aspect('equal')\n",
        "  ax.set_xlim(-1,1)\n",
        "  ax.set_ylim(-1,1)\n",
        "  plt.show()\n",
        "control = input(\"¿Generar una figura? si/no\\n> \")\n",
        "if control.lower() == 'si':#Con este if le permitimos al usuario decidir si quiere o no crear la figura.\n",
        "  lados = widgets.IntSlider(min=3, max=20, step=1)\n",
        "  widgets.interact(trazar_figura, n=lados)\n",
        "else:\n",
        "  print(\"Recibido, hasta luego\")"
      ],
      "metadata": {
        "colab": {
          "base_uri": "https://localhost:8080/",
          "height": 336,
          "referenced_widgets": [
            "9edcdeaff17041ae9a4f70ac11095d89",
            "1828c6e555ed46908eaf9190ec0c0576",
            "0f588717d6c74a84952ef0de138214ab",
            "4d9c553b244546dda14335aeda00756f",
            "7dcb7d655c594ae1aaae71b699cde39f",
            "114c9df651194d9eb7a8e72e1b197f05",
            "36cf3212202948c7b74cf12c39d1983f"
          ]
        },
        "id": "BJ9f7Qpj1py_",
        "outputId": "8b804573-0abd-4420-b54f-e1b954e07931"
      },
      "execution_count": null,
      "outputs": [
        {
          "name": "stdout",
          "output_type": "stream",
          "text": [
            "¿Generar una figura? si/no\n",
            "> si\n"
          ]
        },
        {
          "output_type": "display_data",
          "data": {
            "text/plain": [
              "interactive(children=(IntSlider(value=3, description='n', max=20, min=3), Output()), _dom_classes=('widget-int…"
            ],
            "application/vnd.jupyter.widget-view+json": {
              "version_major": 2,
              "version_minor": 0,
              "model_id": "9edcdeaff17041ae9a4f70ac11095d89"
            }
          },
          "metadata": {}
        }
      ]
    }
  ]
}