{
  "nbformat": 4,
  "nbformat_minor": 0,
  "metadata": {
    "colab": {
      "provenance": []
    },
    "kernelspec": {
      "name": "python3",
      "display_name": "Python 3"
    },
    "language_info": {
      "name": "python"
    }
  },
  "cells": [
    {
      "cell_type": "markdown",
      "source": [
        "#ID0205 - Geometría Computacional\n",
        "\n",
        "### Primavera 2023\n",
        "\n",
        "### ID0205_Lab-2.10\n",
        "\n",
        "**Profesor Enrique Naredo García**\n",
        "\n",
        "<font size = 2> \n",
        "©️ Todos los derechos reservados. All rights reserved.\n",
        "\n",
        "*Nota: El presente documento es una herramienta diseñada única y exclusivamente para los estudiantes de la asignatura arriba mencionada. Queda prohibido compartir este documento entre otros estudiantes, aún siendo de la misma clase, grupo o de la Universidad sin consentimiento del autor. Queda prohibida la reproducción total o parcial de este documento por cualquier medio o procedimiento, ya sea electrónico o mecánico, el tratamiento informático, el alquiler o cualquier otra forma de cesión sin la autorización previa y por escrito del titular del copyright.*\n",
        "</font>"
      ],
      "metadata": {
        "id": "IGpQ4DYIXZWa"
      }
    },
    {
      "cell_type": "markdown",
      "source": [
        "##[Polígono Convexo](https://es.wikipedia.org/wiki/Pol%C3%ADgono_convexo)\n",
        "\n",
        "Un [polígono convexo](https://www.lifeder.com/poligono-convexo/) es un polígono en el que cada uno de los ángulos interiores miden a lo sumo 180 grados o π radianes. \n",
        "\n",
        "* Un polígono es estrictamente convexo si todos sus ángulos internos son estrictamente menores de 180 grados y todas sus diagonales son interiores. \n",
        "\n",
        "* Todo polígono que no es convexo se denomina polígono cóncavo.\n",
        "\n"
      ],
      "metadata": {
        "id": "0xOCAeo_bLkI"
      }
    },
    {
      "cell_type": "code",
      "source": [
        "# instala triangle\n",
        "!pip install triangle"
      ],
      "metadata": {
        "id": "h2Wg7gzyDdVz",
        "colab": {
          "base_uri": "https://localhost:8080/"
        },
        "outputId": "5ad62f22-6b66-4aad-af96-0665b1af38d5"
      },
      "execution_count": 1,
      "outputs": [
        {
          "output_type": "stream",
          "name": "stdout",
          "text": [
            "Looking in indexes: https://pypi.org/simple, https://us-python.pkg.dev/colab-wheels/public/simple/\n",
            "Collecting triangle\n",
            "  Downloading triangle-20220202-cp38-cp38-manylinux_2_17_x86_64.manylinux2014_x86_64.whl (2.0 MB)\n",
            "\u001b[2K     \u001b[90m━━━━━━━━━━━━━━━━━━━━━━━━━━━━━━━━━━━━━━━━\u001b[0m \u001b[32m2.0/2.0 MB\u001b[0m \u001b[31m15.7 MB/s\u001b[0m eta \u001b[36m0:00:00\u001b[0m\n",
            "\u001b[?25hRequirement already satisfied: numpy in /usr/local/lib/python3.8/dist-packages (from triangle) (1.21.6)\n",
            "Installing collected packages: triangle\n",
            "Successfully installed triangle-20220202\n"
          ]
        }
      ]
    },
    {
      "cell_type": "code",
      "source": [
        "# librerias\n",
        "import matplotlib.pyplot as plt\n",
        "import triangle as tr\n",
        "import numpy as np\n",
        "import warnings\n",
        "warnings.filterwarnings('ignore')"
      ],
      "metadata": {
        "id": "cmSy3zZ-hank"
      },
      "execution_count": 2,
      "outputs": []
    },
    {
      "cell_type": "markdown",
      "source": [
        "### Ejemplo 1"
      ],
      "metadata": {
        "id": "22ka1ZkGG6fM"
      }
    },
    {
      "cell_type": "code",
      "source": [
        "# definimos manualmente 8 puntos\n",
        "Puntos = ( \n",
        "          (0.24,  2.5), # punto 0\n",
        "          (3.2,   1.9), # punto 1\n",
        "          (1.2,   1.8), # punto 2 \n",
        "          (0.8,   2.9), # punto 3 \n",
        "          (-0.6,  1.7), # punto 5 \n",
        "          (1.4,   0.2), # punto 6 \n",
        "          (-1.2, -0.3), # punto 7 \n",
        "          (-3.5,  2.3)  # punto 8\n",
        "          )\n",
        "\n",
        "# muestra las coordenadas de los puntos\n",
        "print(Puntos)"
      ],
      "metadata": {
        "id": "yIC6UiB4PcYD",
        "colab": {
          "base_uri": "https://localhost:8080/"
        },
        "outputId": "58eeae50-7b22-4bd1-f708-da8f481dad91"
      },
      "execution_count": null,
      "outputs": [
        {
          "output_type": "stream",
          "name": "stdout",
          "text": [
            "((0.24, 2.5), (3.2, 1.9), (1.2, 1.8), (0.8, 2.9), (-0.6, 1.7), (1.4, 0.2), (-1.2, -0.3), (-3.5, 2.3))\n"
          ]
        }
      ]
    },
    {
      "cell_type": "code",
      "source": [
        "# Extraemos abcisas y ordenadas por separado\n",
        "\n",
        "# abcisas\n",
        "x = [Puntos[i][0] for i in range(len(Puntos))]\n",
        "\n",
        "# ordenadas\n",
        "y = [Puntos[j][1] for j in range(len(Puntos))]\n",
        "\n",
        "\n",
        "# muestra abcisas y ordenadas\n",
        "print('abcisas:', x)\n",
        "print('ordenadas:', y)"
      ],
      "metadata": {
        "colab": {
          "base_uri": "https://localhost:8080/"
        },
        "id": "sVp5GJmRpa8F",
        "outputId": "ed7c5c28-924d-4bb2-959a-c439e804442c"
      },
      "execution_count": null,
      "outputs": [
        {
          "output_type": "stream",
          "name": "stdout",
          "text": [
            "abcisas: [0.24, 3.2, 1.2, 0.8, -0.6, 1.4, -1.2, -3.5]\n",
            "ordenadas: [2.5, 1.9, 1.8, 2.9, 1.7, 0.2, -0.3, 2.3]\n"
          ]
        }
      ]
    },
    {
      "cell_type": "code",
      "source": [
        "# grafica de (solo) puntos \n",
        "plt.scatter(x, y)\n",
        "\n",
        "# agrega texto a los puntos\n",
        "plt.text(0.4,  2.4,'P0')   # punto 0\n",
        "plt.text(3.3,   1.9,'P1')  # punto 1\n",
        "plt.text(1.3,   1.8,'P2')  # punto 2\n",
        "plt.text(0.9,   2.9,'P3')  # punto 3\n",
        "plt.text(-0.5,   1.7,'P4') # punto 4\n",
        "plt.text(1.6,   0.2 ,'P5') # punto 5\n",
        "plt.text(-1.1,  -0.2,'P6') # punto 6\n",
        "plt.text(-3.5,   2.4,'P7') # punto 7"
      ],
      "metadata": {
        "colab": {
          "base_uri": "https://localhost:8080/",
          "height": 284
        },
        "id": "he7dnE0jlsHe",
        "outputId": "fb617b67-b4e4-437f-f7c3-4a4f5e73f99f"
      },
      "execution_count": null,
      "outputs": [
        {
          "output_type": "execute_result",
          "data": {
            "text/plain": [
              "Text(-3.5, 2.4, 'P7')"
            ]
          },
          "metadata": {},
          "execution_count": 9
        },
        {
          "output_type": "display_data",
          "data": {
            "text/plain": [
              "<Figure size 432x288 with 1 Axes>"
            ],
            "image/png": "[encoded data removed]"
          },
          "metadata": {
            "needs_background": "light"
          }
        }
      ]
    },
    {
      "cell_type": "code",
      "source": [
        "# convertimos la tupla a un np.array\n",
        "Vert = np.array(Puntos)\n",
        "print(Vert)"
      ],
      "metadata": {
        "id": "9FTJx0UmPtdx",
        "colab": {
          "base_uri": "https://localhost:8080/"
        },
        "outputId": "3cef5ed7-b119-4de5-bec6-ef45137e1827"
      },
      "execution_count": null,
      "outputs": [
        {
          "output_type": "stream",
          "name": "stdout",
          "text": [
            "[[ 0.24  2.5 ]\n",
            " [ 3.2   1.9 ]\n",
            " [ 1.2   1.8 ]\n",
            " [ 0.8   2.9 ]\n",
            " [-0.6   1.7 ]\n",
            " [ 1.4   0.2 ]\n",
            " [-1.2  -0.3 ]\n",
            " [-3.5   2.3 ]]\n"
          ]
        }
      ]
    },
    {
      "cell_type": "code",
      "source": [
        "# construimos un diccionario\n",
        "D = dict(vertices=Vert)"
      ],
      "metadata": {
        "id": "VLZvIaJ9P2VN"
      },
      "execution_count": null,
      "outputs": []
    },
    {
      "cell_type": "code",
      "source": [
        "# construye triangulación\n",
        "T = tr.triangulate(D)"
      ],
      "metadata": {
        "id": "Kw4k42CQPrgi"
      },
      "execution_count": null,
      "outputs": []
    },
    {
      "cell_type": "code",
      "source": [
        "# puntos y diagonales\n",
        "tr.compare(plt, T, D)\n",
        "\n",
        "# graficamos la triangulación\n",
        "plt.show()"
      ],
      "metadata": {
        "id": "gFcOES4uDdTI",
        "colab": {
          "base_uri": "https://localhost:8080/",
          "height": 128
        },
        "outputId": "bdf6e960-451e-47aa-b2ba-1894ab2b7e67"
      },
      "execution_count": null,
      "outputs": [
        {
          "output_type": "display_data",
          "data": {
            "text/plain": [
              "<Figure size 432x216 with 2 Axes>"
            ],
            "image/png": "[encoded data removed]"
          },
          "metadata": {
            "needs_background": "light"
          }
        }
      ]
    },
    {
      "cell_type": "code",
      "source": [
        "# encuentra la poligonal\n",
        "S = tr.convex_hull(V)\n",
        "\n",
        "# muestra los vertices\n",
        "print(S)"
      ],
      "metadata": {
        "colab": {
          "base_uri": "https://localhost:8080/"
        },
        "id": "WZsAMLbdZieb",
        "outputId": "0fc57fe0-1f71-45f1-e55c-ec2fff85c02b"
      },
      "execution_count": null,
      "outputs": [
        {
          "output_type": "stream",
          "name": "stdout",
          "text": [
            "[[6 7]\n",
            " [5 6]\n",
            " [1 5]\n",
            " [3 1]\n",
            " [7 3]]\n"
          ]
        }
      ]
    },
    {
      "cell_type": "code",
      "source": [
        "# grafica poligonal\n",
        "tr.plot(plt.axes(), vertices=Vert, segments=S)\n",
        "\n",
        "# muestra figura\n",
        "plt.show()"
      ],
      "metadata": {
        "colab": {
          "base_uri": "https://localhost:8080/",
          "height": 194
        },
        "id": "Tk_shk_nWhXb",
        "outputId": "b50c134b-67b1-4e4e-c3ca-b193a04c4f09"
      },
      "execution_count": null,
      "outputs": [
        {
          "output_type": "display_data",
          "data": {
            "text/plain": [
              "<Figure size 432x288 with 1 Axes>"
            ],
            "image/png": "[encoded data removed]"
          },
          "metadata": {
            "needs_background": "light"
          }
        }
      ]
    },
    {
      "cell_type": "markdown",
      "source": [
        "**Ejercicio 1**\n",
        "\n",
        "* Crea un diccionario con 10 puntos (diferentes a la del ejemplo).\n",
        "* Encuentra la poligonal que encierra esos puntos.\n",
        "* Grafica la poligonal."
      ],
      "metadata": {
        "id": "cTrQpAfCsjQT"
      }
    },
    {
      "cell_type": "code",
      "source": [
        "#plt.triplot(caja1[1][\"Vertices\"][:,0],caja1[\"Vertices\"])[:,1]caja1[\"Triangles\"],color='r')\n",
        "#plt.show()\n",
        "import matplotlib.pyplot as plt\n",
        "\n",
        "# Crea un diccionario con 10 puntos\n",
        "puntos = {\n",
        "    \"A\": (1, 1),\n",
        "    \"B\": (2, 3),\n",
        "    \"C\": (4, 2),\n",
        "    \"D\": (5, 4),\n",
        "    \"E\": (6, 1),\n",
        "    \"F\": (8, 2),\n",
        "    \"G\": (9, 4),\n",
        "    \"H\": (7, 6),\n",
        "    \"I\": (3, 6),\n",
        "    \"J\": (1, 4)\n",
        "}\n",
        "\n",
        "# Separa las coordenadas x e y de los puntos\n",
        "x = [puntos[p][0] for p in puntos]\n",
        "y = [puntos[p][1] for p in puntos]\n",
        "\n",
        "# Grafica los puntos\n",
        "plt.plot(x, y, \"o\")\n",
        "\n",
        "# Encuentra la poligonal que encierra los puntos\n",
        "poligonal = []\n",
        "for i in range(len(x)):\n",
        "    if i == len(x) - 1:\n",
        "        poligonal.append((x[i], y[i], x[0], y[0]))\n",
        "    else:\n",
        "        poligonal.append((x[i], y[i], x[i+1], y[i+1]))\n",
        "\n",
        "# Grafica la poligonal\n",
        "for p in poligonal:\n",
        "    plt.plot([p[0], p[2]], [p[1], p[3]], \"b-\")\n",
        "\n",
        "plt.show()\n"
      ],
      "metadata": {
        "id": "NlyitBFF8R3s",
        "outputId": "0b3d9e61-4386-4b5f-b959-10eb0b223ce5",
        "colab": {
          "base_uri": "https://localhost:8080/",
          "height": 265
        }
      },
      "execution_count": 5,
      "outputs": [
        {
          "output_type": "display_data",
          "data": {
            "text/plain": [
              "<Figure size 432x288 with 1 Axes>"
            ],
            "image/png": "[encoded data removed]"
          },
          "metadata": {
            "needs_background": "light"
          }
        }
      ]
    },
    {
      "cell_type": "markdown",
      "source": [
        "### Ejemplo 2"
      ],
      "metadata": {
        "id": "MkhnqbH-dn0S"
      }
    },
    {
      "cell_type": "code",
      "source": [
        "# usando np.array para construir la poligonal\n",
        "S2 = tr.convex_hull(Vert)\n",
        "\n",
        "# muestra los vertices\n",
        "print(S2)"
      ],
      "metadata": {
        "colab": {
          "base_uri": "https://localhost:8080/"
        },
        "id": "PRG65L8pawfF",
        "outputId": "2966b855-02a5-4e2f-ca48-0680e71b99c6"
      },
      "execution_count": null,
      "outputs": [
        {
          "output_type": "stream",
          "name": "stdout",
          "text": [
            "[[6 7]\n",
            " [5 6]\n",
            " [1 5]\n",
            " [3 1]\n",
            " [7 3]]\n"
          ]
        }
      ]
    },
    {
      "cell_type": "code",
      "source": [
        "# grafica poligonal\n",
        "tr.plot(plt.axes(), vertices=Vert, segments=S2)\n",
        "\n",
        "# muestra figura\n",
        "plt.show()"
      ],
      "metadata": {
        "colab": {
          "base_uri": "https://localhost:8080/",
          "height": 194
        },
        "id": "2h-Ro4UIX7oQ",
        "outputId": "93702101-905c-4b4b-e7d8-be3c90a7254e"
      },
      "execution_count": null,
      "outputs": [
        {
          "output_type": "display_data",
          "data": {
            "text/plain": [
              "<Figure size 432x288 with 1 Axes>"
            ],
            "image/png": "[encoded data removed]"
          },
          "metadata": {
            "needs_background": "light"
          }
        }
      ]
    },
    {
      "cell_type": "markdown",
      "source": [
        "**Ejercicio 2**\n",
        "\n",
        "* Usa los 10 puntos que has creado anteriormente.\n",
        "* Convierte a un arreglo numpy (puedes usarlo si ya lo tienes del ejercicio anterior).\n",
        "* Encuentra la poligonal que encierra esos puntos.\n",
        "* Grafica la poligonal en color verde.\n"
      ],
      "metadata": {
        "id": "Rn-n5CsdtlVa"
      }
    },
    {
      "cell_type": "markdown",
      "source": [
        "### Ejemplo 3"
      ],
      "metadata": {
        "id": "lZJ607vMdlyl"
      }
    },
    {
      "cell_type": "code",
      "source": [
        "# usando una lista\n",
        "P = [\n",
        "      [ 0.24,  2.5 ], # punto 0\n",
        "      [ 3.2,   1.9 ], # punto 1\n",
        "      [ 1.2,   1.8 ], # punto 2\n",
        "      [ 0.8,   2.9 ], # punto 3\n",
        "      [-0.6,   1.7 ], # punto 4\n",
        "      [ 1.4,   0.2 ], # punto 5\n",
        "      [-1.2,  -0.3 ], # punto 6\n",
        "      [-3.5,   2.3 ]  # punto 7\n",
        "    ]\n",
        "\n",
        "\n",
        "print('Lista de puntos usando:', type(P), P)"
      ],
      "metadata": {
        "colab": {
          "base_uri": "https://localhost:8080/"
        },
        "id": "esHnxeVHX7ip",
        "outputId": "ed583a5b-cb4d-4585-e4df-80f357a4479c"
      },
      "execution_count": null,
      "outputs": [
        {
          "output_type": "stream",
          "name": "stdout",
          "text": [
            "Lista de puntos usando: <class 'list'> [[0.24, 2.5], [3.2, 1.9], [1.2, 1.8], [0.8, 2.9], [-0.6, 1.7], [1.4, 0.2], [-1.2, -0.3], [-3.5, 2.3]]\n"
          ]
        }
      ]
    },
    {
      "cell_type": "code",
      "source": [
        "# poligonal usando lista\n",
        "S3 = tr.convex_hull(P)"
      ],
      "metadata": {
        "colab": {
          "base_uri": "https://localhost:8080/"
        },
        "id": "arZhWvDrX7fr",
        "outputId": "d3f769a5-3440-420e-dacf-02482cd71076"
      },
      "execution_count": null,
      "outputs": [
        {
          "output_type": "stream",
          "name": "stdout",
          "text": [
            "[[6 7]\n",
            " [5 6]\n",
            " [1 5]\n",
            " [3 1]\n",
            " [7 3]]\n"
          ]
        }
      ]
    },
    {
      "cell_type": "code",
      "source": [
        "# grafica poligonal\n",
        "tr.plot(plt.axes(), vertices=P, segments=S3)\n",
        "\n",
        "# agrega texto\n",
        "plt.text(0.4,  2.4,'P0')   # punto 0\n",
        "plt.text(3.3,   1.9,'P1')  # punto 1\n",
        "plt.text(1.3,   1.8,'P2')  # punto 2\n",
        "plt.text(0.9,   2.9,'P3')  # punto 3\n",
        "plt.text(-0.5,   1.7,'P4') # punto 4\n",
        "plt.text(1.6,   0.2 ,'P5') # punto 5\n",
        "plt.text(-1.1,  -0.2,'P6') # punto 6\n",
        "plt.text(-3.5,   2.4,'P7') # punto 7\n",
        "\n",
        "# muestra figura\n",
        "plt.show()"
      ],
      "metadata": {
        "colab": {
          "base_uri": "https://localhost:8080/",
          "height": 195
        },
        "id": "RTDA_X7ZhSuN",
        "outputId": "2b025b83-89ca-4b0e-c66e-1979484edc40"
      },
      "execution_count": null,
      "outputs": [
        {
          "output_type": "display_data",
          "data": {
            "text/plain": [
              "<Figure size 432x288 with 1 Axes>"
            ],
            "image/png": "[encoded data removed]"
          },
          "metadata": {
            "needs_background": "light"
          }
        }
      ]
    },
    {
      "cell_type": "code",
      "source": [
        "## Verifica como la lista de vertices\n",
        "# coincide con las líneas que forman la poligonal\n",
        "\n",
        "# muestra vertices\n",
        "print(S2)\n",
        "\n",
        "# Ejemplo: [6 7] -> línea entre los puntos P6 y P7"
      ],
      "metadata": {
        "id": "Jz9kFIIEhSpL",
        "colab": {
          "base_uri": "https://localhost:8080/"
        },
        "outputId": "f7b9dce7-b416-4390-af0a-418e8b07becc"
      },
      "execution_count": null,
      "outputs": [
        {
          "output_type": "stream",
          "name": "stdout",
          "text": [
            "[[6 7]\n",
            " [5 6]\n",
            " [1 5]\n",
            " [3 1]\n",
            " [7 3]]\n"
          ]
        }
      ]
    },
    {
      "cell_type": "markdown",
      "source": [
        "**Ejercicio 3**\n",
        "\n",
        "* Usa los 10 puntos que has creado anteriormente.\n",
        "* Declaralos como una lista de puntos.\n",
        "* Muestra la lista usando 'print'\n",
        "* Encuentra la poligonal que encierra esos puntos.\n",
        "* Grafica la poligonal en color amarillo.\n",
        "* Asigna un nombre a cada línea (p. ej., Linea-0, Linea-1, etc.) que forma la poligonal y muestralos en la grafica."
      ],
      "metadata": {
        "id": "35Z2PzgeuOPP"
      }
    },
    {
      "cell_type": "markdown",
      "source": [
        "### Ejemplo 4"
      ],
      "metadata": {
        "id": "bHX2rcHSKmgE"
      }
    },
    {
      "cell_type": "code",
      "source": [
        "# lee archivo con lista de puntos (diccionario)\n",
        "archivo_puntos = tr.get_data('dots')\n",
        "\n",
        "# obtiene lista de puntos\n",
        "puntos = archivo_puntos['vertices']\n",
        "\n",
        "# obtiene poligonal\n",
        "segmentos = tr.convex_hull(puntos)\n",
        "\n",
        "# grafica poligonal\n",
        "tr.plot(plt.axes(), vertices=puntos, segments=segmentos)\n",
        "\n",
        "# muestra figura\n",
        "plt.show()"
      ],
      "metadata": {
        "colab": {
          "base_uri": "https://localhost:8080/",
          "height": 252
        },
        "id": "No-sfpTtg7yI",
        "outputId": "27ea9234-c18e-4b6a-a17a-7087a8d311aa"
      },
      "execution_count": null,
      "outputs": [
        {
          "output_type": "display_data",
          "data": {
            "text/plain": [
              "<Figure size 432x288 with 1 Axes>"
            ],
            "image/png": "[encoded data removed]"
          },
          "metadata": {
            "needs_background": "light"
          }
        }
      ]
    },
    {
      "cell_type": "markdown",
      "source": [
        "**Ejercicio 4**\n",
        "\n",
        "* Lee el archivo 'dots' que viene en la librería de 'triangle'\n",
        "* Encuentra la poligonal que encierra esos puntos.\n",
        "* Grafica la poligonal en color cyan.\n",
        "* Agrega un titulo a la figura.\n",
        "* Agrega el cuadro en la parte superior derecha com la leyenda 'poligonal' donde aparezca la línea y su leyenda.\n",
        "* Cambia los marcadores de los puntos a triángulos verdes."
      ],
      "metadata": {
        "id": "4r9AcYZBv1l_"
      }
    },
    {
      "cell_type": "markdown",
      "source": [
        "### Ejemplo 5"
      ],
      "metadata": {
        "id": "vrmDhbOgLj88"
      }
    },
    {
      "cell_type": "code",
      "source": [
        "## Ejemplo utilizando la librería scipy\n",
        "\n",
        "# importa librería\n",
        "from scipy.spatial import ConvexHull\n",
        "\n",
        "# inicia grafica \n",
        "axis = plt.gca(); axis.cla();\n",
        "\n",
        "# obtiene puntos de forma aleatoria\n",
        "puntos_rand = np.random.rand(20, 2)\n",
        "\n",
        "# grafica todos los puntos \n",
        "plt.plot(puntos_rand[:,0], puntos_rand[:,1], 'v')\n",
        "\n",
        "# crea poligonal\n",
        "poligonal = ConvexHull(puntos_rand)\n",
        "\n",
        "# Get and plot the boundary\n",
        "for simplex in poligonal.simplices:\n",
        "    axis.plot(puntos_rand[simplex, 0], puntos_rand[simplex, 1], 'r-')\n",
        "\n",
        "# muestra los vertices de la poligonal\n",
        "print('Poligonal:\\n ', np.array(poligonal.simplices), '\\n\\n')"
      ],
      "metadata": {
        "colab": {
          "base_uri": "https://localhost:8080/",
          "height": 462
        },
        "id": "2VgwFPSldJB3",
        "outputId": "296fb01d-c30f-473a-bb7b-80f61400f39e"
      },
      "execution_count": null,
      "outputs": [
        {
          "output_type": "stream",
          "name": "stdout",
          "text": [
            "Poligonal:\n",
            "  [[ 0 11]\n",
            " [10  5]\n",
            " [10  0]\n",
            " [ 7  5]\n",
            " [ 7  9]\n",
            " [15  9]\n",
            " [ 4 11]\n",
            " [ 4 15]] \n",
            "\n",
            "\n"
          ]
        },
        {
          "output_type": "display_data",
          "data": {
            "text/plain": [
              "<Figure size 432x288 with 1 Axes>"
            ],
            "image/png": "[encoded data removed]"
          },
          "metadata": {
            "needs_background": "light"
          }
        }
      ]
    },
    {
      "cell_type": "markdown",
      "source": [
        "**Ejercicio 5**\n",
        "\n",
        "* Basandote en el ejemplo anterior define una función (metodo) en Python para que genere una poligonal usando de 5 a 20 puntos aleatorios.\n",
        "* Crea un código que llame la función que has creado.\n",
        "* Usa una barra deslizante para permitir al usuario cambiar de 5 a 20 puntos aleatorios.\n",
        "* Agrega un titulo a la figura.\n",
        "* Grafica la poligonal en color brown.\n",
        "* Agrega el cuadro en la parte superior derecha com la leyenda 'poligonal' donde aparezca la línea y su leyenda.\n",
        "* Cambia los marcadores de los puntos que NO son parte de la poligonal a cuadrados amarillos.\n",
        "* Cambia los marcadores de los puntos que SI son parte de la poligonal a circulos verdes."
      ],
      "metadata": {
        "id": "S3babq2oxFgU"
      }
    }
  ]
}