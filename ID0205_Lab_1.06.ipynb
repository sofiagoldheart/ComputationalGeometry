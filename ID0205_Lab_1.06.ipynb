{
  "nbformat": 4,
  "nbformat_minor": 0,
  "metadata": {
    "colab": {
      "provenance": [],
      "include_colab_link": true
    },
    "kernelspec": {
      "name": "python3",
      "display_name": "Python 3"
    },
    "language_info": {
      "name": "python"
    }
  },
  "cells": [
    {
      "cell_type": "markdown",
      "metadata": {
        "id": "view-in-github",
        "colab_type": "text"
      },
      "source": [
        "<a href=\"https://colab.research.google.com/github/sofiagoldheart/ComputationalGeometry/blob/main/ID0205_Lab_1.06.ipynb\" target=\"_parent\"><img src=\"https://colab.research.google.com/assets/colab-badge.svg\" alt=\"Open In Colab\"/></a>"
      ]
    },
    {
      "cell_type": "markdown",
      "source": [
        "## Introducción\n",
        "\n"
      ],
      "metadata": {
        "id": "AHsaIVsLrrqx"
      }
    },
    {
      "cell_type": "markdown",
      "source": [
        "**[Distancia entre dos puntos](https://es.wikipedia.org/wiki/Distancia)**\n",
        "\n",
        "En las matemáticas, la distancia entre dos puntos del espacio euclídeo equivale a la longitud del segmento de la recta que los une, expresado numéricamente. "
      ],
      "metadata": {
        "id": "3e84xaIDt5iO"
      }
    },
    {
      "cell_type": "markdown",
      "source": [
        "La distancia entre dos puntos en geometría es una medida de la separación entre ellos en un plano o en un espacio tridimensional. Se puede calcular utilizando diferentes fórmulas, como la distancia euclídea o la distancia de Manhattan, y su valor es siempre un número positivo o cero. La distancia es un concepto fundamental en la geometría y se utiliza en muchas aplicaciones, como la cartografía, la robótica y la física.\n",
        "\n",
        "\n",
        "\n"
      ],
      "metadata": {
        "id": "BZIuHdgH9VX7"
      }
    },
    {
      "cell_type": "markdown",
      "source": [
        "La [distancia](https://www.geometriaanalitica.info/formula-de-la-distancia-entre-dos-puntos-geometria-ejemplos-y-ejercicios-resueltos/) entre dos puntos es igual a la longitud del segmento que los une. \n",
        "\n",
        "Por lo tanto, en matemáticas, para determinar la distancia entre dos puntos diferentes se deben calcular los cuadrados de las diferencias entre sus coordenadas y luego hallar la raíz de la suma de dichos cuadrados."
      ],
      "metadata": {
        "id": "HpT6dyiut5XT"
      }
    },
    {
      "cell_type": "markdown",
      "source": [
        "![image.png](data:image/png;base64,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)"
      ],
      "metadata": {
        "id": "PhmDJDJN9Cmu"
      }
    },
    {
      "cell_type": "code",
      "source": [
        "#Implementación de la fórmula:\n",
        "import math\n",
        "def distance_between_points(x1, y1, x2, y2):\n",
        "    return math.sqrt((x2 - x1)**2 + (y2 - y1)**2)"
      ],
      "metadata": {
        "id": "-XBxf7RT-SGj"
      },
      "execution_count": null,
      "outputs": []
    },
    {
      "cell_type": "code",
      "execution_count": null,
      "metadata": {
        "id": "E7hyQt-3q1H_",
        "colab": {
          "base_uri": "https://localhost:8080/"
        },
        "outputId": "1c41dad6-f2de-4a08-821a-1cbaf7b8e2a5"
      },
      "outputs": [
        {
          "output_type": "stream",
          "name": "stdout",
          "text": [
            "5.0\n"
          ]
        }
      ],
      "source": [
        "# Este código importa la función sqrt de la biblioteca math y luego define la función distance_between_points que toma los valores de las coordenadas x1, y1, x2, y2 de los dos puntos como argumentos. \n",
        "import math\n",
        "def distance_between_points(x1, y1, x2, y2):\n",
        "# La función devuelve la raíz cuadrada de la suma de los cuadrados de la diferencia entre x2 y x1 y la diferencia entre y2 y y1.\n",
        "    return math.sqrt((x2 - x1)**2 + (y2 - y1)**2)\n",
        "# El código finalmente llama a la función distance_between_points y pasa 1, 1, 4, 5 como argumentos, imprimiendo el resultado.\n",
        "print(distance_between_points(1, 1, 4, 5))"
      ]
    }
  ]
}