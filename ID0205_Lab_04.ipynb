{
  "nbformat": 4,
  "nbformat_minor": 0,
  "metadata": {
    "colab": {
      "provenance": [],
      "include_colab_link": true
    },
    "kernelspec": {
      "name": "python3",
      "display_name": "Python 3"
    },
    "language_info": {
      "name": "python"
    }
  },
  "cells": [
    {
      "cell_type": "markdown",
      "metadata": {
        "id": "view-in-github",
        "colab_type": "text"
      },
      "source": [
        "<a href=\"https://colab.research.google.com/github/sofiagoldheart/ComputationalGeometry/blob/main/ID0205_Lab_04.ipynb\" target=\"_parent\"><img src=\"https://colab.research.google.com/assets/colab-badge.svg\" alt=\"Open In Colab\"/></a>"
      ]
    },
    {
      "cell_type": "markdown",
      "source": [
        "**Grafíca la intersección de 2 rectas**\n",
        "\n",
        "#I. Nivel de dificultad: Baja\n",
        "* Repetir el ejercicio haciendo mejoras en la visualización\n",
        "  * Usar otro tipo de línea, por ejemplo: solida (-), mixta (.-)\n",
        "  * Usar otros colores diferentes para cada línea\n",
        "  * Usar otro color diferente para los puntos\n",
        "  * Cambiar el tamaño del punto\n",
        "  * Cambiar el marcador del punto\n",
        "  * Agregar leyendas para las líneas\n",
        "  * Agregar etiquetas para los ejes\n",
        "  * Agregar titulo\n"
      ],
      "metadata": {
        "id": "oqgxjsf-T-QV"
      }
    },
    {
      "cell_type": "code",
      "source": [
        "import matplotlib.pyplot as plt\n",
        "import numpy as np\n",
        "from random import random\n",
        "## Generación aleatoria de valores (float) entre [0,1]\n",
        "# se requieren 4 puntos para 2 rectas\n",
        "n = 4\n",
        "# se generan 2 números a la vez\n",
        "puntos = [(random(), random()) for i in range(n)]\n",
        "# visualizar los números obtenidos\n",
        "print(puntos)"
      ],
      "metadata": {
        "id": "_C7CaK3An-oz",
        "colab": {
          "base_uri": "https://localhost:8080/"
        },
        "outputId": "bf03e892-7728-48f5-cc92-6718ed042b82"
      },
      "execution_count": 161,
      "outputs": [
        {
          "output_type": "stream",
          "name": "stdout",
          "text": [
            "[(0.5896765250859786, 0.5066594465725356), (0.025885826220869768, 0.7192079994462119), (0.22126769691281822, 0.1349143844300683), (0.14162086820787056, 0.7517888207301522)]\n"
          ]
        }
      ]
    },
    {
      "cell_type": "code",
      "source": [
        "# asignación de cada par de números a cada par de coordenadas (x,y)\n",
        "(x1,y1),(x2,y2),(x3,y3),(x4,y4) = puntos"
      ],
      "metadata": {
        "id": "oOqGKZDWNrcx"
      },
      "execution_count": 162,
      "outputs": []
    },
    {
      "cell_type": "code",
      "source": [
        "plt.figure(figsize=(5,5))\n",
        "# Usar otro tipo de línea -> solida (-), usar otros colores diferentes para cada línea, agregar leyendas para las líneas.\n",
        "plt.plot((x1,x2), (y1,y2), '.y--', linestyle='-' , label='Amarillo')\n",
        "plt.plot((x3,x4), (y3,y4), '.g--', linestyle='-', label='Verde')\n",
        "# Usar otro color diferente para los puntos, cambiar el tamaño del punto, cambiar el marcador del punto.\n",
        "plt.scatter(x1,y1, color='lime', s=20, marker='x')\n",
        "plt.scatter(x2,y2, color='salmon', s=60, marker='s')\n",
        "plt.scatter(x3,y3, color='hotpink', s=120, marker='*')\n",
        "plt.scatter(x4,y4, color='rebeccapurple', s=160, marker='o')\n",
        "# Agregar etiquetas para los ejes.\n",
        "plt.xlabel('Eje x')\n",
        "plt.ylabel('Eje y')\n",
        "# Agregar titulo.\n",
        "plt.title('Gráfico con 2 rectas')\n",
        "plt.legend()\n",
        "plt.show()"
      ],
      "metadata": {
        "colab": {
          "base_uri": "https://localhost:8080/",
          "height": 350
        },
        "id": "pSpLLQ9uPwOZ",
        "outputId": "62ac2c57-3a80-4073-db19-c7fbc43844ad"
      },
      "execution_count": 163,
      "outputs": [
        {
          "output_type": "display_data",
          "data": {
            "text/plain": [
              "<Figure size 360x360 with 1 Axes>"
            ],
            "image/png": "[encoded data removed]"
          },
          "metadata": {
            "needs_background": "light"
          }
        }
      ]
    },
    {
      "cell_type": "code",
      "source": [
        "## Método para encontrar la intersección en 2 rectas\n",
        "def interseccion(p1, p2, p3, p4):\n",
        "    # datos\n",
        "    x1,y1 = p1\n",
        "    x2,y2 = p2\n",
        "    x3,y3 = p3\n",
        "    x4,y4 = p4\n",
        "\n",
        "    denominador = (y4-y3)*(x2-x1) - (x4-x3)*(y2-y1)\n",
        "    # verificar si las líneas son paralelas\n",
        "    if denominador == 0:\n",
        "        return None\n",
        "    res1 = ((x4-x3)*(y1-y3) - (y4-y3)*(x1-x3)) / denominador\n",
        "    # verificar si el resultado esta fuera de rango\n",
        "    if res1 < 0 or res1 > 1:\n",
        "        return None\n",
        "    res2 = ((x2-x1)*(y1-y3) - (y2-y1)*(x1-x3)) / denominador\n",
        "    # verificar si el resultado esta fuera de rango\n",
        "    if res2 < 0 or res2 > 1:\n",
        "        return None\n",
        "    # abcisa del punto de intersección\n",
        "    x = x1 + res1 * (x2-x1)\n",
        "    # ordenada del punto de intersección\n",
        "    y = y1 + res1 * (y2-y1)\n",
        "    # regresa el punto de intersección\n",
        "    return (x,y)"
      ],
      "metadata": {
        "id": "gw_u16QTr-Bv"
      },
      "execution_count": 164,
      "outputs": []
    },
    {
      "cell_type": "code",
      "source": [
        "# encontrar punto de intersección\n",
        "punto_inters = interseccion(*puntos)"
      ],
      "metadata": {
        "id": "KkQ_sjCjPwLo"
      },
      "execution_count": 165,
      "outputs": []
    },
    {
      "cell_type": "code",
      "source": [
        "# gráficar rectas\n",
        "plt.figure(figsize=(5,5))\n",
        "# Usar otro tipo de línea -> solida (-), usar otros colores diferentes para cada línea, agregar leyendas para las líneas.\n",
        "plt.plot((x1,x2), (y1,y2), '.m--', linestyle='-',label='Rosa')\n",
        "plt.plot((x3,x4), (y3,y4), '.c--', linestyle='-',label='Azul')\n",
        "# Usar otro color diferente para los puntos, cambiar el tamaño del punto, cambiar el marcador del punto.\n",
        "plt.scatter(x1,y1, color='crimson', s=20, marker='x')\n",
        "plt.scatter(x2,y2, color='darkorange', s=60, marker='s')\n",
        "plt.scatter(x3,y3, color='royalblue', s=120, marker='*')\n",
        "plt.scatter(x4,y4, color='indigo', s=160, marker='o')\n",
        "# Agregar etiquetas para los ejes.\n",
        "plt.xlabel('Eje x')\n",
        "plt.ylabel('Eje y')\n",
        "# Agregar titulo.\n",
        "plt.title('Intersección de dos rectas')\n",
        "plt.legend()\n",
        "# muestra el punto, solo si existe la intersección\n",
        "if punto_inters is not None:\n",
        "  plt.plot(*punto_inters, 'ok', markersize=10)\n",
        "plt.show()"
      ],
      "metadata": {
        "colab": {
          "base_uri": "https://localhost:8080/",
          "height": 350
        },
        "id": "KOT581dNQki8",
        "outputId": "7c8e6791-917c-49ac-cd13-2817fcb99480"
      },
      "execution_count": 166,
      "outputs": [
        {
          "output_type": "display_data",
          "data": {
            "text/plain": [
              "<Figure size 360x360 with 1 Axes>"
            ],
            "image/png": "[encoded data removed]"
          },
          "metadata": {
            "needs_background": "light"
          }
        }
      ]
    },
    {
      "cell_type": "markdown",
      "metadata": {
        "id": "9ach5gDX_jUw"
      },
      "source": [
        "\n",
        "#II. Nivel de dificultad: Media\n",
        "* Repetir el ejercicio haciendo los siguientes cambios:\n",
        "  * Actualmente los valores de los puntos esta en $[0,1]$\n",
        "  * Generar valores para que los puntos esten entre $[0,10]$\n",
        "  * Generar valores para que los puntos esten entre $[-10,10]$\n",
        "  * Agregar etiqueta del punto de intersección, por ejemplo: P(x,y)\n",
        "  * Agregar etiqueta del punto de intersección con los valores obtenidos, por ejemplo: P(0.45,0.79)\n",
        "  * Agregar una etiqueta en el caso de que no haya intersección, por ejemplo: \"No hay intersección en las rectas\""
      ]
    },
    {
      "cell_type": "code",
      "source": [
        "import matplotlib.pyplot as plt\n",
        "import numpy as np\n",
        "from random import random\n",
        "## Generación aleatoria de valores (float) entre [0,10]\n",
        "# se requieren 4 puntos para 2 rectas\n",
        "n = 4\n",
        "# se generan 2 números a la vez\n",
        "puntos = [(random()*10, random()*10) for i in range(n)]\n",
        "# visualizar los números obtenidos\n",
        "print(puntos)"
      ],
      "metadata": {
        "colab": {
          "base_uri": "https://localhost:8080/"
        },
        "id": "kbBXI2tzlyg0",
        "outputId": "916eb2db-faac-47bf-9932-987b6191f548"
      },
      "execution_count": 173,
      "outputs": [
        {
          "output_type": "stream",
          "name": "stdout",
          "text": [
            "[(0.4395080582801081, 8.938345710798206), (8.786337795420295, 6.772294783200276), (6.9677447814028595, 1.4124346684345912), (7.496499612404391, 3.28615951571111)]\n"
          ]
        }
      ]
    },
    {
      "cell_type": "code",
      "source": [
        "# asignación de cada par de números a cada par de coordenadas (x,y)\n",
        "(x1,y1),(x2,y2),(x3,y3),(x4,y4) = puntos"
      ],
      "metadata": {
        "id": "inX0MXT8sb-T"
      },
      "execution_count": 154,
      "outputs": []
    },
    {
      "cell_type": "code",
      "source": [
        "plt.figure(figsize=(5,5))\n",
        "# Usar otro tipo de línea -> solida (-), usar otros colores diferentes para cada línea, agregar leyendas para las líneas.\n",
        "plt.plot((x1,x2), (y1,y2), '.y--', linestyle='-' , label='Amarillo')\n",
        "plt.plot((x3,x4), (y3,y4), '.g--', linestyle='-', label='Verde')\n",
        "# Usar otro color diferente para los puntos, cambiar el tamaño del punto, cambiar el marcador del punto.\n",
        "plt.scatter(x1,y1, color='lime', s=20, marker='x')\n",
        "plt.scatter(x2,y2, color='salmon', s=60, marker='s')\n",
        "plt.scatter(x3,y3, color='hotpink', s=120, marker='*')\n",
        "plt.scatter(x4,y4, color='rebeccapurple', s=160, marker='o')\n",
        "# Agregar etiquetas para los ejes.\n",
        "plt.xlabel('Eje x')\n",
        "plt.ylabel('Eje y')\n",
        "# Agregar titulo.\n",
        "plt.title('Gráfico con 2 rectas')\n",
        "plt.legend()\n",
        "plt.show()"
      ],
      "metadata": {
        "colab": {
          "base_uri": "https://localhost:8080/",
          "height": 350
        },
        "id": "ZdJlciaCnMWY",
        "outputId": "f7379038-7577-449c-b0b4-31d704b0ad99"
      },
      "execution_count": 155,
      "outputs": [
        {
          "output_type": "display_data",
          "data": {
            "text/plain": [
              "<Figure size 360x360 with 1 Axes>"
            ],
            "image/png": "[encoded data removed]"
          },
          "metadata": {
            "needs_background": "light"
          }
        }
      ]
    },
    {
      "cell_type": "code",
      "source": [
        "## Método para encontrar la intersección en 2 rectas\n",
        "def interseccion(p1, p2, p3, p4):\n",
        "    # datos\n",
        "    x1,y1 = p1\n",
        "    x2,y2 = p2\n",
        "    x3,y3 = p3\n",
        "    x4,y4 = p4\n",
        "    denominador = (y4-y3)*(x2-x1) - (x4-x3)*(y2-y1)\n",
        "    # verificar si las líneas son paralelas\n",
        "    if denominador == 0:\n",
        "        return None\n",
        "    res1 = ((x4-x3)*(y1-y3) - (y4-y3)*(x1-x3)) / denominador\n",
        "    # verificar si el resultado esta fuera de rango\n",
        "    if res1 < 0 or res1 > 10:\n",
        "        return None\n",
        "    res2 = ((x2-x1)*(y1-y3) - (y2-y1)*(x1-x3)) / denominador\n",
        "    # verificar si el resultado esta fuera de rango\n",
        "    if res2 < 0 or res2 > 10:\n",
        "        return None\n",
        "    # abcisa del punto de intersección\n",
        "    x = x1 + res1 * (x2-x1)\n",
        "    # ordenada del punto de intersección\n",
        "    y = y1 + res1 * (y2-y1)\n",
        "    # regresa el punto de intersección\n",
        "    return (x,y)"
      ],
      "metadata": {
        "id": "kvFOmeCYnPbA"
      },
      "execution_count": 174,
      "outputs": []
    },
    {
      "cell_type": "code",
      "source": [
        "# encontrar punto de intersección\n",
        "punto_inters = interseccion(*puntos)"
      ],
      "metadata": {
        "id": "0npIT0clnSJJ"
      },
      "execution_count": 175,
      "outputs": []
    },
    {
      "cell_type": "code",
      "source": [
        "# gráficar rectas\n",
        "plt.figure(figsize=(5,5))\n",
        "# Usar otro tipo de línea -> solida (-), usar otros colores diferentes para cada línea, agregar leyendas para las líneas.\n",
        "plt.plot((x1,x2), (y1,y2), '.m--', linestyle='-',label='Rosa')\n",
        "plt.plot((x3,x4), (y3,y4), '.c--', linestyle='-',label='Azul')\n",
        "# Usar otro color diferente para los puntos, cambiar el tamaño del punto, cambiar el marcador del punto.\n",
        "plt.scatter(x1,y1, color='crimson', s=20, marker='x')\n",
        "plt.scatter(x2,y2, color='darkorange', s=60, marker='s')\n",
        "plt.scatter(x3,y3, color='royalblue', s=120, marker='*')\n",
        "plt.scatter(x4,y4, color='indigo', s=160, marker='o')\n",
        "# Agregar etiquetas para los ejes.\n",
        "plt.xlabel('Eje x')\n",
        "plt.ylabel('Eje y')\n",
        "# Agregar titulo.\n",
        "plt.title('Intersección de dos rectas')\n",
        "plt.legend()\n",
        "# muestra el punto, solo si existe la intersección\n",
        "if punto_inters is not None:\n",
        "  plt.plot(*punto_inters, 'ok', markersize=10)\n",
        "plt.show()"
      ],
      "metadata": {
        "colab": {
          "base_uri": "https://localhost:8080/",
          "height": 350
        },
        "id": "1mRPvwSjnVdy",
        "outputId": "c612f142-46d0-4131-e45e-9b716ccc241a"
      },
      "execution_count": 176,
      "outputs": [
        {
          "output_type": "display_data",
          "data": {
            "text/plain": [
              "<Figure size 360x360 with 1 Axes>"
            ],
            "image/png": "[encoded data removed]"
          },
          "metadata": {
            "needs_background": "light"
          }
        }
      ]
    }
  ]
}