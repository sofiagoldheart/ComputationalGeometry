{
  "nbformat": 4,
  "nbformat_minor": 0,
  "metadata": {
    "colab": {
      "provenance": [],
      "include_colab_link": true
    },
    "kernelspec": {
      "name": "python3",
      "display_name": "Python 3"
    },
    "language_info": {
      "name": "python"
    }
  },
  "cells": [
    {
      "cell_type": "markdown",
      "metadata": {
        "id": "view-in-github",
        "colab_type": "text"
      },
      "source": [
        "<a href=\"https://colab.research.google.com/github/sofiagoldheart/ComputationalGeometry/blob/main/ID0205_Lab_04.ipynb\" target=\"_parent\"><img src=\"https://colab.research.google.com/assets/colab-badge.svg\" alt=\"Open In Colab\"/></a>"
      ]
    },
    {
      "cell_type": "markdown",
      "source": [
        "**Grafíca la intersección de 2 rectas**\n",
        "\n",
        "#I. Nivel de dificultad: Baja\n",
        "* Repetir el ejercicio haciendo mejoras en la visualización\n",
        "  * Usar otro tipo de línea, por ejemplo: solida (-), mixta (.-)\n",
        "  * Usar otros colores diferentes para cada línea\n",
        "  * Usar otro color diferente para los puntos\n",
        "  * Cambiar el tamaño del punto\n",
        "  * Cambiar el marcador del punto\n",
        "  * Agregar leyendas para las líneas\n",
        "  * Agregar etiquetas para los ejes\n",
        "  * Agregar titulo\n"
      ],
      "metadata": {
        "id": "oqgxjsf-T-QV"
      }
    },
    {
      "cell_type": "code",
      "source": [
        "import matplotlib.pyplot as plt\n",
        "import numpy as np\n",
        "from random import random\n",
        "## Generación aleatoria de valores (float) entre [0,1]\n",
        "# se requieren 4 puntos para 2 rectas\n",
        "n = 4\n",
        "# se generan 2 números a la vez\n",
        "puntos = [(random(), random()) for i in range(n)]\n",
        "# visualizar los números obtenidos\n",
        "print(puntos)"
      ],
      "metadata": {
        "id": "_C7CaK3An-oz",
        "colab": {
          "base_uri": "https://localhost:8080/"
        },
        "outputId": "2e1f924b-9944-4457-c755-d54825378e30"
      },
      "execution_count": null,
      "outputs": [
        {
          "output_type": "stream",
          "name": "stdout",
          "text": [
            "[(0.6655174769705647, 0.044011806350587324), (0.7024448223151313, 0.14500430425363797), (0.6286215653853451, 0.8870306332595362), (0.28433697772436506, 0.8769973876101019)]\n"
          ]
        }
      ]
    },
    {
      "cell_type": "code",
      "source": [
        "# asignación de cada par de números a cada par de coordenadas (x,y)\n",
        "(x1,y1),(x2,y2),(x3,y3),(x4,y4) = puntos"
      ],
      "metadata": {
        "id": "oOqGKZDWNrcx"
      },
      "execution_count": null,
      "outputs": []
    },
    {
      "cell_type": "code",
      "source": [
        "## Método para encontrar la intersección en 2 rectas\n",
        "def interseccion(p1, p2, p3, p4):\n",
        "    # datos\n",
        "    x1,y1 = p1\n",
        "    x2,y2 = p2\n",
        "    x3,y3 = p3\n",
        "    x4,y4 = p4\n",
        "\n",
        "    denominador = (y4-y3)*(x2-x1) - (x4-x3)*(y2-y1)\n",
        "    # verificar si las líneas son paralelas\n",
        "    if denominador == 0:\n",
        "        return None\n",
        "    res1 = ((x4-x3)*(y1-y3) - (y4-y3)*(x1-x3)) / denominador\n",
        "    # verificar si el resultado esta fuera de rango\n",
        "    if res1 < 0 or res1 > 1:\n",
        "        return None\n",
        "    res2 = ((x2-x1)*(y1-y3) - (y2-y1)*(x1-x3)) / denominador\n",
        "    # verificar si el resultado esta fuera de rango\n",
        "    if res2 < 0 or res2 > 1:\n",
        "        return None\n",
        "    # abcisa del punto de intersección\n",
        "    x = x1 + res1 * (x2-x1)\n",
        "    # ordenada del punto de intersección\n",
        "    y = y1 + res1 * (y2-y1)\n",
        "    # regresa el punto de intersección\n",
        "    return (x,y)"
      ],
      "metadata": {
        "id": "gw_u16QTr-Bv"
      },
      "execution_count": null,
      "outputs": []
    },
    {
      "cell_type": "code",
      "source": [
        "# encontrar punto de intersección\n",
        "punto_inters = interseccion(*puntos)"
      ],
      "metadata": {
        "id": "KkQ_sjCjPwLo"
      },
      "execution_count": null,
      "outputs": []
    },
    {
      "cell_type": "code",
      "source": [
        "# gráficar rectas\n",
        "plt.figure(figsize=(5,5))\n",
        "# Usar otro tipo de línea -> solida (-), usar otros colores diferentes para cada línea, agregar leyendas para las líneas.\n",
        "plt.plot((x1,x2), (y1,y2), '.m--', linestyle='-',label='Rosa')\n",
        "plt.plot((x3,x4), (y3,y4), '.c--', linestyle='-',label='Azul')\n",
        "# Usar otro color diferente para los puntos, cambiar el tamaño del punto, cambiar el marcador del punto.\n",
        "plt.scatter(x1,y1, color='crimson', s=20, marker='x')\n",
        "plt.scatter(x2,y2, color='darkorange', s=60, marker='s')\n",
        "plt.scatter(x3,y3, color='royalblue', s=120, marker='*')\n",
        "plt.scatter(x4,y4, color='indigo', s=160, marker='o')\n",
        "# Agregar etiquetas para los ejes.\n",
        "plt.xlabel('Eje x')\n",
        "plt.ylabel('Eje y')\n",
        "# Agregar titulo.\n",
        "plt.title('Intersección de dos rectas')\n",
        "plt.legend()\n",
        "# muestra el punto, solo si existe la intersección\n",
        "if punto_inters is not None:\n",
        "  plt.plot(*punto_inters, 'ok', markersize=10)\n",
        "plt.show()"
      ],
      "metadata": {
        "colab": {
          "base_uri": "https://localhost:8080/",
          "height": 350
        },
        "id": "KOT581dNQki8",
        "outputId": "82973b25-1f36-4ade-ee2a-a9671741ea31"
      },
      "execution_count": null,
      "outputs": [
        {
          "output_type": "display_data",
          "data": {
            "text/plain": [
              "<Figure size 360x360 with 1 Axes>"
            ],
            "image/png": "[encoded data removed]"
          },
          "metadata": {
            "needs_background": "light"
          }
        }
      ]
    },
    {
      "cell_type": "markdown",
      "metadata": {
        "id": "9ach5gDX_jUw"
      },
      "source": [
        "\n",
        "#II. Nivel de dificultad: Media\n",
        "* Repetir el ejercicio haciendo los siguientes cambios:\n",
        "  * Actualmente los valores de los puntos esta en $[0,1]$\n",
        "  * Generar valores para que los puntos esten entre $[0,10]$\n",
        "  * Generar valores para que los puntos esten entre $[-10,10]$\n",
        "  * Agregar etiqueta del punto de intersección, por ejemplo: P(x,y)\n",
        "  * Agregar etiqueta del punto de intersección con los valores obtenidos, por ejemplo: P(0.45,0.79)\n",
        "  * Agregar una etiqueta en el caso de que no haya intersección, por ejemplo: \"No hay intersección en las rectas\""
      ]
    },
    {
      "cell_type": "markdown",
      "source": [
        "#Generar valores para que los puntos esten entre  [0,10]"
      ],
      "metadata": {
        "id": "DqjsW24tyeZc"
      }
    },
    {
      "cell_type": "code",
      "source": [
        "import matplotlib.pyplot as plt\n",
        "import numpy as np\n",
        "from random import random\n",
        "## Generación aleatoria de valores (float) entre [0,10]\n",
        "# se requieren 4 puntos para 2 rectas\n",
        "n = 4\n",
        "# se generan 2 números a la vez\n",
        "puntos = [(random()*10, random()*10) for i in range(n)]\n",
        "# visualizar los números obtenidos\n",
        "print(puntos)"
      ],
      "metadata": {
        "colab": {
          "base_uri": "https://localhost:8080/"
        },
        "id": "kbBXI2tzlyg0",
        "outputId": "e9f640ce-6604-445d-fad9-40ad46f2684b"
      },
      "execution_count": 227,
      "outputs": [
        {
          "output_type": "stream",
          "name": "stdout",
          "text": [
            "[(9.271941790572546, 6.515407864109722), (4.991190255467907, 9.587707038361135), (5.30846775589863, 7.769047429635528), (9.391679381785295, 9.203293997896715)]\n"
          ]
        }
      ]
    },
    {
      "cell_type": "code",
      "source": [
        "# asignación de cada par de números a cada par de coordenadas (x,y)\n",
        "(x1,y1),(x2,y2),(x3,y3),(x4,y4) = puntos"
      ],
      "metadata": {
        "id": "inX0MXT8sb-T"
      },
      "execution_count": 228,
      "outputs": []
    },
    {
      "cell_type": "code",
      "source": [
        "## Método para encontrar la intersección en 2 rectas\n",
        "def interseccion(p1, p2, p3, p4):\n",
        "    # datos\n",
        "    x1,y1 = p1\n",
        "    x2,y2 = p2\n",
        "    x3,y3 = p3\n",
        "    x4,y4 = p4\n",
        "    denominador = (y4-y3)*(x2-x1) - (x4-x3)*(y2-y1)\n",
        "    # verificar si las líneas son paralelas\n",
        "    if denominador == 0:\n",
        "        return None\n",
        "    res1 = ((x4-x3)*(y1-y3) - (y4-y3)*(x1-x3)) / denominador\n",
        "    # verificar si el resultado esta fuera de rango\n",
        "    if res1 < 0 or res1 > 10:\n",
        "        return None\n",
        "    res2 = ((x2-x1)*(y1-y3) - (y2-y1)*(x1-x3)) / denominador\n",
        "    # verificar si el resultado esta fuera de rango\n",
        "    if res2 < 0 or res2 > 10:\n",
        "        return None\n",
        "    # abcisa del punto de intersección\n",
        "    x = x1 + res1 * (x2-x1)\n",
        "    # ordenada del punto de intersección\n",
        "    y = y1 + res1 * (y2-y1)\n",
        "    # regresa el punto de intersección\n",
        "    return (x,y)"
      ],
      "metadata": {
        "id": "kvFOmeCYnPbA"
      },
      "execution_count": 229,
      "outputs": []
    },
    {
      "cell_type": "code",
      "source": [
        "# encontrar punto de intersección\n",
        "punto_inters = interseccion(*puntos)"
      ],
      "metadata": {
        "id": "Th3Mpi8bx8e3"
      },
      "execution_count": 230,
      "outputs": []
    },
    {
      "cell_type": "code",
      "source": [
        "# gráficar rectas\n",
        "plt.figure(figsize=(5,5))\n",
        "# Usar otro tipo de línea -> solida (-), usar otros colores diferentes para cada línea, agregar leyendas para las líneas.\n",
        "plt.plot((x1,x2), (y1,y2), '.m--', linestyle='-',label='Rosa')\n",
        "plt.plot((x3,x4), (y3,y4), '.c--', linestyle='-',label='Azul')\n",
        "# Usar otro color diferente para los puntos, cambiar el tamaño del punto, cambiar el marcador del punto.\n",
        "plt.scatter(x1,y1, color='crimson', s=20, marker='x')\n",
        "plt.scatter(x2,y2, color='darkorange', s=60, marker='s')\n",
        "plt.scatter(x3,y3, color='royalblue', s=120, marker='*')\n",
        "plt.scatter(x4,y4, color='indigo', s=160, marker='o')\n",
        "# Agregar etiquetas para los ejes.\n",
        "plt.xlabel('Eje x')\n",
        "plt.ylabel('Eje y')\n",
        "# Agregar titulo.\n",
        "plt.title('Intersección de dos rectas')\n",
        "plt.legend()\n",
        "# muestra el punto, solo si existe la intersección\n",
        "if punto_inters is not None:\n",
        "  plt.plot(*punto_inters, 'ok', markersize=10)\n",
        "  plt.annotate(\"Intersección P(x,y)\", punto_inters, xytext=(30, -30), textcoords='offset points',\n",
        "             ha='center', va='bottom',\n",
        "             bbox=dict(boxstyle='round,pad=0.5', fc='yellow', alpha=0.5),\n",
        "             arrowprops=dict(arrowstyle = '->', connectionstyle='arc3,rad=0'))\n",
        "\n",
        "plt.show()"
      ],
      "metadata": {
        "colab": {
          "base_uri": "https://localhost:8080/",
          "height": 350
        },
        "id": "mucaNm-Cx-eW",
        "outputId": "7dd79e2c-6770-414b-dd3d-b8e6a1630c68"
      },
      "execution_count": 232,
      "outputs": [
        {
          "output_type": "display_data",
          "data": {
            "text/plain": [
              "<Figure size 360x360 with 1 Axes>"
            ],
            "image/png": "[encoded data removed]"
          },
          "metadata": {
            "needs_background": "light"
          }
        }
      ]
    },
    {
      "cell_type": "markdown",
      "source": [
        "#Generar valores para que los puntos esten entre  [-10,10]"
      ],
      "metadata": {
        "id": "LfCGQTmSyhdb"
      }
    },
    {
      "cell_type": "code",
      "source": [
        "import matplotlib.pyplot as plt\n",
        "import numpy as np\n",
        "from random import random\n",
        "## Generación aleatoria de valores (float) entre [0,10]\n",
        "# se requieren 4 puntos para 2 rectas\n",
        "n = 4\n",
        "# se generan 2 números a la vez\n",
        "puntos = [(uniform(-10, 10), uniform(-10, 10)) for i in range(n)]\n",
        "# visualizar los números obtenidos\n",
        "print(puntos)"
      ],
      "metadata": {
        "colab": {
          "base_uri": "https://localhost:8080/"
        },
        "id": "2w5Ki1l1yqCE",
        "outputId": "53f6dd3f-3b88-4139-b61f-45f2d3bef621"
      },
      "execution_count": null,
      "outputs": [
        {
          "output_type": "stream",
          "name": "stdout",
          "text": [
            "[(5.511043322631295, 1.528895542261811), (-9.672008900124712, 3.7858314111649634), (-1.231521282814148, 2.088490135949961), (-6.930951562064895, -5.069140730666398)]\n"
          ]
        }
      ]
    },
    {
      "cell_type": "code",
      "source": [
        "# asignación de cada par de números a cada par de coordenadas (x,y)\n",
        "(x1,y1),(x2,y2),(x3,y3),(x4,y4) = puntos"
      ],
      "metadata": {
        "id": "6MG0cbmFyqnU"
      },
      "execution_count": null,
      "outputs": []
    },
    {
      "cell_type": "code",
      "source": [
        "## Método para encontrar la intersección en 2 rectas\n",
        "def interseccion(p1, p2, p3, p4):\n",
        "    # datos\n",
        "    x1,y1 = p1\n",
        "    x2,y2 = p2\n",
        "    x3,y3 = p3\n",
        "    x4,y4 = p4\n",
        "    denominador = (y4-y3)*(x2-x1) - (x4-x3)*(y2-y1)\n",
        "    # verificar si las líneas son paralelas\n",
        "    if denominador == 0:\n",
        "        return None\n",
        "    res1 = ((x4-x3)*(y1-y3) - (y4-y3)*(x1-x3)) / denominador\n",
        "    # verificar si el resultado esta fuera de rango\n",
        "    if res1 < 0 or res1 > 10:\n",
        "        return None\n",
        "    res2 = ((x2-x1)*(y1-y3) - (y2-y1)*(x1-x3)) / denominador\n",
        "    # verificar si el resultado esta fuera de rango\n",
        "    if res2 < 0 or res2 > 10:\n",
        "        return None\n",
        "    # abcisa del punto de intersección\n",
        "    x = x1 + res1 * (x2-x1)\n",
        "    # ordenada del punto de intersección\n",
        "    y = y1 + res1 * (y2-y1)\n",
        "    # regresa el punto de intersección\n",
        "    return (x,y)"
      ],
      "metadata": {
        "id": "Ev4KF-Nryui7"
      },
      "execution_count": null,
      "outputs": []
    },
    {
      "cell_type": "code",
      "source": [
        "# encontrar punto de intersección\n",
        "punto_inters = interseccion(*puntos)"
      ],
      "metadata": {
        "id": "2oSzSP5Mywxb"
      },
      "execution_count": null,
      "outputs": []
    },
    {
      "cell_type": "code",
      "source": [
        "# gráficar rectas\n",
        "plt.figure(figsize=(5,5))\n",
        "# Usar otro tipo de línea -> solida (-), usar otros colores diferentes para cada línea, agregar leyendas para las líneas.\n",
        "plt.plot((x1,x2), (y1,y2), '.m--', linestyle='-',label='Rosa')\n",
        "plt.plot((x3,x4), (y3,y4), '.c--', linestyle='-',label='Azul')\n",
        "# Usar otro color diferente para los puntos, cambiar el tamaño del punto, cambiar el marcador del punto.\n",
        "plt.scatter(x1,y1, color='crimson', s=20, marker='x')\n",
        "plt.scatter(x2,y2, color='darkorange', s=60, marker='s')\n",
        "plt.scatter(x3,y3, color='royalblue', s=120, marker='*')\n",
        "plt.scatter(x4,y4, color='indigo', s=160, marker='o')\n",
        "# Agregar etiquetas para los ejes.\n",
        "plt.xlabel('Eje x')\n",
        "plt.ylabel('Eje y')\n",
        "# Agregar titulo.\n",
        "plt.title('Intersección de dos rectas')\n",
        "plt.legend()\n",
        "# muestra el punto, solo si existe la intersección\n",
        "if punto_inters is not None:\n",
        "  plt.plot(*punto_inters, 'ok', markersize=10)\n",
        "  plt.annotate(\"Intersección P(x,y)\", punto_inters, xytext=(30, -30), textcoords='offset points',\n",
        "             ha='center', va='bottom',\n",
        "             bbox=dict(boxstyle='round,pad=0.5', fc='yellow', alpha=0.5),\n",
        "             arrowprops=dict(arrowstyle = '->', connectionstyle='arc3,rad=0'))\n",
        "plt.show()"
      ],
      "metadata": {
        "colab": {
          "base_uri": "https://localhost:8080/",
          "height": 350
        },
        "id": "KPZ3EDSOyymE",
        "outputId": "607c921b-a27b-4341-9f55-42a7935b46d3"
      },
      "execution_count": 233,
      "outputs": [
        {
          "output_type": "display_data",
          "data": {
            "text/plain": [
              "<Figure size 360x360 with 1 Axes>"
            ],
            "image/png": "[encoded data removed]"
          },
          "metadata": {
            "needs_background": "light"
          }
        }
      ]
    }
  ]
}