{
  "nbformat": 4,
  "nbformat_minor": 0,
  "metadata": {
    "colab": {
      "provenance": [],
      "include_colab_link": true
    },
    "kernelspec": {
      "name": "python3",
      "display_name": "Python 3"
    },
    "language_info": {
      "name": "python"
    }
  },
  "cells": [
    {
      "cell_type": "markdown",
      "metadata": {
        "id": "view-in-github",
        "colab_type": "text"
      },
      "source": [
        "<a href=\"https://colab.research.google.com/github/sofiagoldheart/ComputationalGeometry/blob/main/ID0205_Lab_3.03.ipynb\" target=\"_parent\"><img src=\"https://colab.research.google.com/assets/colab-badge.svg\" alt=\"Open In Colab\"/></a>"
      ]
    },
    {
      "cell_type": "markdown",
      "source": [
        "#ID0205 - Geometría Computacional\n",
        "\n",
        "### Primavera 2023\n",
        "\n",
        "### ID0205_Lab-3.03\n",
        "\n",
        "**Profesor Enrique Naredo García**\n",
        "\n",
        "<font size = 2> \n",
        "©️ Todos los derechos reservados. All rights reserved.\n",
        "\n",
        "*Nota: El presente documento es una herramienta diseñada única y exclusivamente para los estudiantes de la asignatura arriba mencionada. Queda prohibido compartir este documento entre otros estudiantes, aún siendo de la misma clase, grupo o de la Universidad sin consentimiento del autor. Queda prohibida la reproducción total o parcial de este documento por cualquier medio o procedimiento, ya sea electrónico o mecánico, el tratamiento informático, el alquiler o cualquier otra forma de cesión sin la autorización previa y por escrito del titular del copyright.*\n",
        "</font>"
      ],
      "metadata": {
        "id": "KR2Hh5ZyxwmH"
      }
    },
    {
      "cell_type": "markdown",
      "source": [
        "##[Búsqueda Binaria](https://es.wikipedia.org/wiki/B%C3%BAsqueda_binaria)\n",
        "\n",
        "En ciencias de la computación y matemáticas, la búsqueda binaria, también conocida como \n",
        "\n",
        "* búsqueda de intervalo medio​ \n",
        "* búsqueda logarítmica, \n",
        "\n",
        "es un algoritmo de búsqueda que encuentra la posición de un valor en un array ordenado.\n",
        "\n",
        "Compara el valor con el elemento en el medio del arreglo, si no son iguales, la mitad en la cual el valor no puede estar es eliminada y la búsqueda continúa en la mitad restante hasta que el valor se encuentre. "
      ],
      "metadata": {
        "id": "V_SmHaCzy67_"
      }
    },
    {
      "cell_type": "markdown",
      "source": [
        "**Ejercicio**\n",
        "\n",
        "Utiliza las celdas siguientes y sus códigos para crear una clase que implemente la búsqueda binaria.\n",
        "\n",
        "* Toma en cuenta que el código puede requerir indentación,\n",
        "* apropiate del código mediante renombrar en español las funciones y variables,\n",
        "* mantén sin cambio las palabras reservadas, usualmente en azul,\n",
        "* identifica los métodos y funciones que deben formar parte de la clase,\n",
        "* identifica el código que se utiliza para probar tu clase,\n",
        "* en la entrega de este ejercicio agrega tu propia introducción,\n",
        "* agrega una celda de texto para explicar (de acuerdo a tu propia investigación) cada método (insertar, inorder, etc),\n",
        "* agrega comentarios pertinentes en tu código,\n",
        "* se creativo y propón otros ejemplos,\n",
        "* agrega las conclusiones de todo lo que aprendiste usando tus propias palabras,\n",
        "* finalmente agrega las referencias utilizadas."
      ],
      "metadata": {
        "id": "yU0B0IMAut1K"
      }
    },
    {
      "cell_type": "markdown",
      "source": [
        "#Introducción\n",
        "En este ejercicio se implementa la búsqueda binaria en una clase llamada Node utilizando Python y Jupyter. La búsqueda binaria es un algoritmo que busca un elemento en una lista ordenada comparando el valor medio de la lista con el valor buscado y eliminando la mitad en la que no puede estar el valor. Este proceso se repite hasta encontrar el valor buscado o hasta que se reduzca la lista a un solo elemento."
      ],
      "metadata": {
        "id": "xlOcWsHzbJp1"
      }
    },
    {
      "cell_type": "code",
      "source": [
        "# class\n",
        "def __init__(self, val=None):\n",
        "self.izquierda = None\n",
        "self.derecha = None\n",
        "self.valor = val\n"
      ],
      "metadata": {
        "id": "izm5XUVLizrO"
      },
      "execution_count": null,
      "outputs": []
    },
    {
      "cell_type": "code",
      "source": [
        "# insertar\n",
        "def insert(self, valor):\n",
        "if not self.valor:\n",
        "self.valor = valor\n",
        "return\n",
        "\n",
        "if self.valor == valor:\n",
        "return\n",
        "\n",
        "if valor < self.valor:\n",
        "if self.izquierda:\n",
        "self.izquierda.insert(valor)\n",
        "return\n",
        "self.izquierda = MiNodo(valor)\n",
        "return\n",
        "\n",
        "if self.derecha:\n",
        "self.derecha.insert(valor)\n",
        "return\n",
        "self.derecha = MiNodo(valor)"
      ],
      "metadata": {
        "id": "AU_bHqlHjPEO"
      },
      "execution_count": null,
      "outputs": []
    },
    {
      "cell_type": "code",
      "source": [
        "# mínimo\n",
        "def get_min(self):\n",
        "current = self\n",
        "while current.izquierda is not None:\n",
        "    current = current.izquierda\n",
        "return current.val"
      ],
      "metadata": {
        "id": "PIk5P2aYizo2"
      },
      "execution_count": null,
      "outputs": []
    },
    {
      "cell_type": "code",
      "source": [
        "# máximo\n",
        "def get_max(self):\n",
        "current = self\n",
        "while current.derecha is not None:\n",
        "current = current.derecha\n",
        "return current.val"
      ],
      "metadata": {
        "id": "2wbQThjNizmf"
      },
      "execution_count": null,
      "outputs": []
    },
    {
      "cell_type": "code",
      "source": [
        "# borrar\n",
        "def delete(self, val):\n",
        "if self == None:\n",
        "return self\n",
        "if val < self.val:\n",
        "self.izquierda = self.izquierda.delete(val)\n",
        "return self\n",
        "if val > self.val:\n",
        "self.derecha = self.derecha.delete(val)\n",
        "return self\n",
        "if self.derecha == None:\n",
        "return self.izquierda\n",
        "if self.izquierda == None:\n",
        "return self.derecha\n",
        "min_larger_node = self.derecha\n",
        "while min_larger_node.izquierda:\n",
        "min_larger_node = min_larger_node.izquierda\n",
        "self.val = min_larger_node.val\n",
        "self.derecha = self.izquierda.delete(min_larger_node.val)\n",
        "return self\n"
      ],
      "metadata": {
        "id": "tKusLAjDj0rS"
      },
      "execution_count": null,
      "outputs": []
    },
    {
      "cell_type": "code",
      "source": [
        "# verifica si existe un valor\n",
        "def exists(self, val):\n",
        "if val == self.val:\n",
        "return True\n",
        "\n",
        "if val < self.val:\n",
        "if self.izquierda == None:\n",
        "return False\n",
        "return self.izquierda.exists(val)\n",
        "\n",
        "if self.derecha == None:\n",
        "return False\n",
        "return self.derecha.exists(val)\n"
      ],
      "metadata": {
        "id": "L5iSZOh5j0o9"
      },
      "execution_count": null,
      "outputs": []
    },
    {
      "cell_type": "code",
      "source": [
        "# imprime los valores en orden de sus claves\n",
        "def inorder(self, vals):\n",
        "if self.izquierda is not None:\n",
        "self.izquierda.inorder(vals)\n",
        "if self.val is not None:\n",
        "vals.append(self.val)\n",
        "if self.derecha is not None:\n",
        "self.derecha.inorder(vals)\n",
        "return vals\n"
      ],
      "metadata": {
        "id": "SxibQlanj0mp"
      },
      "execution_count": null,
      "outputs": []
    },
    {
      "cell_type": "code",
      "source": [
        "# \n",
        "def preorder(self, vals):\n",
        "if self.val is not None:\n",
        "vals.append(self.val)\n",
        "if self.izquierda is not None:\n",
        "self.izquierda.preorder(vals)\n",
        "if self.derecha is not None:\n",
        "self.derecha.preorder(vals)\n",
        "return vals\n"
      ],
      "metadata": {
        "id": "bX-8Bj0Fizke"
      },
      "execution_count": null,
      "outputs": []
    },
    {
      "cell_type": "code",
      "source": [
        "def postorder(self, vals):\n",
        "if self.izquierda is not None:\n",
        "self.izquierda.postorder(vals)\n",
        "if self.derecha is not None:\n",
        "self.derecha.postorder(vals)\n",
        "if self.val is not None:\n",
        "vals.append(self.val)\n",
        "return vals\n"
      ],
      "metadata": {
        "id": "Nb7NaEOHiziO"
      },
      "execution_count": null,
      "outputs": []
    },
    {
      "cell_type": "code",
      "source": [
        "# lista de números\n",
        "numeros = [2, 16, 8, 9, 21, 11, 13, 5, 14, 24, 18]\n"
      ],
      "metadata": {
        "id": "KGDE1Z8Pk-DF"
      },
      "execution_count": null,
      "outputs": []
    },
    {
      "cell_type": "code",
      "source": [
        "# crea una isntancia de la clase\n",
        "bst = Node()"
      ],
      "metadata": {
        "id": "8skDe31jlPbY"
      },
      "execution_count": null,
      "outputs": []
    },
    {
      "cell_type": "code",
      "source": [
        "# inserta los números\n",
        "for num in nums: #numeros\n",
        "bst.insert(num)"
      ],
      "metadata": {
        "id": "0JUfTeHTlZaL"
      },
      "execution_count": null,
      "outputs": []
    },
    {
      "cell_type": "code",
      "source": [
        "# imprime en preorden\n",
        "print(\"preorder:\")\n",
        "print(bst.preorden([]))\n",
        "print(\"#\")\n"
      ],
      "metadata": {
        "id": "ckUmcArVli97"
      },
      "execution_count": null,
      "outputs": []
    },
    {
      "cell_type": "code",
      "source": [
        "# imprime en postorden\n",
        "print(\"postorder:\")\n",
        "print(bst.postorden([]))\n",
        "print(\"#\")"
      ],
      "metadata": {
        "id": "0xkGecjMlyl6"
      },
      "execution_count": null,
      "outputs": []
    },
    {
      "cell_type": "code",
      "source": [
        "# imprime en inorden\n",
        "print(\"inorder:\")\n",
        "print(bst.inorden([]))\n",
        "print(\"#\")"
      ],
      "metadata": {
        "id": "O3JRBz9ql4Zh"
      },
      "execution_count": null,
      "outputs": []
    },
    {
      "cell_type": "code",
      "source": [
        "# usa otra muestra\n",
        "numeros = [12, 6, 10]"
      ],
      "metadata": {
        "id": "t-wcYAXoml52"
      },
      "execution_count": null,
      "outputs": []
    },
    {
      "cell_type": "code",
      "source": [
        "# borra algunos números\n",
        "print(\"deleting \" + str(nums))\n",
        "for num in nums: #numeros\n",
        "bst.delete(num)\n",
        "print(\"#\")"
      ],
      "metadata": {
        "id": "sUB5BPwymyGE"
      },
      "execution_count": null,
      "outputs": []
    },
    {
      "cell_type": "code",
      "source": [
        "# imprime \n",
        "print(\"4 exists:\")\n",
        "print(bst.exists(4))\n",
        "print(\"2 exists:\")\n",
        "print(bst.exists(2))\n",
        "print(\"12 exists:\")\n",
        "print(bst.exists(12))\n",
        "print(\"18 exists:\")\n",
        "print(bst.exists(18))"
      ],
      "metadata": {
        "id": "02f2D5zgk9_J"
      },
      "execution_count": null,
      "outputs": []
    },
    {
      "cell_type": "markdown",
      "source": [
        "La clase _init_ implementa un árbol binario de búsqueda, donde cada nodo tiene un valor y dos sub-árboles, uno izquierdo y otro derecho, que contienen valores menores y mayores que el valor del nodo actual, respectivamente. Los métodos implementados en la clase incluyen la inserción de un valor en el árbol, la búsqueda de valores, el borrado de valores, y la impresión de los valores en orden preorden, postorden e inorder.\n",
        "\n",
        "La inserción de un valor en el árbol se realiza a través del método insert(), que verifica si el nodo actual no tiene un valor y, en ese caso, lo establece como el valor a insertar. Si el valor ya existe en el árbol, la función no hace nada. Si el valor es menor que el valor del nodo actual, se llama a la función insert() en el sub-árbol izquierdo, y si es mayor, se llama a la función insert() en el sub-árbol derecho.\n",
        "\n",
        "El método inorder() imprime los valores del árbol en orden inorder (izquierda - raíz - derecha), el método preorder() imprime los valores en orden preorder (raíz - izquierda - derecha), y el método postorder() imprime los valores en orden postorder (izquierda - derecha - raíz).\n",
        "\n",
        "Los métodos get_min() y get_max() devuelven el valor mínimo y máximo en el árbol binario de búsqueda, respectivamente.\n",
        "\n",
        "get_min() recorre el árbol hacia la izquierda hasta encontrar el nodo más a la izquierda (el nodo hoja con la clave más baja). Por otro lado, get_max() recorre el árbol hacia la derecha hasta encontrar el nodo más a la derecha (el nodo hoja con la clave más alta).\n",
        "\n",
        "Ambos métodos son útiles para encontrar rápidamente los valores mínimo y máximo almacenados en el árbol.\n",
        "\n",
        "El método delete() elimina un valor del árbol, primero verificando si el valor existe en el árbol. Si el valor es menor que el valor del nodo actual, se llama a la función delete() en el sub-árbol izquierdo, y si es mayor, se llama a la función delete() en el sub-árbol derecho. Si el valor es el valor del nodo actual, se verifica si el nodo tiene sub-árboles izquierdo y derecho. Si no tiene sub-árbol izquierdo, el nodo derecho toma su lugar. Si no tiene sub-árbol derecho, el nodo izquierdo toma su lugar. Si tiene ambos sub-árboles, se encuentra el nodo más pequeño en el sub-árbol derecho y se reemplaza el valor del nodo actual con ese valor.\n",
        "\n",
        "El método exists() verifica si un valor existe en el árbol, verificando si el valor es igual al valor del nodo actual y llamando a la función exists() en el sub-árbol izquierdo o derecho según sea necesario.\n",
        "\n",
        "En resumen, la clase Node implementa un árbol binario de búsqueda y los métodos necesarios para insertar, eliminar, buscar y imprimir los valores del árbol. El código proporcionado incluye una muestra de cómo utilizar la clase para insertar valores, imprimir los valores en diferentes órdenes, eliminar valores y verificar si los valores existen en el árbol."
      ],
      "metadata": {
        "id": "vQO01Ab6bhSI"
      }
    },
    {
      "cell_type": "markdown",
      "source": [
        "#Referencias:\n",
        "\n",
        "GeeksforGeeks. Binary Search Tree. Recuperado de https://www.geeksforgeeks.org/binary-search-tree-set-1-search-and-insertion/\n",
        "Tutorials Point. Binary Search Tree. Recuperado de https://www.tutorialspoint.com/data_structures_algorithms/binary_search"
      ],
      "metadata": {
        "id": "a2ncSpyhbkII"
      }
    }
  ]
}