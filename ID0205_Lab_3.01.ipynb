{
  "nbformat": 4,
  "nbformat_minor": 0,
  "metadata": {
    "colab": {
      "provenance": [],
      "include_colab_link": true
    },
    "kernelspec": {
      "name": "python3",
      "display_name": "Python 3"
    },
    "language_info": {
      "name": "python"
    }
  },
  "cells": [
    {
      "cell_type": "markdown",
      "metadata": {
        "id": "view-in-github",
        "colab_type": "text"
      },
      "source": [
        "<a href=\"https://colab.research.google.com/github/sofiagoldheart/ComputationalGeometry/blob/main/ID0205_Lab_3.01.ipynb\" target=\"_parent\"><img src=\"https://colab.research.google.com/assets/colab-badge.svg\" alt=\"Open In Colab\"/></a>"
      ]
    },
    {
      "cell_type": "markdown",
      "source": [
        "[Árbol (teoría de grafos)](https://es.wikipedia.org/wiki/%C3%81rbol_(teor%C3%ADa_de_grafos))\n",
        "\n",
        "En teoría de grafos, un árbol es un grafo en el que cualquier par de vértices están conectados por exactamente un camino, o alternativamente, es un grafo conexo acíclico."
      ],
      "metadata": {
        "id": "TVkOGS9f0s0Q"
      }
    },
    {
      "cell_type": "code",
      "execution_count": null,
      "metadata": {
        "id": "khM7hCeXzGwa"
      },
      "outputs": [],
      "source": [
        "class BinaryTreeNode:\n",
        "  def __init__(self, data):\n",
        "    self.data = data\n",
        "    self.leftChild = None\n",
        "    self.rightChild=None"
      ]
    },
    {
      "cell_type": "code",
      "source": [
        "node1 = BinaryTreeNode(50)\n",
        "node2 = BinaryTreeNode(20)\n",
        "node3 = BinaryTreeNode(45)\n",
        "node4 = BinaryTreeNode(11)\n",
        "node5 = BinaryTreeNode(15)\n",
        "node6 = BinaryTreeNode(30)\n",
        "node7 = BinaryTreeNode(78)"
      ],
      "metadata": {
        "id": "rN5UmHh2zeaI"
      },
      "execution_count": null,
      "outputs": []
    },
    {
      "cell_type": "code",
      "source": [
        "node1.leftChild = node2\n",
        "node1.rightChild = node3\n",
        "node2.leftChild = node4\n",
        "node2.rightChild = node5\n",
        "node3.leftChild = node6\n",
        "node3.rightChild = node7\n"
      ],
      "metadata": {
        "id": "wwWXn8q_zh2I"
      },
      "execution_count": null,
      "outputs": []
    },
    {
      "cell_type": "code",
      "source": [
        "print(\"Root Node is:\")\n",
        "print(node1.data)"
      ],
      "metadata": {
        "colab": {
          "base_uri": "https://localhost:8080/"
        },
        "id": "LHy0mUxBzmxO",
        "outputId": "054f360d-417d-4b88-cdc2-05695f58081f"
      },
      "execution_count": null,
      "outputs": [
        {
          "output_type": "stream",
          "name": "stdout",
          "text": [
            "Root Node is:\n",
            "hola\n"
          ]
        }
      ]
    },
    {
      "cell_type": "code",
      "source": [
        "print(\"left child of the node is:\")\n",
        "print(node1.leftChild.data)"
      ],
      "metadata": {
        "colab": {
          "base_uri": "https://localhost:8080/"
        },
        "id": "Kvti3ebZzmum",
        "outputId": "fd4ab3c7-c5db-499a-fcd9-b7bcbb3deee5"
      },
      "execution_count": null,
      "outputs": [
        {
          "output_type": "stream",
          "name": "stdout",
          "text": [
            "left child of the node is:\n",
            "20\n"
          ]
        }
      ]
    },
    {
      "cell_type": "code",
      "source": [
        "print(\"right child of the node is:\")\n",
        "print(node1.rightChild.data)"
      ],
      "metadata": {
        "colab": {
          "base_uri": "https://localhost:8080/"
        },
        "id": "kjyOahzjzrJ7",
        "outputId": "3b42a160-eeba-4208-bd09-b2ee96620132"
      },
      "execution_count": null,
      "outputs": [
        {
          "output_type": "stream",
          "name": "stdout",
          "text": [
            "right child of the node is:\n",
            "45\n"
          ]
        }
      ]
    },
    {
      "cell_type": "code",
      "source": [
        "print(\"Node is:\")\n",
        "print(node2.data)"
      ],
      "metadata": {
        "colab": {
          "base_uri": "https://localhost:8080/"
        },
        "id": "dqf5QpbwzrC7",
        "outputId": "cf99855e-5bb4-4cc4-c965-33f70d57b3cb"
      },
      "execution_count": null,
      "outputs": [
        {
          "output_type": "stream",
          "name": "stdout",
          "text": [
            "Node is:\n",
            "20\n"
          ]
        }
      ]
    },
    {
      "cell_type": "code",
      "source": [
        "print(\"left child of the node is:\")\n",
        "print(node2.leftChild.data)\n"
      ],
      "metadata": {
        "colab": {
          "base_uri": "https://localhost:8080/"
        },
        "id": "sntDpAj3zwTq",
        "outputId": "b4b9bc95-2b64-4b44-a7b7-8701280399ce"
      },
      "execution_count": null,
      "outputs": [
        {
          "output_type": "stream",
          "name": "stdout",
          "text": [
            "left child of the node is:\n",
            "11\n"
          ]
        }
      ]
    },
    {
      "cell_type": "code",
      "source": [
        "\n",
        "print(\"right child of the node is:\")\n",
        "print(node2.rightChild.data)"
      ],
      "metadata": {
        "colab": {
          "base_uri": "https://localhost:8080/"
        },
        "id": "DyLBnSEXzx3W",
        "outputId": "7afe394e-2b33-42d9-ed37-0d1da3dfe9d5"
      },
      "execution_count": null,
      "outputs": [
        {
          "output_type": "stream",
          "name": "stdout",
          "text": [
            "right child of the node is:\n",
            "15\n"
          ]
        }
      ]
    },
    {
      "cell_type": "code",
      "source": [
        "print(\"Node is:\")\n",
        "print(node3.data)\n"
      ],
      "metadata": {
        "colab": {
          "base_uri": "https://localhost:8080/"
        },
        "id": "HxJlv_JJzznG",
        "outputId": "5e6b569a-bb06-4c77-9f7f-3f8a2fd422bd"
      },
      "execution_count": null,
      "outputs": [
        {
          "output_type": "stream",
          "name": "stdout",
          "text": [
            "Node is:\n",
            "45\n"
          ]
        }
      ]
    },
    {
      "cell_type": "code",
      "source": [
        "print(\"left child of the node is:\")\n",
        "print(node3.leftChild.data)"
      ],
      "metadata": {
        "colab": {
          "base_uri": "https://localhost:8080/"
        },
        "id": "nYsVW9Xoz2BA",
        "outputId": "09164816-ae6d-4767-81a9-994fd458161d"
      },
      "execution_count": null,
      "outputs": [
        {
          "output_type": "stream",
          "name": "stdout",
          "text": [
            "left child of the node is:\n",
            "30\n"
          ]
        }
      ]
    },
    {
      "cell_type": "code",
      "source": [
        "print(\"right child of the node is:\")\n",
        "print(node3.rightChild.data)"
      ],
      "metadata": {
        "colab": {
          "base_uri": "https://localhost:8080/"
        },
        "id": "Na4RzkT4z5kV",
        "outputId": "0c416319-2bf7-4886-c1f3-915ddbf9db37"
      },
      "execution_count": null,
      "outputs": [
        {
          "output_type": "stream",
          "name": "stdout",
          "text": [
            "right child of the node is:\n",
            "78\n"
          ]
        }
      ]
    },
    {
      "cell_type": "code",
      "source": [
        "print(\"Node is:\")\n",
        "print(node4.data)"
      ],
      "metadata": {
        "colab": {
          "base_uri": "https://localhost:8080/"
        },
        "id": "duY9yq8oz7Yv",
        "outputId": "7b29c031-751c-4dad-f1cd-c3d16d7eaa4c"
      },
      "execution_count": null,
      "outputs": [
        {
          "output_type": "stream",
          "name": "stdout",
          "text": [
            "Node is:\n",
            "11\n"
          ]
        }
      ]
    },
    {
      "cell_type": "code",
      "source": [
        "print(\"left child of the node is:\")\n",
        "print(node4.leftChild)\n"
      ],
      "metadata": {
        "colab": {
          "base_uri": "https://localhost:8080/"
        },
        "id": "k5pZ9hv6z9WS",
        "outputId": "394eba7d-cb35-4bc0-c1b5-0324236513b5"
      },
      "execution_count": null,
      "outputs": [
        {
          "output_type": "stream",
          "name": "stdout",
          "text": [
            "left child of the node is:\n",
            "None\n"
          ]
        }
      ]
    },
    {
      "cell_type": "code",
      "source": [
        "print(\"right child of the node is:\")\n",
        "print(node4.rightChild)"
      ],
      "metadata": {
        "colab": {
          "base_uri": "https://localhost:8080/"
        },
        "id": "7iJZCO0pz_Ac",
        "outputId": "fbca1443-12df-404c-a92e-593f52192e41"
      },
      "execution_count": null,
      "outputs": [
        {
          "output_type": "stream",
          "name": "stdout",
          "text": [
            "right child of the node is:\n",
            "None\n"
          ]
        }
      ]
    },
    {
      "cell_type": "code",
      "source": [
        "print(\"Node is:\")\n",
        "print(node5.data)"
      ],
      "metadata": {
        "colab": {
          "base_uri": "https://localhost:8080/"
        },
        "id": "4gl-j7Ld0DG-",
        "outputId": "1e4594d8-7f88-40c1-d733-328f9e018bd0"
      },
      "execution_count": null,
      "outputs": [
        {
          "output_type": "stream",
          "name": "stdout",
          "text": [
            "Node is:\n",
            "15\n"
          ]
        }
      ]
    },
    {
      "cell_type": "code",
      "source": [
        "print(\"left child of the node is:\")\n",
        "print(node5.leftChild)"
      ],
      "metadata": {
        "colab": {
          "base_uri": "https://localhost:8080/"
        },
        "id": "Qh5jU07h0Ewx",
        "outputId": "1aedc849-3515-4d4e-f404-3a5d7e6988ef"
      },
      "execution_count": null,
      "outputs": [
        {
          "output_type": "stream",
          "name": "stdout",
          "text": [
            "left child of the node is:\n",
            "None\n"
          ]
        }
      ]
    },
    {
      "cell_type": "code",
      "source": [
        "print(\"right child of the node is:\")\n",
        "print(node5.rightChild)"
      ],
      "metadata": {
        "colab": {
          "base_uri": "https://localhost:8080/"
        },
        "id": "lJKa5xSE0G0y",
        "outputId": "d7c3c9af-b63c-4430-f92f-64aa228f76a2"
      },
      "execution_count": null,
      "outputs": [
        {
          "output_type": "stream",
          "name": "stdout",
          "text": [
            "right child of the node is:\n",
            "None\n"
          ]
        }
      ]
    },
    {
      "cell_type": "code",
      "source": [
        "print(\"Node is:\")\n",
        "print(node6.data)"
      ],
      "metadata": {
        "colab": {
          "base_uri": "https://localhost:8080/"
        },
        "id": "PCWx6Ods0RRy",
        "outputId": "8dd98e3c-e9cb-4d2a-d446-5df072c771d9"
      },
      "execution_count": null,
      "outputs": [
        {
          "output_type": "stream",
          "name": "stdout",
          "text": [
            "Node is:\n",
            "30\n"
          ]
        }
      ]
    },
    {
      "cell_type": "code",
      "source": [
        "print(\"left child of the node is:\")\n",
        "print(node6.leftChild)"
      ],
      "metadata": {
        "colab": {
          "base_uri": "https://localhost:8080/"
        },
        "id": "JWvJ_v2c0S2T",
        "outputId": "7e052bfc-c167-4b71-8a53-577d460123bf"
      },
      "execution_count": null,
      "outputs": [
        {
          "output_type": "stream",
          "name": "stdout",
          "text": [
            "left child of the node is:\n",
            "None\n"
          ]
        }
      ]
    },
    {
      "cell_type": "code",
      "source": [
        "print(\"right child of the node is:\")\n",
        "print(node6.rightChild)"
      ],
      "metadata": {
        "colab": {
          "base_uri": "https://localhost:8080/"
        },
        "id": "D9j438jT0URb",
        "outputId": "ea79d741-d634-4b71-cb71-ff0454347f0f"
      },
      "execution_count": null,
      "outputs": [
        {
          "output_type": "stream",
          "name": "stdout",
          "text": [
            "right child of the node is:\n",
            "None\n"
          ]
        }
      ]
    },
    {
      "cell_type": "code",
      "source": [
        "print(\"Node is:\")\n",
        "print(node7.data)"
      ],
      "metadata": {
        "colab": {
          "base_uri": "https://localhost:8080/"
        },
        "id": "0K2fJcrw0VyR",
        "outputId": "cbb69a08-23b6-4c3d-84c6-27d339c6453c"
      },
      "execution_count": null,
      "outputs": [
        {
          "output_type": "stream",
          "name": "stdout",
          "text": [
            "Node is:\n",
            "78\n"
          ]
        }
      ]
    },
    {
      "cell_type": "code",
      "source": [
        "print(\"left child of the node is:\")\n",
        "print(node7.leftChild)"
      ],
      "metadata": {
        "colab": {
          "base_uri": "https://localhost:8080/"
        },
        "id": "jl7V4_KW0XQC",
        "outputId": "24fde7d0-ad01-4d6f-ec22-e068f1c4532c"
      },
      "execution_count": null,
      "outputs": [
        {
          "output_type": "stream",
          "name": "stdout",
          "text": [
            "left child of the node is:\n",
            "None\n"
          ]
        }
      ]
    },
    {
      "cell_type": "code",
      "source": [
        "print(\"right child of the node is:\")\n",
        "print(node7.rightChild)"
      ],
      "metadata": {
        "colab": {
          "base_uri": "https://localhost:8080/"
        },
        "id": "g68fZOIH0Yni",
        "outputId": "0f9585bc-f420-4fce-e145-1c4c05425d70"
      },
      "execution_count": null,
      "outputs": [
        {
          "output_type": "stream",
          "name": "stdout",
          "text": [
            "right child of the node is:\n",
            "None\n"
          ]
        }
      ]
    },
    {
      "cell_type": "markdown",
      "source": [
        "**Ejercicio**\n",
        "\n",
        "Utilizando la clase 'BinaryTreeNode', crea un árbol utilizando números y cadenas de caracteres para que crear árboles del tipo: \n",
        "* node7.leftChild = 2\n",
        "* node7 = 'más'\n",
        "* node7.rightChild = 4"
      ],
      "metadata": {
        "id": "EzmlSBmf1JNn"
      }
    },
    {
      "cell_type": "code",
      "source": [
        "# Crear los nodos del árbol\n",
        "node2 = BinaryTreeNode(2)\n",
        "node4 = BinaryTreeNode(4)\n",
        "node_mas = BinaryTreeNode('más')\n",
        "node7 = BinaryTreeNode(None)\n",
        "\n",
        "# Asignar los hijos izquierdo y derecho del nodo 7\n",
        "node7.leftChild = node2\n",
        "node7.rightChild = node4\n",
        "node7.data = 'más'\n",
        "\n",
        "def inorderTraversal(node):\n",
        "  if node is not None:\n",
        "    inorderTraversal(node.leftChild)\n",
        "    print(node.data)\n",
        "    inorderTraversal(node.rightChild)\n",
        "\n",
        "# Imprimir el árbol\n",
        "inorderTraversal(node7)\n"
      ],
      "metadata": {
        "id": "J7MJgqZ7hR6f",
        "colab": {
          "base_uri": "https://localhost:8080/"
        },
        "outputId": "7c87feaa-2cfd-4c41-9c06-3bde04c0b967"
      },
      "execution_count": 4,
      "outputs": [
        {
          "output_type": "stream",
          "name": "stdout",
          "text": [
            "2\n",
            "más\n",
            "4\n"
          ]
        }
      ]
    }
  ]
}