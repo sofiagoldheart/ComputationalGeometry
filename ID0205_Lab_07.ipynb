{
  "nbformat": 4,
  "nbformat_minor": 0,
  "metadata": {
    "colab": {
      "provenance": [],
      "include_colab_link": true
    },
    "kernelspec": {
      "name": "python3",
      "display_name": "Python 3"
    },
    "language_info": {
      "name": "python"
    }
  },
  "cells": [
    {
      "cell_type": "markdown",
      "metadata": {
        "id": "view-in-github",
        "colab_type": "text"
      },
      "source": [
        "<a href=\"https://colab.research.google.com/github/sofiagoldheart/ComputationalGeometry/blob/main/ID0205_Lab_07.ipynb\" target=\"_parent\"><img src=\"https://colab.research.google.com/assets/colab-badge.svg\" alt=\"Open In Colab\"/></a>"
      ]
    },
    {
      "cell_type": "markdown",
      "source": [
        "#ID0205 - Geometría Computacional\n",
        "\n",
        "### Primavera 2023\n",
        "\n",
        "Ejercicio #: ID0205_Lab_07\n",
        "\n",
        "Sección: 1\n",
        "\n",
        "ID: 210300529\n",
        "\n",
        "Nombre completo: Sofia Ruvalcaba de la Noval\n",
        "\n",
        "Profesor: Enrique Naredo García"
      ],
      "metadata": {
        "id": "rUoybvBitDRF"
      }
    },
    {
      "cell_type": "markdown",
      "source": [
        "## Introducción\n",
        "\n"
      ],
      "metadata": {
        "id": "AHsaIVsLrrqx"
      }
    },
    {
      "cell_type": "markdown",
      "source": [
        "**[Punto medio](https://es.wikipedia.org/wiki/Punto_medio)**\n",
        "\n",
        "En matemática, es el punto que se encuentra a la misma distancia de otros dos puntos cualquiera o extremos de un segmento.\n",
        "\n",
        "Más generalmente punto equidistante en matemática, es el punto que se encuentra a la misma distancia de dos elementos geométricos, ya sean puntos, segmentos, rectas, etc. "
      ],
      "metadata": {
        "id": "q4SEuBZjw-Vb"
      }
    },
    {
      "cell_type": "markdown",
      "source": [
        "El punto medio es un concepto en geometría que se refiere al punto que se encuentra equidistante de dos o más puntos en un espacio. Es un punto que divide un segmento de línea en dos partes iguales. Las características incluyen:\n",
        "\n",
        "- Es un punto equidistante de los extremos del segmento.\n",
        "- Está situado a la misma distancia de los extremos del segmento, tanto a lo largo como en anchura.\n",
        "- El segmento unido por el punto medio y cualquiera de los extremos del segmento es una línea media.\n",
        "El punto medio puede ser calculado utilizando la fórmula matemática para la media aritmética de dos números. En un plano bidimensional, el punto medio se puede encontrar como la media aritmética de las coordenadas 'x' y 'y' de los dos puntos."
      ],
      "metadata": {
        "id": "7i12C33eydNe"
      }
    },
    {
      "cell_type": "markdown",
      "source": [
        "#Formula:\n",
        "\n",
        "![Captura de pantalla_20230130_101034.png](data:image/png;base64,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)\n"
      ],
      "metadata": {
        "id": "4MbZdhO5y4S1"
      }
    },
    {
      "cell_type": "code",
      "execution_count": 1,
      "metadata": {
        "id": "E7hyQt-3q1H_",
        "colab": {
          "base_uri": "https://localhost:8080/"
        },
        "outputId": "0294ebae-7dde-4474-b817-e7ee4c3b0c97"
      },
      "outputs": [
        {
          "output_type": "stream",
          "name": "stdout",
          "text": [
            "(2.5, 3.0)\n"
          ]
        }
      ],
      "source": [
        "# La función midpoint toma los valores de las coordenadas x1, y1, x2, y2 de los dos puntos como argumentos.\n",
        "def midpoint(x1, y1, x2, y2):\n",
        "    x_mid = (x1 + x2) / 2\n",
        "    y_mid = (y1 + y2) / 2\n",
        "# La función devuelve el punto medio como una tupla (x_mid, y_mid), que es la media aritmética de las coordenadas x y y de los dos puntos.\n",
        "    return x_mid, y_mid\n",
        "# El código finalmente llama a la función midpoint y pasa 1, 1, 4, 5 como argumentos, imprimiendo el resultado.\n",
        "print(midpoint(1, 1, 4, 5))"
      ]
    },
    {
      "cell_type": "markdown",
      "source": [
        "Otro ejemplo:"
      ],
      "metadata": {
        "id": "cOQRKhY13edr"
      }
    },
    {
      "cell_type": "code",
      "source": [
        "# La función midpoint toma los valores de las coordenadas x1, y1, x2, y2 de los dos puntos como argumentos.\n",
        "def midpoint(x1, y1, x2, y2):\n",
        "    x_mid = (x1 + x2) / 2\n",
        "    y_mid = (y1 + y2) / 2\n",
        "# La función devuelve el punto medio como una tupla (x_mid, y_mid), que es la media aritmética de las coordenadas x y y de los dos puntos.\n",
        "    return x_mid, y_mid\n",
        "# El código finalmente llama a la función midpoint y pasa 0, 0, 3, 4 como argumentos, imprimiendo el resultado.\n",
        "print(midpoint(0, 0, 3, 4))"
      ],
      "metadata": {
        "colab": {
          "base_uri": "https://localhost:8080/"
        },
        "id": "e2bfpGhp4dln",
        "outputId": "49fdc93e-9de2-425f-bfdd-84ec4f75468c"
      },
      "execution_count": 4,
      "outputs": [
        {
          "output_type": "stream",
          "name": "stdout",
          "text": [
            "(1.5, 2.0)\n"
          ]
        }
      ]
    },
    {
      "cell_type": "markdown",
      "source": [
        "## Conclusiones"
      ],
      "metadata": {
        "id": "wj0AHiPgr1gx"
      }
    },
    {
      "cell_type": "markdown",
      "source": [
        "Con este ejercicio aprendí que puede ser bastante sencillo calcular el punto medio creando una función para ello en Python basándonos el su fórmula original."
      ],
      "metadata": {
        "id": "APLCldFl1Pdz"
      }
    },
    {
      "cell_type": "markdown",
      "source": [
        "## Bibliografía\n",
        "\n",
        "1. La fórmula del punto medio (artículo). (s. f.). Khan Academy. https://es.khanacademy.org/math/geometry/hs-geo-analytic-geometry/hs-geo-distance-and-midpoints/a/midpoint-formula\n",
        "\n"
      ],
      "metadata": {
        "id": "4L3ZgUA9r4fo"
      }
    }
  ]
}