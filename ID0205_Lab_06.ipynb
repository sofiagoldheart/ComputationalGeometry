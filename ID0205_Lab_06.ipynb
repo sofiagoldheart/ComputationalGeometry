{
  "nbformat": 4,
  "nbformat_minor": 0,
  "metadata": {
    "colab": {
      "provenance": [],
      "include_colab_link": true
    },
    "kernelspec": {
      "name": "python3",
      "display_name": "Python 3"
    },
    "language_info": {
      "name": "python"
    }
  },
  "cells": [
    {
      "cell_type": "markdown",
      "metadata": {
        "id": "view-in-github",
        "colab_type": "text"
      },
      "source": [
        "<a href=\"https://colab.research.google.com/github/sofiagoldheart/ComputationalGeometry/blob/main/ID0205_Lab_06.ipynb\" target=\"_parent\"><img src=\"https://colab.research.google.com/assets/colab-badge.svg\" alt=\"Open In Colab\"/></a>"
      ]
    },
    {
      "cell_type": "markdown",
      "source": [
        "#ID0205 - Geometría Computacional\n",
        "\n",
        "### Primavera 2023\n",
        "\n",
        "Ejercicio #: ID0205_Lab_06\n",
        "\n",
        "Sección: 1\n",
        "\n",
        "ID: 210300529\n",
        "\n",
        "Nombre completo: Sofia Ruvalcaba de la Noval\n",
        "\n",
        "Profesor: Enrique Naredo García"
      ],
      "metadata": {
        "id": "rUoybvBitDRF"
      }
    },
    {
      "cell_type": "markdown",
      "source": [
        "## Introducción\n",
        "\n"
      ],
      "metadata": {
        "id": "AHsaIVsLrrqx"
      }
    },
    {
      "cell_type": "markdown",
      "source": [
        "**[Distancia entre dos puntos](https://es.wikipedia.org/wiki/Distancia)**\n",
        "\n",
        "En las matemáticas, la distancia entre dos puntos del espacio euclídeo equivale a la longitud del segmento de la recta que los une, expresado numéricamente. "
      ],
      "metadata": {
        "id": "3e84xaIDt5iO"
      }
    },
    {
      "cell_type": "markdown",
      "source": [
        "    Agreguen una buena introducción, usen referencias, agreguenlas al final y eliminen las celdas que no sean importantes para su explicación, como esta misma. \n",
        "    \n",
        "    Utilicen sus propias palabras y realicen su propia investigación, los trabajos deben ser originales, incluso de preferencia no utilicen los ejemplos utilizados en este formato."
      ],
      "metadata": {
        "id": "icxz2IOmvOLd"
      }
    },
    {
      "cell_type": "markdown",
      "source": [
        "La [distancia](https://www.geometriaanalitica.info/formula-de-la-distancia-entre-dos-puntos-geometria-ejemplos-y-ejercicios-resueltos/) entre dos puntos es igual a la longitud del segmento que los une. \n",
        "\n",
        "Por lo tanto, en matemáticas, para determinar la distancia entre dos puntos diferentes se deben calcular los cuadrados de las diferencias entre sus coordenadas y luego hallar la raíz de la suma de dichos cuadrados."
      ],
      "metadata": {
        "id": "HpT6dyiut5XT"
      }
    },
    {
      "cell_type": "markdown",
      "source": [
        "    Escribir aquí la fórmula y eliminar este comentario después"
      ],
      "metadata": {
        "id": "smADDNZnv1uM"
      }
    },
    {
      "cell_type": "markdown",
      "source": [
        "      A continuación escriban el código para la implementación de la fórmul, usen un ejemplo y den buenos comentario explicativos de todo el código."
      ],
      "metadata": {
        "id": "VgGTQeHEwIsx"
      }
    },
    {
      "cell_type": "code",
      "execution_count": 1,
      "metadata": {
        "id": "E7hyQt-3q1H_",
        "colab": {
          "base_uri": "https://localhost:8080/"
        },
        "outputId": "311a6cb1-70de-4ebb-c5ae-a22d01b04bf6"
      },
      "outputs": [
        {
          "output_type": "stream",
          "name": "stdout",
          "text": [
            "5.0\n"
          ]
        }
      ],
      "source": [
        "import math\n",
        "\n",
        "def distance_between_points(x1, y1, x2, y2):\n",
        "    return math.sqrt((x2 - x1)**2 + (y2 - y1)**2)\n",
        "\n",
        "print(distance_between_points(1, 1, 4, 5))"
      ]
    },
    {
      "cell_type": "code",
      "source": [
        "# Aquí su código\n",
        "\n",
        "\n",
        "\n"
      ],
      "metadata": {
        "id": "BXw1_NIFwktO"
      },
      "execution_count": null,
      "outputs": []
    },
    {
      "cell_type": "code",
      "source": [
        "# Aquí su código\n",
        "\n",
        "\n",
        "\n"
      ],
      "metadata": {
        "id": "S4rXwl2MsI32"
      },
      "execution_count": null,
      "outputs": []
    },
    {
      "cell_type": "markdown",
      "source": [
        "## Conclusiones"
      ],
      "metadata": {
        "id": "wj0AHiPgr1gx"
      }
    },
    {
      "cell_type": "markdown",
      "source": [
        "      Agreguen en este espacio sus propias conclusiones respecto a este ejercicio."
      ],
      "metadata": {
        "id": "cLXzf0zdsKMw"
      }
    },
    {
      "cell_type": "markdown",
      "source": [
        "## Bibliografía\n",
        "\n",
        "1. Referencia 1 en APA\n",
        "2. Referencia 1 en APA\n",
        "\n"
      ],
      "metadata": {
        "id": "4L3ZgUA9r4fo"
      }
    }
  ]
}