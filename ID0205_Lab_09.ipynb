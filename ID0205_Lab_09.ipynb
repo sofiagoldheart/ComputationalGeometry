{
  "nbformat": 4,
  "nbformat_minor": 0,
  "metadata": {
    "colab": {
      "provenance": [],
      "include_colab_link": true
    },
    "kernelspec": {
      "name": "python3",
      "display_name": "Python 3"
    },
    "language_info": {
      "name": "python"
    }
  },
  "cells": [
    {
      "cell_type": "markdown",
      "metadata": {
        "id": "view-in-github",
        "colab_type": "text"
      },
      "source": [
        "<a href=\"https://colab.research.google.com/github/sofiagoldheart/ComputationalGeometry/blob/main/ID0205_Lab_09.ipynb\" target=\"_parent\"><img src=\"https://colab.research.google.com/assets/colab-badge.svg\" alt=\"Open In Colab\"/></a>"
      ]
    },
    {
      "cell_type": "markdown",
      "source": [
        "**Ejercicio 1**\n",
        "\n",
        "Utiliza el conjunto $C$ que definiste en el anterior Lab.\n",
        "\n",
        "* Define tu propia función para enlistar los elementos de tu conjunto y verifica si no esta vacio.\n",
        "\n",
        "* Define un conjunto $D$ que este vacio.\n",
        "\n",
        "* Puedes utilizar el código anterior como base para el tuyo.\n",
        "\n",
        "* Prueba tanto $C$ como $D$ en tu código.\n",
        "\n",
        "\n",
        "\n"
      ],
      "metadata": {
        "id": "7qcaFuwnb80f"
      }
    },
    {
      "cell_type": "markdown",
      "source": [
        "Es importante tener en cuenta que $\\{\\}$ y $∅$ son dos formas diferentes de escribir el conjunto vacío.\n",
        "\n",
        "* Sin embargo, el conjunto $\\{∅\\}$ no es el conjunto vacío; más bien, es un conjunto que contiene un solo elemento.\n",
        "\n",
        "* En este caso el único elemento contenido en el conjunto $\\{∅\\}$ es el conjunto vacío $∅$.\n",
        "\n",
        "* En general, el conjunto $A$ no es lo mismo que el conjunto $\\{A\\}$."
      ],
      "metadata": {
        "id": "eAwYb4usyT92"
      }
    },
    {
      "cell_type": "code",
      "source": [
        "#Definimos el conjunto C\n",
        "C = [2,4,6,8]\n",
        "D = set() #Indica que el conjunto D esta vacio\n",
        "\n",
        "#Funcion para comprobar si estan vacios nuestros conjuntos. \n",
        "def Elementos(conjunto):\n",
        "    if conjunto == set():\n",
        "        print(\"Este conjunto esta vacio\")\n",
        "    else:\n",
        "        for x in conjunto:\n",
        "            print(f\"{x} es un elemento del conjunto {conjunto}\")\n",
        "\n",
        "#Verificamos si el conjunto C y D estan vacios\n",
        "Elementos(C)\n",
        "Elementos(D)"
      ],
      "metadata": {
        "colab": {
          "base_uri": "https://localhost:8080/"
        },
        "id": "1MC9k_ODKEX4",
        "outputId": "8dde1546-0365-4381-d744-693486e14b33"
      },
      "execution_count": null,
      "outputs": [
        {
          "output_type": "stream",
          "name": "stdout",
          "text": [
            "2 es un elemento del conjunto [2, 4, 6, 8]\n",
            "4 es un elemento del conjunto [2, 4, 6, 8]\n",
            "6 es un elemento del conjunto [2, 4, 6, 8]\n",
            "8 es un elemento del conjunto [2, 4, 6, 8]\n",
            "Este conjunto esta vacio\n"
          ]
        }
      ]
    },
    {
      "cell_type": "markdown",
      "source": [
        "Ejercicio 2\n",
        "Escriba un código en Python que verifique la cardinalidad de los siguientes conjuntos:\n",
        "\n",
        "* $D = \\{\\text{'yo'}, \\text{'tu'}, \\text{'el'} \\}$\n",
        "\n",
        "* $E = \\{\\text{'este es un conjunto vacio'} \\}$\n",
        "\n",
        "* $F = \\{ 0, 0, 0\\}$\n",
        "\n",
        "* $G = \\{ \\}$"
      ],
      "metadata": {
        "id": "cGNziI1Nb7Ev"
      }
    },
    {
      "cell_type": "code",
      "source": [
        "#CARDINALIDAD\n",
        "\n",
        "D = {'yo', 'tu', 'el'}\n",
        "E = {'este es un conjunto vacio'}\n",
        "F = {0, 0, 0}\n",
        "G = {}\n",
        "\n",
        "#Comprobamos el tamaño de cada conjunto \n",
        "print(len(D))\n",
        "print(len(E))\n",
        "print(len(F))\n",
        "print(len(G))\n"
      ],
      "metadata": {
        "id": "n4htdkFkLHSK",
        "colab": {
          "base_uri": "https://localhost:8080/"
        },
        "outputId": "fdf63e76-7009-4e4d-b7b9-a1a13878c6a8"
      },
      "execution_count": null,
      "outputs": [
        {
          "output_type": "stream",
          "name": "stdout",
          "text": [
            "3\n",
            "1\n",
            "1\n",
            "0\n"
          ]
        }
      ]
    }
  ]
}