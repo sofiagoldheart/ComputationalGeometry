{
  "nbformat": 4,
  "nbformat_minor": 0,
  "metadata": {
    "colab": {
      "provenance": [],
      "include_colab_link": true
    },
    "kernelspec": {
      "name": "python3",
      "display_name": "Python 3"
    },
    "language_info": {
      "name": "python"
    }
  },
  "cells": [
    {
      "cell_type": "markdown",
      "metadata": {
        "id": "view-in-github",
        "colab_type": "text"
      },
      "source": [
        "<a href=\"https://colab.research.google.com/github/sofiagoldheart/ComputationalGeometry/blob/main/ID0205_Lab_2.01.ipynb\" target=\"_parent\"><img src=\"https://colab.research.google.com/assets/colab-badge.svg\" alt=\"Open In Colab\"/></a>"
      ]
    },
    {
      "cell_type": "markdown",
      "source": [
        "##Introducción\n",
        "En el presente notebook, veremos la forma de definir conjuntos en python."
      ],
      "metadata": {
        "id": "bZlbG9_lQMOX"
      }
    },
    {
      "cell_type": "markdown",
      "source": [
        "##Teoria de Conjuntos\n",
        "La teoría de conjuntos es una rama de la lógica matemática que estudia las propiedades y relaciones de los conjuntos: colecciones abstractas de objetos, consideradas como objetos en sí mismas.\n",
        "\n",
        "Los conjuntos y sus operaciones más elementales son una herramienta básica que permite formular de cualquier otra teoría matemática."
      ],
      "metadata": {
        "id": "3QhpBTRyV_IF"
      }
    },
    {
      "cell_type": "markdown",
      "source": [
        "##Ejemplos en Python\n",
        "Conjunto de lenguajes de programación"
      ],
      "metadata": {
        "id": "1M_s40xtV7L4"
      }
    },
    {
      "cell_type": "code",
      "source": [
        "# declaramos un conjunto de lenguajes de programación\n",
        "set1 = {'Python','C','C++','JavaScript'}\n",
        "\n",
        "print(set1)"
      ],
      "metadata": {
        "colab": {
          "base_uri": "https://localhost:8080/"
        },
        "id": "81mEVNfQVjTJ",
        "outputId": "766aa009-2006-4438-819b-d64a2ca3d895"
      },
      "execution_count": null,
      "outputs": [
        {
          "output_type": "stream",
          "name": "stdout",
          "text": [
            "{'JavaScript', 'Python', 'C', 'C++'}\n"
          ]
        }
      ]
    },
    {
      "cell_type": "code",
      "source": [
        "# verificamos el tipo\n",
        "type(set1)"
      ],
      "metadata": {
        "colab": {
          "base_uri": "https://localhost:8080/"
        },
        "id": "9EuBBrIuVg_s",
        "outputId": "0810fef4-972e-41c8-eb62-2cd4b3ee1866"
      },
      "execution_count": null,
      "outputs": [
        {
          "output_type": "execute_result",
          "data": {
            "text/plain": [
              "set"
            ]
          },
          "metadata": {},
          "execution_count": 2
        }
      ]
    },
    {
      "cell_type": "markdown",
      "source": [
        "Podemos declarar un conjunto vacio"
      ],
      "metadata": {
        "id": "VQ50DDcnVgU_"
      }
    },
    {
      "cell_type": "code",
      "source": [
        "set2 = {}\n",
        "print(set2)"
      ],
      "metadata": {
        "colab": {
          "base_uri": "https://localhost:8080/"
        },
        "id": "qfrbsDYKVfB3",
        "outputId": "21581c10-a75b-497e-c37f-d1ee855b1441"
      },
      "execution_count": null,
      "outputs": [
        {
          "output_type": "stream",
          "name": "stdout",
          "text": [
            "{}\n"
          ]
        }
      ]
    },
    {
      "cell_type": "code",
      "source": [
        "# verificamos el tipo\n",
        "type(set2)"
      ],
      "metadata": {
        "colab": {
          "base_uri": "https://localhost:8080/"
        },
        "id": "p08mp032VPc8",
        "outputId": "691e7fdc-3cd6-4f98-e06a-dae56701c3e8"
      },
      "execution_count": null,
      "outputs": [
        {
          "output_type": "execute_result",
          "data": {
            "text/plain": [
              "dict"
            ]
          },
          "metadata": {},
          "execution_count": 4
        }
      ]
    },
    {
      "cell_type": "code",
      "source": [
        "# declaramos otro conjunto\n",
        "# y verficamos su tipo\n",
        "set3 = set()\n",
        "type(set3)"
      ],
      "metadata": {
        "colab": {
          "base_uri": "https://localhost:8080/"
        },
        "id": "JVZDZ4inVMgY",
        "outputId": "b3b276f9-84de-4b80-c8a3-24025662526e"
      },
      "execution_count": null,
      "outputs": [
        {
          "output_type": "execute_result",
          "data": {
            "text/plain": [
              "set"
            ]
          },
          "metadata": {},
          "execution_count": 5
        }
      ]
    },
    {
      "cell_type": "code",
      "source": [
        "# declaramos una lista\n",
        "list_1 = ['Python','C','C++','JavaScript','C']\n",
        "\n",
        "# checa como si se repite 'C'\n",
        "print(list_1)"
      ],
      "metadata": {
        "colab": {
          "base_uri": "https://localhost:8080/"
        },
        "id": "wexP7tkzbqdx",
        "outputId": "0eb20467-5eb2-4851-8276-eeb7bd5bbc79"
      },
      "execution_count": null,
      "outputs": [
        {
          "output_type": "stream",
          "name": "stdout",
          "text": [
            "['Python', 'C', 'C++', 'JavaScript', 'C']\n"
          ]
        }
      ]
    },
    {
      "cell_type": "code",
      "source": [
        "# convertimos la lista en conjunto\n",
        "set4 = set(list_1)\n",
        "\n",
        "# checa como no se repite 'C'\n",
        "print(set4)"
      ],
      "metadata": {
        "colab": {
          "base_uri": "https://localhost:8080/"
        },
        "id": "QplUtaZrmrx1",
        "outputId": "28fa4fe7-9619-4f99-e737-a79b93e344cd"
      },
      "execution_count": null,
      "outputs": [
        {
          "output_type": "stream",
          "name": "stdout",
          "text": [
            "{'JavaScript', 'Python', 'C', 'C++'}\n"
          ]
        }
      ]
    },
    {
      "cell_type": "code",
      "source": [
        "# verificamos el tipo de set4\n",
        "type(set4)\n"
      ],
      "metadata": {
        "colab": {
          "base_uri": "https://localhost:8080/"
        },
        "id": "eP8q4sAum0V2",
        "outputId": "584b020e-5b25-4618-dddb-353e7d8cedab"
      },
      "execution_count": null,
      "outputs": [
        {
          "output_type": "execute_result",
          "data": {
            "text/plain": [
              "set"
            ]
          },
          "metadata": {},
          "execution_count": 8
        }
      ]
    },
    {
      "cell_type": "code",
      "source": [
        "# declaramos un conjunto vacio\n",
        "set5 = set()\n",
        "\n",
        "# verificamos su tamaño\n",
        "len(set5) "
      ],
      "metadata": {
        "id": "cjkuvZrfbui1",
        "colab": {
          "base_uri": "https://localhost:8080/"
        },
        "outputId": "2d219eef-d0dc-4f60-ce10-f9b7f87ded29"
      },
      "execution_count": null,
      "outputs": [
        {
          "output_type": "execute_result",
          "data": {
            "text/plain": [
              "0"
            ]
          },
          "metadata": {},
          "execution_count": 9
        }
      ]
    },
    {
      "cell_type": "code",
      "source": [
        "# agregamos un elemento al conjunto vacio\n",
        "set5.add('Python')\n",
        "\n",
        "# verificamos nuevamente el conjunto\n",
        "print(set5)"
      ],
      "metadata": {
        "colab": {
          "base_uri": "https://localhost:8080/"
        },
        "id": "M6UobKswb0PV",
        "outputId": "d6985d52-59a9-4ee7-85d3-44802b063ac0"
      },
      "execution_count": null,
      "outputs": [
        {
          "output_type": "stream",
          "name": "stdout",
          "text": [
            "{'Python'}\n"
          ]
        }
      ]
    },
    {
      "cell_type": "code",
      "source": [
        "# agregamos otro elemento al conjunto\n",
        "set5.add('C++')\n",
        "\n",
        "# verificamos nuevamente el conjunto\n",
        "print(set5)"
      ],
      "metadata": {
        "colab": {
          "base_uri": "https://localhost:8080/"
        },
        "id": "B41sXQuRb3wu",
        "outputId": "7a7a3b94-2655-4b3f-906a-bcaf12a1089f"
      },
      "execution_count": null,
      "outputs": [
        {
          "output_type": "stream",
          "name": "stdout",
          "text": [
            "{'Python', 'C++'}\n"
          ]
        }
      ]
    },
    {
      "cell_type": "code",
      "source": [
        "# agregamos ahora varios elementos al conjunto\n",
        "set5.add('JavaScript')\n",
        "set5.add('Rust')\n",
        "set5.add('C')\n",
        "\n",
        "# verificamos nuevamente el conjunto\n",
        "print(set5)\n",
        "\n",
        "# verificamos su tamaño\n",
        "print(len(set5))"
      ],
      "metadata": {
        "colab": {
          "base_uri": "https://localhost:8080/"
        },
        "id": "7oCfy8TLoFoK",
        "outputId": "1ef8371f-1d7d-4d34-f5ff-b1f8955c5740"
      },
      "execution_count": null,
      "outputs": [
        {
          "output_type": "stream",
          "name": "stdout",
          "text": [
            "{'Rust', 'Python', 'C++', 'C', 'JavaScript'}\n",
            "5\n"
          ]
        }
      ]
    },
    {
      "cell_type": "code",
      "source": [
        "# podemos eliminar un elemento\n",
        "set5.remove('C')\n",
        "print(set5)\n",
        "\n",
        "# verificamos su tamaño\n",
        "print(len(set5))\n",
        "\n",
        "# Nota importante\n",
        "# este código no se puede\n",
        "# correr más de una vez\n",
        "# porque ya no existe el elemento\n"
      ],
      "metadata": {
        "colab": {
          "base_uri": "https://localhost:8080/"
        },
        "id": "vPY5VSmzcGeC",
        "outputId": "474b5cfe-e7d3-4a07-df86-b8d0f3a4205c"
      },
      "execution_count": null,
      "outputs": [
        {
          "output_type": "stream",
          "name": "stdout",
          "text": [
            "{'Rust', 'Python', 'C++', 'JavaScript'}\n",
            "4\n"
          ]
        }
      ]
    },
    {
      "cell_type": "code",
      "source": [
        "# podemos imprimir cada uno de los elementos\n",
        "\n",
        "for lenguaje in set5:\n",
        "  print(lenguaje)\n"
      ],
      "metadata": {
        "colab": {
          "base_uri": "https://localhost:8080/"
        },
        "id": "fGVHxDHBcVRf",
        "outputId": "adcfd46d-55b0-4819-9456-e291147d2f30"
      },
      "execution_count": null,
      "outputs": [
        {
          "output_type": "stream",
          "name": "stdout",
          "text": [
            "Rust\n",
            "Python\n",
            "C++\n",
            "JavaScript\n"
          ]
        }
      ]
    },
    {
      "cell_type": "markdown",
      "source": [
        "##Operaciones con conjuntos"
      ],
      "metadata": {
        "id": "CQ_esbRFcpCp"
      }
    },
    {
      "cell_type": "markdown",
      "source": [
        "###Unión de Conjuntos\n",
        "\n",
        "En la teoría de conjuntos, la unión de dos conjuntos es el conjunto de todos los elementos en al menos uno de los dos conjuntos. Si hay dos conjuntos, A y B, entonces la unión contiene elementos que están presentes solo en A, solo en B, y los elementos presentes tanto en A como en B."
      ],
      "metadata": {
        "id": "NRK2UbTdc56g"
      }
    },
    {
      "cell_type": "code",
      "source": [
        "# definimos dos conjuntos\n",
        "setA = {1,3,5,7,9}\n",
        "setB = {2,4,6,8,9}"
      ],
      "metadata": {
        "id": "H2tqc7BvctH_"
      },
      "execution_count": null,
      "outputs": []
    },
    {
      "cell_type": "code",
      "source": [
        "# unimos los dos cojuntos usando\n",
        "# el operador: \"|\"\n",
        "print(setA | setB)\n"
      ],
      "metadata": {
        "id": "aDHQf4ouqGMs",
        "colab": {
          "base_uri": "https://localhost:8080/"
        },
        "outputId": "06a1374b-eb0d-4287-83f4-e74de75c4378"
      },
      "execution_count": null,
      "outputs": [
        {
          "output_type": "stream",
          "name": "stdout",
          "text": [
            "{1, 2, 3, 4, 5, 6, 7, 8, 9}\n"
          ]
        }
      ]
    },
    {
      "cell_type": "code",
      "source": [
        "# unimos los dos cojuntos usando\n",
        "# el operador: \".union\"\n",
        "print(setA.union(setB))"
      ],
      "metadata": {
        "id": "xEX4MqaiqHsp",
        "colab": {
          "base_uri": "https://localhost:8080/"
        },
        "outputId": "e372ae09-e85d-4111-cbbc-feb1b23b43b1"
      },
      "execution_count": null,
      "outputs": [
        {
          "output_type": "stream",
          "name": "stdout",
          "text": [
            "{1, 2, 3, 4, 5, 6, 7, 8, 9}\n"
          ]
        }
      ]
    },
    {
      "cell_type": "code",
      "source": [
        "# tambi[]\n",
        "setB.union(setA)\n",
        "\n",
        "# Output\n",
        "{1, 2, 3, 4, 5, 6, 7, 8, 9}"
      ],
      "metadata": {
        "colab": {
          "base_uri": "https://localhost:8080/"
        },
        "id": "NIVJrh4ocz0w",
        "outputId": "9ed1af5f-d21f-42d2-944c-e85fe16f2951"
      },
      "execution_count": null,
      "outputs": [
        {
          "output_type": "execute_result",
          "data": {
            "text/plain": [
              "{1, 2, 3, 4, 5, 6, 7, 8, 9}"
            ]
          },
          "metadata": {},
          "execution_count": 18
        }
      ]
    },
    {
      "cell_type": "markdown",
      "source": [
        "###Intersección de Conjuntos\n",
        "\n",
        "Otra operación conjunta de conjuntos es esta intersección de dos conjuntos, A y B. \n",
        "\n",
        "* La operación de intersección de conjuntos devuelve un conjunto que contiene todos los elementos presentes tanto en A como en B.\n",
        "\n",
        "* Para calcular la intersección, puede usar el & operador o el método '.intersection()'."
      ],
      "metadata": {
        "id": "jJvh_1Pic8Va"
      }
    },
    {
      "cell_type": "code",
      "source": [
        "# intersección usando: '&'\n",
        "print(setA & setB)\n",
        "\n",
        "# intersección usando: '.intersection'\n",
        "setA.intersection(setB)"
      ],
      "metadata": {
        "colab": {
          "base_uri": "https://localhost:8080/"
        },
        "id": "Aqy3VWkadC8K",
        "outputId": "658027ce-42d5-4641-ed5d-7c058be059ff"
      },
      "execution_count": null,
      "outputs": [
        {
          "output_type": "stream",
          "name": "stdout",
          "text": [
            "{9}\n"
          ]
        },
        {
          "output_type": "execute_result",
          "data": {
            "text/plain": [
              "{9}"
            ]
          },
          "metadata": {},
          "execution_count": 19
        }
      ]
    },
    {
      "cell_type": "markdown",
      "source": [
        "###Diferencia de conjuntos\n",
        "\n",
        "Dados dos conjuntos cualesquiera, la unión y la intersección nos ayudan a encontrar los elementos presentes en ambos y al menos en uno de los conjuntos, respectivamente. \n",
        "\n",
        "* Por otra parte, establecer diferencia nos ayuda a encontrar los elementos presentes en un conjunto pero no en el otro."
      ],
      "metadata": {
        "id": "yrG3GWvsdK9z"
      }
    },
    {
      "cell_type": "code",
      "source": [
        "# diferencia de setA y setB\n",
        "print(setA - setB)\n",
        "\n",
        "# diferencia de setB y setA\n",
        "print(setB - setA)\n",
        "\n",
        "# se puede notar que las operaciones\n",
        "# dan diferente resultados"
      ],
      "metadata": {
        "colab": {
          "base_uri": "https://localhost:8080/"
        },
        "id": "CI4L0f-edN9j",
        "outputId": "ad931c80-dd09-4b22-b01d-71b36a43bb98"
      },
      "execution_count": null,
      "outputs": [
        {
          "output_type": "stream",
          "name": "stdout",
          "text": [
            "{1, 3, 5, 7}\n",
            "{8, 2, 4, 6}\n"
          ]
        }
      ]
    },
    {
      "cell_type": "markdown",
      "source": [
        "###Igualdad de dos conjuntos en Python\n",
        "\n",
        "\n",
        "**Ejercicio 1**\n",
        "\n",
        "Veamos un ejercicio sobre la igualdad de dos conjuntos en Python.\n",
        "\n",
        "\n",
        "Tenemos los siguientes conjuntos:\n",
        "\n",
        "* $A = \\{2, 4\\}$\n",
        "\n",
        "* $B = \\{x / x $ es un entero par; $0 < x < 6\\}$ \n",
        "\n",
        "\n",
        "¿El conjunto $A$ y $B$ son iguales?"
      ],
      "metadata": {
        "id": "5wUhTfKYdvpQ"
      }
    },
    {
      "cell_type": "code",
      "source": [
        "#igualdad de dos conjuntos en Python\n",
        "import numpy as np\n",
        "\n",
        "# conjunto A\n",
        "A = {2, 4}\n",
        "\n",
        "# conjunto B\n",
        "B = {x for x in np.arange (1, 6, 1) if x % 2 == 0}"
      ],
      "metadata": {
        "id": "8vGT1zmSd_em"
      },
      "execution_count": null,
      "outputs": []
    },
    {
      "cell_type": "code",
      "source": [
        "#igualdad de dos conjuntos en Python\n",
        "print (A)\n",
        "print (B)"
      ],
      "metadata": {
        "colab": {
          "base_uri": "https://localhost:8080/"
        },
        "id": "9md32NyCeCn7",
        "outputId": "29b8cca8-2121-433f-dc0a-fc258b1f9a6e"
      },
      "execution_count": null,
      "outputs": [
        {
          "output_type": "stream",
          "name": "stdout",
          "text": [
            "{2, 4}\n",
            "{2, 4}\n"
          ]
        }
      ]
    },
    {
      "cell_type": "code",
      "source": [
        "# Podemos comprobar si ambos conjuntos\n",
        "# son iguales del siguiente modo:\n",
        "A == B"
      ],
      "metadata": {
        "colab": {
          "base_uri": "https://localhost:8080/"
        },
        "id": "_m9zB1mJeGCl",
        "outputId": "eec18314-4762-4996-b67f-34afe38c447c"
      },
      "execution_count": null,
      "outputs": [
        {
          "output_type": "execute_result",
          "data": {
            "text/plain": [
              "True"
            ]
          },
          "metadata": {},
          "execution_count": 23
        }
      ]
    },
    {
      "cell_type": "markdown",
      "source": [
        "###Suma\n",
        "\n",
        "La suma de conjuntos es exactamente igual que la suma de enteros o de cualquier otro tipo de valor.\n",
        "\n",
        "* Al igual que con las listas, podemos realizar la suma de sus elementos usando sum:"
      ],
      "metadata": {
        "id": "ul_Z8dqleaJT"
      }
    },
    {
      "cell_type": "code",
      "source": [
        "# definimos un conjunto\n",
        "C = {10, 20, 10, 50}\n",
        "print (C)"
      ],
      "metadata": {
        "colab": {
          "base_uri": "https://localhost:8080/"
        },
        "id": "4g3p2ZxFeeUt",
        "outputId": "fff78fd2-4f54-4253-a859-a5fce281d307"
      },
      "execution_count": null,
      "outputs": [
        {
          "output_type": "stream",
          "name": "stdout",
          "text": [
            "{10, 20, 50}\n"
          ]
        }
      ]
    },
    {
      "cell_type": "code",
      "source": [
        "# se aplica la suma a cada elemento\n",
        "sum(C)"
      ],
      "metadata": {
        "colab": {
          "base_uri": "https://localhost:8080/"
        },
        "id": "H86qPA1yehPr",
        "outputId": "d4576c27-0c1b-470a-acf2-d1babdca7d82"
      },
      "execution_count": null,
      "outputs": [
        {
          "output_type": "execute_result",
          "data": {
            "text/plain": [
              "80"
            ]
          },
          "metadata": {},
          "execution_count": 25
        }
      ]
    },
    {
      "cell_type": "markdown",
      "source": [
        "###Unión\n",
        "\n",
        "La unión de dos conjuntos A y B es un nuevo conjunto que contiene los elementos que pertenecen a A y/o a B.\n",
        "\n",
        "* $A ∪ B = \\{x / x ∈ A$ o $x ∈ B\\}$\n",
        "\n",
        "Hay distintas formas de notar esto en Python; una es con la barra vertical.\n",
        "\n"
      ],
      "metadata": {
        "id": "8n_pgWTxelQ1"
      }
    },
    {
      "cell_type": "code",
      "source": [
        "# una forma de unir conjuntos es\n",
        "{3, 4, 5} | {5, 6, 8}"
      ],
      "metadata": {
        "colab": {
          "base_uri": "https://localhost:8080/"
        },
        "id": "5imweD16ew_e",
        "outputId": "e6794ae4-8bd1-4c41-bb83-03bfcc8f017b"
      },
      "execution_count": null,
      "outputs": [
        {
          "output_type": "execute_result",
          "data": {
            "text/plain": [
              "{3, 4, 5, 6, 8}"
            ]
          },
          "metadata": {},
          "execution_count": 26
        }
      ]
    },
    {
      "cell_type": "markdown",
      "source": [
        "Recordemos que en estas operaciones solo obtenemos los valores únicos, por tanto el 5 solo nos aparece una vez."
      ],
      "metadata": {
        "id": "uvjIdxZqe-Mg"
      }
    },
    {
      "cell_type": "code",
      "source": [
        "# otra forma de unir conjuntos es\n",
        "a = {3, 4, 5}\n",
        "b = {5, 6, 8}\n",
        "\n",
        "a.union (b)"
      ],
      "metadata": {
        "colab": {
          "base_uri": "https://localhost:8080/"
        },
        "id": "A0gyyCcHe4yr",
        "outputId": "bdd1fb67-ccd2-450c-991c-583f70903a2e"
      },
      "execution_count": null,
      "outputs": [
        {
          "output_type": "execute_result",
          "data": {
            "text/plain": [
              "{3, 4, 5, 6, 8}"
            ]
          },
          "metadata": {},
          "execution_count": 27
        }
      ]
    },
    {
      "cell_type": "markdown",
      "source": [
        "###Intersección de conjuntos\n",
        "\n",
        "La intersección de conjuntos A y B es un nuevo conjunto que contiene los elementos que pertenecen a $A$ y a $B$ (a ambos a la vez).\n",
        "\n",
        "* $A ∩ B = \\{x / x ∈ A$, y $x ∈ B\\}$"
      ],
      "metadata": {
        "id": "6kSYu1RAfCWO"
      }
    },
    {
      "cell_type": "code",
      "source": [
        "# intersección de dos cojuntos\n",
        "a.intersection (b)"
      ],
      "metadata": {
        "colab": {
          "base_uri": "https://localhost:8080/"
        },
        "id": "6b5kXx95fRXv",
        "outputId": "10f62eda-51bb-4ecd-c451-e5c34fca36ed"
      },
      "execution_count": null,
      "outputs": [
        {
          "output_type": "execute_result",
          "data": {
            "text/plain": [
              "{5}"
            ]
          },
          "metadata": {},
          "execution_count": 28
        }
      ]
    },
    {
      "cell_type": "code",
      "source": [
        "# intersección de dos cojuntos\n",
        "a & b"
      ],
      "metadata": {
        "colab": {
          "base_uri": "https://localhost:8080/"
        },
        "id": "SlBVqSQGffed",
        "outputId": "51406aa4-8d62-418e-a6d3-f0d241680efd"
      },
      "execution_count": null,
      "outputs": [
        {
          "output_type": "execute_result",
          "data": {
            "text/plain": [
              "{5}"
            ]
          },
          "metadata": {},
          "execution_count": 29
        }
      ]
    },
    {
      "cell_type": "markdown",
      "source": [
        "Si $A ∩ B = ∅$,\n",
        "\n",
        " entonces A y B son conjuntos disjuntos o ajenos, es decir, no tienen ningún elemento en común."
      ],
      "metadata": {
        "id": "YUzfmxs3fjaT"
      }
    },
    {
      "cell_type": "code",
      "source": [
        "# intersección de dos conjuntos\n",
        "{3, 4, 5} & {6, 7}\n",
        "\n",
        "# nota que el resultado es un conjunto vacio"
      ],
      "metadata": {
        "colab": {
          "base_uri": "https://localhost:8080/"
        },
        "id": "HdS-SA0Kfl9b",
        "outputId": "bcf02e10-65cb-4593-b643-61bb16fd6b8a"
      },
      "execution_count": null,
      "outputs": [
        {
          "output_type": "execute_result",
          "data": {
            "text/plain": [
              "set()"
            ]
          },
          "metadata": {},
          "execution_count": 30
        }
      ]
    },
    {
      "cell_type": "markdown",
      "source": [
        "###Ejemplos con caracteres como conjuntos "
      ],
      "metadata": {
        "id": "mwzHm4Gu1Xe2"
      }
    },
    {
      "cell_type": "code",
      "source": [
        "# definimos tres conjuntos\n",
        "grupo_a = set(['Ana', 'Marcos', 'Carlos', 'Mario'])\n",
        "grupo_b = {'Ana', 'Pedro', 'Carlos', 'Antonio'}\n",
        "grupo_c = {'Ana', 'Antonio', 'Marcos', 'Pepe'}"
      ],
      "metadata": {
        "id": "vLVMZPHT1fS4"
      },
      "execution_count": null,
      "outputs": []
    },
    {
      "cell_type": "code",
      "source": [
        "# imprimimos los conjuntos\n",
        "print(grupo_a)\n",
        "print(grupo_b)\n",
        "print(grupo_c)"
      ],
      "metadata": {
        "colab": {
          "base_uri": "https://localhost:8080/"
        },
        "id": "pCObphDP10W_",
        "outputId": "07565713-48e1-4eda-8aad-52e867e47126"
      },
      "execution_count": null,
      "outputs": [
        {
          "output_type": "stream",
          "name": "stdout",
          "text": [
            "{'Ana', 'Carlos', 'Mario', 'Marcos'}\n",
            "{'Ana', 'Carlos', 'Pedro', 'Antonio'}\n",
            "{'Ana', 'Antonio', 'Pepe', 'Marcos'}\n"
          ]
        }
      ]
    },
    {
      "cell_type": "code",
      "source": [
        "# creamos la unión de conjuntos\n",
        "todos = grupo_a.union(grupo_b).union(grupo_c)\n",
        "print(todos)"
      ],
      "metadata": {
        "colab": {
          "base_uri": "https://localhost:8080/"
        },
        "id": "szDgwKmu2AWr",
        "outputId": "af0d8fdb-03ff-408d-c96e-941d4d6d9ae4"
      },
      "execution_count": null,
      "outputs": [
        {
          "output_type": "stream",
          "name": "stdout",
          "text": [
            "{'Mario', 'Carlos', 'Marcos', 'Pedro', 'Antonio', 'Pepe', 'Ana'}\n"
          ]
        }
      ]
    },
    {
      "cell_type": "code",
      "source": [
        "# intersección de conjuntos\n",
        "a_and_b = grupo_a.intersection(grupo_b)\n",
        "print(a_and_b)"
      ],
      "metadata": {
        "colab": {
          "base_uri": "https://localhost:8080/"
        },
        "id": "DeCD72_G2TjE",
        "outputId": "ae424079-7a6e-499d-df31-717bed19023f"
      },
      "execution_count": null,
      "outputs": [
        {
          "output_type": "stream",
          "name": "stdout",
          "text": [
            "{'Ana', 'Carlos'}\n"
          ]
        }
      ]
    },
    {
      "cell_type": "code",
      "source": [
        "# intersección de conjuntos\n",
        "a_and_c = grupo_a.intersection(grupo_c)\n",
        "print(a_and_c)"
      ],
      "metadata": {
        "id": "SOl1f0T12jA3",
        "colab": {
          "base_uri": "https://localhost:8080/"
        },
        "outputId": "d3ee411f-02b0-4cd3-85f0-b713faf1fc11"
      },
      "execution_count": null,
      "outputs": [
        {
          "output_type": "stream",
          "name": "stdout",
          "text": [
            "{'Ana', 'Marcos'}\n"
          ]
        }
      ]
    },
    {
      "cell_type": "code",
      "source": [
        "# intersección de conjuntos\n",
        "b_and_c = grupo_b.intersection(grupo_c)\n",
        "print(a_and_c)"
      ],
      "metadata": {
        "id": "IkP5YvXM2x2J",
        "colab": {
          "base_uri": "https://localhost:8080/"
        },
        "outputId": "5dbcdc89-eef8-44e1-c4bf-5e49d6b2dd40"
      },
      "execution_count": null,
      "outputs": [
        {
          "output_type": "stream",
          "name": "stdout",
          "text": [
            "{'Ana', 'Marcos'}\n"
          ]
        }
      ]
    },
    {
      "cell_type": "code",
      "source": [
        "# intersección entre los tres conjuntos\n",
        "interTodos = grupo_a.intersection(grupo_b).intersection(grupo_c)\n",
        "print(interTodos)\n"
      ],
      "metadata": {
        "colab": {
          "base_uri": "https://localhost:8080/"
        },
        "id": "0kWOoHgg24P8",
        "outputId": "a1eb05be-6558-495a-b957-979a1299e0b8"
      },
      "execution_count": null,
      "outputs": [
        {
          "output_type": "stream",
          "name": "stdout",
          "text": [
            "{'Ana'}\n"
          ]
        }
      ]
    },
    {
      "cell_type": "code",
      "source": [
        "# diferencia\n",
        "grupo_a.difference(grupo_b)\n"
      ],
      "metadata": {
        "colab": {
          "base_uri": "https://localhost:8080/"
        },
        "id": "pGgTSWKJ3qP-",
        "outputId": "9b517d74-25e0-443d-a91c-663a2ca66141"
      },
      "execution_count": null,
      "outputs": [
        {
          "output_type": "execute_result",
          "data": {
            "text/plain": [
              "{'Marcos', 'Mario'}"
            ]
          },
          "metadata": {},
          "execution_count": 38
        }
      ]
    },
    {
      "cell_type": "code",
      "source": [
        "# verifica si es un conjunto disjunto\n",
        "grupo_a.isdisjoint(grupo_b)"
      ],
      "metadata": {
        "colab": {
          "base_uri": "https://localhost:8080/"
        },
        "id": "ktCt2ivW3yVb",
        "outputId": "1fdbf683-16a3-49c9-e4e3-07abf877da82"
      },
      "execution_count": null,
      "outputs": [
        {
          "output_type": "execute_result",
          "data": {
            "text/plain": [
              "False"
            ]
          },
          "metadata": {},
          "execution_count": 39
        }
      ]
    },
    {
      "cell_type": "code",
      "source": [
        "# verifica si es un conjunto disjunto\n",
        "grupo_a.isdisjoint({1, 2})"
      ],
      "metadata": {
        "colab": {
          "base_uri": "https://localhost:8080/"
        },
        "id": "kHyhbQSG36i8",
        "outputId": "bd1fd6c0-4eff-4bfb-dc63-0bf27e54f600"
      },
      "execution_count": null,
      "outputs": [
        {
          "output_type": "execute_result",
          "data": {
            "text/plain": [
              "True"
            ]
          },
          "metadata": {},
          "execution_count": 40
        }
      ]
    },
    {
      "cell_type": "code",
      "source": [
        "# verifica si es subconjunto\n",
        "grupo_a.issubset(grupo_b)"
      ],
      "metadata": {
        "colab": {
          "base_uri": "https://localhost:8080/"
        },
        "id": "XnR81D8e41E6",
        "outputId": "d19a5110-9ca6-4635-8e8d-a9fb6bb741df"
      },
      "execution_count": null,
      "outputs": [
        {
          "output_type": "execute_result",
          "data": {
            "text/plain": [
              "False"
            ]
          },
          "metadata": {},
          "execution_count": 41
        }
      ]
    },
    {
      "cell_type": "code",
      "source": [
        "# verifica si es subconjunto\n",
        "grupo_a.issubset(grupo_b)"
      ],
      "metadata": {
        "colab": {
          "base_uri": "https://localhost:8080/"
        },
        "id": "6td1n4ks49X0",
        "outputId": "abf11b34-41e3-48b3-ea13-ad3b6c674c43"
      },
      "execution_count": null,
      "outputs": [
        {
          "output_type": "execute_result",
          "data": {
            "text/plain": [
              "False"
            ]
          },
          "metadata": {},
          "execution_count": 42
        }
      ]
    },
    {
      "cell_type": "code",
      "source": [
        "# verifica si es subconjunto\n",
        "grupo_a.issubset({'Marcos'})"
      ],
      "metadata": {
        "colab": {
          "base_uri": "https://localhost:8080/"
        },
        "id": "TbJC_G8w5BOg",
        "outputId": "3dc989c7-b3f4-4842-c099-7e2972e47877"
      },
      "execution_count": null,
      "outputs": [
        {
          "output_type": "execute_result",
          "data": {
            "text/plain": [
              "False"
            ]
          },
          "metadata": {},
          "execution_count": 43
        }
      ]
    },
    {
      "cell_type": "code",
      "source": [
        "# verifica si es subconjunto\n",
        "grupo_a.issubset(grupo_a)"
      ],
      "metadata": {
        "colab": {
          "base_uri": "https://localhost:8080/"
        },
        "id": "JHucH1fY5HGO",
        "outputId": "c152441f-f54a-4b27-ba58-6e92d345bd28"
      },
      "execution_count": null,
      "outputs": [
        {
          "output_type": "execute_result",
          "data": {
            "text/plain": [
              "True"
            ]
          },
          "metadata": {},
          "execution_count": 44
        }
      ]
    }
  ]
}