{
  "nbformat": 4,
  "nbformat_minor": 0,
  "metadata": {
    "colab": {
      "provenance": [],
      "include_colab_link": true
    },
    "kernelspec": {
      "name": "python3",
      "display_name": "Python 3"
    },
    "language_info": {
      "name": "python"
    }
  },
  "cells": [
    {
      "cell_type": "markdown",
      "metadata": {
        "id": "view-in-github",
        "colab_type": "text"
      },
      "source": [
        "<a href=\"https://colab.research.google.com/github/sofiagoldheart/ComputationalGeometry/blob/main/ID0205_Lab_1_05.ipynb\" target=\"_parent\"><img src=\"https://colab.research.google.com/assets/colab-badge.svg\" alt=\"Open In Colab\"/></a>"
      ]
    },
    {
      "cell_type": "markdown",
      "source": [
        "#ID0205 - Geometría Computacional\n",
        "\n",
        "### Primavera 2023\n",
        "\n",
        "Ejercicio #: ID0205_Lab-05\n",
        "\n",
        "Sección: 01\n",
        "\n",
        "ID: 210300519\n",
        "\n",
        "Nombre completo: Daniela de la Cruz Frias\n",
        "\n",
        "ID: 210300528\n",
        "\n",
        "Nombre completo: Erin González Zavala\n",
        "\n",
        "ID: 210300542\n",
        "\n",
        "Nombre completo: Guadalupe Pool Mazun\n",
        "\n",
        "ID: 210300529\n",
        "\n",
        "Nombre completo: Sofia Ruvalcaba de la Noval\n",
        "\n",
        "Profesor: Enrique Naredo García"
      ],
      "metadata": {
        "id": "gdPO2RHmRnUs"
      }
    },
    {
      "cell_type": "code",
      "execution_count": 6,
      "metadata": {
        "colab": {
          "base_uri": "https://localhost:8080/",
          "height": 386
        },
        "id": "JumLckxKA58d",
        "outputId": "2da4225d-c20d-4140-bec8-528389c9ce0c"
      },
      "outputs": [
        {
          "output_type": "stream",
          "name": "stdout",
          "text": [
            "La intersección de las líneas L1 y L2 es: \n",
            "(2.5555555555555554, 2.5555555555555554)\n"
          ]
        },
        {
          "output_type": "display_data",
          "data": {
            "text/plain": [
              "<Figure size 360x360 with 1 Axes>"
            ],
            "image/png": "[encoded data removed]"
          },
          "metadata": {
            "needs_background": "light"
          }
        }
      ],
      "source": [
        "# importar librerias\n",
        "import matplotlib.pyplot as plt\n",
        "\n",
        "# Clase utilizada para guardar coordenadas\n",
        "class Punto:\n",
        "  # coordenadas para un punto\n",
        "\tdef __init__(self, x, y):\n",
        "   # asigna x a la abcisa\n",
        "\t\tself.x = x\n",
        "    # asigna y a la ordenada\n",
        "\t\tself.y = y\n",
        "\n",
        "\t# Imprime las coordenadas de un punto\n",
        "\tdef muestraPunto(self, punto):\n",
        "\t\tprint(f\"({punto.x}, {punto.y})\")\n",
        "  \n",
        "  # definir un número grande\n",
        "# para usarlo cuando exista división por cero\n",
        "NUMGRANDE = 10**9\n",
        "\n",
        "\n",
        "## Intersección de dos líneas\n",
        "# Linea1 -> (P1,P2), Linea2 -> (P3,P4)\n",
        "def Interseccion(P1, P2, P3, P4):\n",
        "\n",
        "  # Linea1 representada por: A1x + B1y = C1\n",
        "\tA1 = P2.y - P1.y\n",
        "\tB1 = P1.x - P2.x\n",
        "\tC1 = A1*(P1.x) + B1*(P1.y)\n",
        "\n",
        "  # Linea2 representada por: A2x + B2y = C2\n",
        "\tA2 = P4.y - P3.y\n",
        "\tB2 = P3.x - P4.x\n",
        "\tC2 = A2*(P3.x) + B2*(P3.y)\n",
        "\n",
        "  # determinante\n",
        "\tdet = A1*B2 - A2*B1\n",
        "\n",
        "  # probar si las líneas son paralelas\n",
        "\tif (det == 0): \n",
        "\t\t# las líneas son paralelas\n",
        "\t\t# entonces asigna un número muy grande: NUMGRANDE\n",
        "    # para evitar división por cero\n",
        "\t\treturn Punto(NUMGRANDE, NUMGRANDE)\n",
        "\telse:\n",
        "    # las líneas no son paralelas\n",
        "\t\tx = (B2*C1 - B1*C2)/det\n",
        "\t\ty = (A1*C2 - A2*C1)/det\n",
        "    # regresa el punto de intersección\n",
        "\t\treturn Punto(x, y)\n",
        "\n",
        "## Puntos para construir 2 líneas\n",
        "# usando la clase 'Punto'\n",
        "\n",
        "# Linea1 -> (P1,P2)\n",
        "puntito1 = Punto(1, 1)\n",
        "puntito2 = Punto(4, 4)\n",
        "\n",
        "# Linea2 -> (P3,P4)\n",
        "puntito3 = Punto(1, 8)\n",
        "puntito4 = Punto(3, 1)\n",
        "  \n",
        "\n",
        "# Calcular el punto de intersección\n",
        "puntoInter = Interseccion(puntito1, puntito2, puntito3, puntito4)\n",
        "\n",
        "## Imprimir punto de intersección\n",
        "\n",
        "# si las coordenadas del punto de intersección  \n",
        "# son un valor muy grande (NUMGRANDE)\n",
        "# entonces las líneas son paralelas\n",
        "if (puntoInter.x == NUMGRANDE and puntoInter.y == NUMGRANDE):\n",
        "\tprint(\"Las líneas L1 y L2 son paralelas.\")\n",
        "else:\n",
        "\t# en caso contrario, las líneas si se intersectan\n",
        "\tprint(\"La intersección de las líneas L1 y L2 es: \")\n",
        "\tpuntoInter.muestraPunto(puntoInter)\n",
        "\n",
        "     \n",
        "# gráficar rectas\n",
        "plt.figure(figsize=(5,5))\n",
        "plt.plot((puntito1.x,puntito2.x), (puntito1.y,puntito2.y), '.m-', label= 'Rosa')\n",
        "plt.plot((puntito3.x,puntito4.x), (puntito3.y,puntito4.y), '.y-', label= 'Amarillo')\n",
        "\n",
        "#Color, tamaño y marcador diferente para los puntos\n",
        "plt.scatter(puntito1.x,puntito1.y, color='crimson', s=90, marker='x')\n",
        "plt.scatter(puntito2.x,puntito2.y, color='darkorange', s=50, marker='s')\n",
        "plt.scatter(puntito3.x,puntito3.y, color='royalblue', s=190, marker='*')\n",
        "plt.scatter(puntito4.x,puntito4.y, color='indigo', s=150, marker='o')\n",
        "\n",
        "#Etiquetas para los ejes\n",
        "plt.xlabel('Eje x')\n",
        "plt.ylabel('Eje y')\n",
        "\n",
        "#Agregar titulo\n",
        "plt.title('Intersección de las lineas')\n",
        "plt.legend()\n",
        "\n",
        "# muestra el punto, solo si existe la intersección\n",
        "if puntoInter is not None:\n",
        "   plt.plot(puntoInter.x,puntoInter.y, 'ob', markersize=15)\n",
        "# muestra la figura\n",
        "plt.show()\n",
        "     "
      ]
    },
    {
      "cell_type": "code",
      "source": [
        "# importar librerias\n",
        "import matplotlib.pyplot as plt\n",
        "import numpy as np\n",
        "from random import random\n",
        "n = 4\n",
        "puntos = [(np.random.uniform(-100, 100), np.random.uniform(-100, -50)) for i in range (n)]\n",
        "print (puntos)\n",
        "print (puntos [1][1])\n",
        "# Clase utilizada para guardar coordenadas\n",
        "class Punto:\n",
        "# coordenadas para un punto\n",
        "  def __init__(self, x, y):\n",
        "# asigna x a la abcisa\n",
        "    self.x = x\n",
        "# asigna y a la ordenada\n",
        "    self.y = y\n",
        "# Imprime las coordenadas de un punto\n",
        "  def muestraPunto(self, punto):\n",
        "      print(f\"({punto.x}, {punto.y})\")\n",
        "  # definir un número grande\n",
        "  # para usarlo cuando exista división por cero\n",
        "  NUMGRANDE = 10**9\n",
        "## Intersección de dos líneas\n",
        "# Linea1 -> (P1,P2), Linea2 -> (P3,P4)\n",
        "def Interseccion(P1, P2, P3, P4):\n",
        "  # Linea1 representada por: A1x + B1y = C1\n",
        "  A1 = P2.y - P1.y\n",
        "  B1 = P1.x - P2.x\n",
        "  C1 = A1*(P1.x) + B1*(P1.y)\n",
        "  # Linea2 representada por: A2x + B2y = C2\n",
        "  A2 = P4.y - P3.y\n",
        "  B2 = P3.x - P4.x\n",
        "  C2 = A2*(P3.x) + B2*(P3.y)\n",
        "  # determinante\n",
        "  det = A1*B2 - A2*B1\n",
        "# probar si las líneas son paralelas\n",
        "  if (det == 0):\n",
        "  # las líneas son paralelas\n",
        "  # entonces asigna un número muy grande: NUMGRANDE\n",
        "  # para evitar división por cero\n",
        "    return Punto(NUMGRANDE, NUMGRANDE)\n",
        "  else:\n",
        "  # las líneas no son paralelas\n",
        "    x = (B2*C1 - B1*C2)/det\n",
        "    y = (A1*C2 - A2*C1)/det\n",
        "  # regresa el punto de intersección\n",
        "  return Punto(x, y)\n",
        "## Puntos para construir 2 líneas\n",
        "# usando la clase 'Punto'\n",
        "# Linea1 -> (P1,P2)\n",
        "puntito1 = Punto(puntos[0][0], puntos[0][1])\n",
        "puntito2 = Punto(puntos[1][0], puntos[1][1])\n",
        "# Linea2 -> (P3,P4)\n",
        "puntito3 = Punto(puntos[2][0], puntos[2][1])\n",
        "puntito4 = Punto(puntos[3][0], puntos[3][1])\n",
        "\n",
        "# Calcular el punto de intersección\n",
        "puntoInter = Interseccion(puntito1, puntito2, puntito3, puntito4)\n",
        "## Imprimir punto de intersección\n",
        "# si las coordenadas del punto de intersección\n",
        "# son un valor muy grande (NUMGRANDE)\n",
        "# entonces las líneas son paralelas\n",
        "if (puntoInter.x == NUMGRANDE and puntoInter.y == NUMGRANDE):\n",
        "      print(\"Las líneas L1 y L2 son paralelas.\")\n",
        "else:\n",
        "# en caso contrario, las líneas si se intersectan\n",
        "      print(\"La intersección de las líneas L1 y L2 es: \") \n",
        "      puntoInter.muestraPunto(puntoInter)\n",
        "# gráficar rectas\n",
        "plt.figure(figsize=(5,5))\n",
        "plt.plot((puntito1.x,puntito2.x), (puntito1.y,puntito2.y), '.m-', label= 'Rosa')\n",
        "plt.plot((puntito3.x,puntito4.x), (puntito3.y,puntito4.y), '.y-', label= 'Amarillo')\n",
        "\n",
        "#Color, tamaño y marcador diferente para los puntos\n",
        "plt.scatter(puntito1.x,puntito1.y, color='crimson', s=90, marker='x')\n",
        "plt.scatter(puntito2.x,puntito2.y, color='darkorange', s=50, marker='s')\n",
        "plt.scatter(puntito3.x,puntito3.y, color='royalblue', s=190, marker='*')\n",
        "plt.scatter(puntito4.x,puntito4.y, color='indigo', s=150, marker='o')\n",
        "#Etiquetas para los ejes\n",
        "plt.xlabel('Eje x')\n",
        "plt.ylabel('Eje y')\n",
        "#Agregar titulo\n",
        "plt.title('Intersección de las lineas')\n",
        "plt.legend()\n",
        "# muestra el punto, solo si existe la intersección\n",
        "if puntoInter is not None:\n",
        "  plt.plot(puntoInter.x,puntoInter.y, 'ob', markersize=15)\n",
        "# muestra la figura\n",
        "plt.show()"
      ],
      "metadata": {
        "colab": {
          "base_uri": "https://localhost:8080/",
          "height": 423
        },
        "id": "sorUCpoKJ1J9",
        "outputId": "2f4a62c2-1f06-4179-b4db-369beb8767de"
      },
      "execution_count": 8,
      "outputs": [
        {
          "output_type": "stream",
          "name": "stdout",
          "text": [
            "[(-50.310844308320334, -84.2778468137362), (-81.66101704530008, -89.39973380601838), (-23.695686376166236, -69.3305948346064), (22.32984821475074, -92.50737782632086)]\n",
            "-89.39973380601838\n",
            "La intersección de las líneas L1 y L2 es: \n",
            "(-7.803774212696299, -77.33318302418101)\n"
          ]
        },
        {
          "output_type": "display_data",
          "data": {
            "text/plain": [
              "<Figure size 360x360 with 1 Axes>"
            ],
            "image/png": "[encoded data removed]"
          },
          "metadata": {
            "needs_background": "light"
          }
        }
      ]
    }
  ]
}