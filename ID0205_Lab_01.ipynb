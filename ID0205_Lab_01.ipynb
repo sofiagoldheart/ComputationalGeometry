{
  "nbformat": 4,
  "nbformat_minor": 0,
  "metadata": {
    "colab": {
      "provenance": [],
      "authorship_tag": "ABX9TyOjJoxg3Ww3bbBL7S8I4Z7y",
      "include_colab_link": true
    },
    "kernelspec": {
      "name": "python3",
      "display_name": "Python 3"
    },
    "language_info": {
      "name": "python"
    }
  },
  "cells": [
    {
      "cell_type": "markdown",
      "metadata": {
        "id": "view-in-github",
        "colab_type": "text"
      },
      "source": [
        "<a href=\"https://colab.research.google.com/github/sofiagoldheart/ComputationalGeometry/blob/main/ID0205_Lab_01.ipynb\" target=\"_parent\"><img src=\"https://colab.research.google.com/assets/colab-badge.svg\" alt=\"Open In Colab\"/></a>"
      ]
    },
    {
      "cell_type": "markdown",
      "source": [
        "#ID0205 - Geometría Computacional\n",
        "\n",
        "### Primavera 2023\n",
        "\n",
        "Ejercicio 1: ID0205_Lab_01\n",
        "\n",
        "Sección: 1\n",
        "\n",
        "ID: 210300542\n",
        "\n",
        "Nombre completo: GUADALUPE POOL MAZUN.\n",
        "\n",
        "ID: 210300528 \n",
        "\n",
        "Nombre completo: ERIN GONZALEZ ZAVALA.\n",
        "\n",
        "ID: 210300519\n",
        "\n",
        "Nombre completo: DANIELA DE LA CRUZ FRIAS.\n",
        "\n",
        "ID: 210300529\n",
        "\n",
        "Nombre completo: SOFIA RUVALCABA DE LA NOVAL.\n",
        "\n",
        "\n",
        "Profesor: Enrique Naredo García"
      ],
      "metadata": {
        "id": "BoD8pr5Hibw3"
      }
    },
    {
      "cell_type": "markdown",
      "source": [
        "## Introducción\n"
      ],
      "metadata": {
        "id": "HZbcbOsqlrm0"
      }
    },
    {
      "cell_type": "markdown",
      "source": [
        "#I. Nivel de dificultad: Baja"
      ],
      "metadata": {
        "id": "cDl5EtaZ-RDt"
      }
    },
    {
      "cell_type": "code",
      "execution_count": 32,
      "metadata": {
        "colab": {
          "base_uri": "https://localhost:8080/",
          "height": 622
        },
        "id": "kFLsKbPZiUve",
        "outputId": "d653a788-5e49-420e-9418-1a0032f66631"
      },
      "outputs": [
        {
          "output_type": "display_data",
          "data": {
            "text/plain": [
              "<Figure size 720x720 with 1 Axes>"
            ],
            "image/png": "[encoded data removed]"
          },
          "metadata": {
            "needs_background": "light"
          }
        }
      ],
      "source": [
        "import matplotlib.pyplot as plt\n",
        "\n",
        "# Crear el plano cartesiano y establacer dimensiones.\n",
        "ancho = 10\n",
        "alto = 10\n",
        "fig, ax = plt.subplots(figsize=(ancho, alto))\n",
        "\n",
        "# Dibujar cuadricula\n",
        "ax.grid(which='both', color='silver', linewidth=1, linestyle='-', alpha=0.2)\n",
        "\n",
        "# Línea de eje vertical color azul:\n",
        "ax.axhline(y=0, color='blue', linewidth=2)\n",
        "# Flecha de eje vertical color cyan:\n",
        "arrow_y = dict(markersize=8, color='cyan', clip_on=False)\n",
        "ax.plot((0), (1), marker='^', transform=ax.get_xaxis_transform(), **arrow_y)\n",
        "# Línea de eje horizontal color rojo:\n",
        "ax.axvline(x=0, color='red', linewidth=2)\n",
        "# Flecha de eje horizontal color naranja:\n",
        "arrow_x = dict(markersize=8, color='orange', clip_on=False)\n",
        "ax.plot((1), (0), marker='>', transform=ax.get_yaxis_transform(), **arrow_x)\n",
        "\n",
        "ax.xaxis.set_tick_params(which='both', direction='in', labelsize=15)\n",
        "ax.yaxis.set_tick_params(which='both', direction='in', labelsize=15)\n",
        "\n",
        "# Incrementa en 5 unidades en cada cuadrante y utiliza marcas a cada 0.5 de unidad.\n",
        "ax.xaxis.set_ticks(range(-20, 21, 5))\n",
        "ax.yaxis.set_ticks(range(-20, 21, 5))\n",
        "ax.xaxis.set_minor_locator(plt.MultipleLocator(0.5))\n",
        "ax.yaxis.set_minor_locator(plt.MultipleLocator(0.5))\n",
        "\n",
        "# Nombra el eje vertical como alpha y el eje horizontal como beta.\n",
        "#Incrementa la letra de los ejes a 20.\n",
        "ax.set_xlabel(r'$\\alpha$', fontsize=20)\n",
        "ax.set_ylabel(r'$\\beta$', fontsize=20)\n",
        "\n",
        "\n",
        "# Mostrar el plano cartesiano\n",
        "plt.show()"
      ]
    },
    {
      "cell_type": "markdown",
      "source": [
        "#II. Nivel de dificultad: Media\n"
      ],
      "metadata": {
        "id": "_a4OpcCH-VqC"
      }
    },
    {
      "cell_type": "code",
      "source": [
        "import matplotlib.pyplot as plt\n",
        "\n",
        "def plot_coordinate_system(xmin, xmax, ymin, ymax):\n",
        "    # Crear el plano cartesiano\n",
        "    fig, ax = plt.subplots()\n",
        "\n",
        "    # Configurar las líneas de los ejes y las flechas\n",
        "    ax.axhline(y=0, color='blue', linewidth=2)\n",
        "    ax.axhline(y=0, xmin=0, xmax=1, color='cyan', linewidth=2, linestyle='dashed')\n",
        "    ax.axvline(x=0, color='red', linewidth=2)\n",
        "    ax.axvline(x=0, ymin=0, ymax=1, color='orange', linewidth=2, linestyle='dashed')\n",
        "\n",
        "    # Configurar las marcas de los ejes y los cuadrantes\n",
        "    ax.xaxis.set_tick_params(which='both', direction='in', labelsize=20)\n",
        "    ax.yaxis.set_tick_params(which='both', direction='in', labelsize=20)\n",
        "    ax.xaxis.set_ticks(range(xmin, xmax+1))\n",
        "    ax.yaxis.set_ticks(range(ymin, ymax+1))\n",
        "    ax.xaxis.set_tick_params(which='both', direction='in', labelsize=20)\n",
        "    ax.yaxis.set_tick_params(which='both', direction='in', labelsize=20)\n",
        "    ax.xaxis.set_minor_locator(plt.MultipleLocator(0.5))\n",
        "    ax.yaxis.set_minor_locator(plt.MultipleLocator(0.5))\n",
        "\n",
        "    # configurar limites del plano\n",
        "    plt.xlim(xmin, xmax)\n",
        "    plt.ylim(ymin, ymax)\n",
        "\n",
        "    # Mostrar el plano cartesiano\n",
        "    plt.show()"
      ],
      "metadata": {
        "id": "4SV0KrQx-buZ"
      },
      "execution_count": 36,
      "outputs": []
    },
    {
      "cell_type": "markdown",
      "source": [
        "## Conclusiones"
      ],
      "metadata": {
        "id": "kDW8p0Gal-CK"
      }
    },
    {
      "cell_type": "markdown",
      "source": [],
      "metadata": {
        "id": "JOKO80hnmBiU"
      }
    },
    {
      "cell_type": "markdown",
      "source": [],
      "metadata": {
        "id": "S1Fu9OCsmCgr"
      }
    },
    {
      "cell_type": "markdown",
      "source": [
        "## Bibliografía\n",
        "\n",
        "1. Referencia 1 en APA\n",
        "2. Referencia 1 en APA"
      ],
      "metadata": {
        "id": "8jod6n-OmJHk"
      }
    }
  ]
}