{
  "nbformat": 4,
  "nbformat_minor": 0,
  "metadata": {
    "colab": {
      "provenance": [],
      "include_colab_link": true
    },
    "kernelspec": {
      "name": "python3",
      "display_name": "Python 3"
    },
    "language_info": {
      "name": "python"
    }
  },
  "cells": [
    {
      "cell_type": "markdown",
      "metadata": {
        "id": "view-in-github",
        "colab_type": "text"
      },
      "source": [
        "<a href=\"https://colab.research.google.com/github/sofiagoldheart/ComputationalGeometry/blob/main/ID0205_Lab_01.ipynb\" target=\"_parent\"><img src=\"https://colab.research.google.com/assets/colab-badge.svg\" alt=\"Open In Colab\"/></a>"
      ]
    },
    {
      "cell_type": "markdown",
      "source": [
        "I. Nivel de dificultad: Baja"
      ],
      "metadata": {
        "id": "cDl5EtaZ-RDt"
      }
    },
    {
      "cell_type": "code",
      "execution_count": null,
      "metadata": {
        "colab": {
          "base_uri": "https://localhost:8080/",
          "height": 622
        },
        "id": "kFLsKbPZiUve",
        "outputId": "466d653a-1aa6-4bde-d43b-851386631482"
      },
      "outputs": [
        {
          "output_type": "display_data",
          "data": {
            "text/plain": [
              "<Figure size 720x720 with 1 Axes>"
            ],
            "image/png": "[encoded data removed]"
          },
          "metadata": {
            "needs_background": "light"
          }
        }
      ],
      "source": [
        "import matplotlib.pyplot as plt\n",
        "\n",
        "# Crear el plano cartesiano y establacer dimensiones.\n",
        "ancho = 10\n",
        "alto = 10\n",
        "fig, ax = plt.subplots(figsize=(ancho, alto))\n",
        "\n",
        "# Dibujar cuadricula\n",
        "ax.grid(which='both', color='silver', linewidth=1, linestyle='-', alpha=0.2)\n",
        "\n",
        "# Línea de eje vertical color azul:\n",
        "ax.axhline(y=0, color='blue', linewidth=2)\n",
        "# Flecha de eje vertical color cyan:\n",
        "arrow_y = dict(markersize=8, color='cyan', clip_on=False)\n",
        "ax.plot((0), (1), marker='^', transform=ax.get_xaxis_transform(), **arrow_y)\n",
        "# Línea de eje horizontal color rojo:\n",
        "ax.axvline(x=0, color='red', linewidth=2)\n",
        "# Flecha de eje horizontal color naranja:\n",
        "arrow_x = dict(markersize=8, color='orange', clip_on=False)\n",
        "ax.plot((1), (0), marker='>', transform=ax.get_yaxis_transform(), **arrow_x)\n",
        "\n",
        "ax.xaxis.set_tick_params(which='both', direction='in', labelsize=15)\n",
        "ax.yaxis.set_tick_params(which='both', direction='in', labelsize=15)\n",
        "\n",
        "# Incrementa en 5 unidades en cada cuadrante y utiliza marcas a cada 0.5 de unidad.\n",
        "ax.xaxis.set_ticks(range(-20, 21, 5))\n",
        "ax.yaxis.set_ticks(range(-20, 21, 5))\n",
        "ax.xaxis.set_minor_locator(plt.MultipleLocator(0.5))\n",
        "ax.yaxis.set_minor_locator(plt.MultipleLocator(0.5))\n",
        "\n",
        "# Nombra el eje vertical como alpha y el eje horizontal como beta.\n",
        "#Incrementa la letra de los ejes a 20.\n",
        "ax.set_xlabel(r'$\\alpha$', fontsize=20)\n",
        "ax.set_ylabel(r'$\\beta$', fontsize=20)\n",
        "\n",
        "\n",
        "# Mostrar el plano cartesiano\n",
        "plt.show()"
      ]
    },
    {
      "cell_type": "markdown",
      "source": [
        "II. Nivel de dificultad: Media"
      ],
      "metadata": {
        "id": "C-8JRcC7Ly0p"
      }
    },
    {
      "cell_type": "code",
      "source": [
        "%matplotlib inline\n",
        "\n",
        "import numpy as np\n",
        "import matplotlib.pyplot as plt\n",
        "\n",
        "def construir_plano(xmin, xmax, ymin, ymax):\n",
        "    # Crea el plano cartesiano\n",
        "    ancho = 10\n",
        "    alto = 10\n",
        "    fig, ax = plt.subplots(figsize=(ancho, alto))\n",
        "\n",
        "    # Configura el eje vertical (alpha)\n",
        "    ax.axvline(x=0, color='blue', linewidth=2)\n",
        "    ax.arrow(0, 0, 0, 5, head_width=0.1, head_length=0.2, fc='cyan', ec='cyan')\n",
        "    ax.set_ylabel(r'$\\alpha$', fontsize=20)\n",
        "\n",
        "    # Configura el eje horizontal (beta)\n",
        "    ax.axhline(y=0, color='red', linewidth=2)\n",
        "    ax.arrow(0, 0, 5, 0, head_width=0.1, head_length=0.2, fc='orange', ec='orange')\n",
        "    ax.set_xlabel(r'$\\beta$', fontsize=20)\n",
        "\n",
        "    # Configura el incremento en cada cuadrante y las marcas (ticks)\n",
        "    ax.xaxis.set_tick_params(which='both', size=5, width=2, labelsize=15)\n",
        "    ax.yaxis.set_tick_params(which='both', size=5, width=2, labelsize=15)\n",
        "    plt.xticks(range(xmin, xmax+1, 5))\n",
        "    plt.yticks(range(ymin, ymax+1, 5))\n",
        "    ax.xaxis.set_minor_locator(plt.MultipleLocator(0.5))\n",
        "    ax.yaxis.set_minor_locator(plt.MultipleLocator(0.5))\n",
        "\n",
        "    # Muestra el plano cartesiano\n",
        "    plt.show()\n"
      ],
      "metadata": {
        "id": "JTr4cc1XxYbt"
      },
      "execution_count": null,
      "outputs": []
    },
    {
      "cell_type": "code",
      "source": [
        "construir_plano(-20, 20, -5, 5)\n"
      ],
      "metadata": {
        "colab": {
          "base_uri": "https://localhost:8080/",
          "height": 631
        },
        "id": "BITYcgyAyxkq",
        "outputId": "adde8cff-d440-4e26-9a4f-4882a0c311f9"
      },
      "execution_count": null,
      "outputs": [
        {
          "output_type": "display_data",
          "data": {
            "text/plain": [
              "<Figure size 720x720 with 1 Axes>"
            ],
            "image/png": "[encoded data removed]"
          },
          "metadata": {
            "needs_background": "light"
          }
        }
      ]
    }
  ]
}