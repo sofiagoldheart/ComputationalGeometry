{
  "nbformat": 4,
  "nbformat_minor": 0,
  "metadata": {
    "colab": {
      "provenance": [],
      "include_colab_link": true
    },
    "kernelspec": {
      "name": "python3",
      "display_name": "Python 3"
    },
    "language_info": {
      "name": "python"
    },
    "widgets": {
      "application/vnd.jupyter.widget-state+json": {
        "282da0bb1cae41c6a1806599c7a846c7": {
          "model_module": "@jupyter-widgets/controls",
          "model_name": "VBoxModel",
          "model_module_version": "1.5.0",
          "state": {
            "_dom_classes": [
              "widget-interact"
            ],
            "_model_module": "@jupyter-widgets/controls",
            "_model_module_version": "1.5.0",
            "_model_name": "VBoxModel",
            "_view_count": null,
            "_view_module": "@jupyter-widgets/controls",
            "_view_module_version": "1.5.0",
            "_view_name": "VBoxView",
            "box_style": "",
            "children": [
              "IPY_MODEL_fb34ce57e716431484c20f36ef8cc71c",
              "IPY_MODEL_331dea44381543b78a5c0f95b1eca952",
              "IPY_MODEL_58ebe6a9ace5440f9b226765af4f0ecb",
              "IPY_MODEL_5acfa9ce3ac9430bbd1ec5e687d5f282"
            ],
            "layout": "IPY_MODEL_06db69c702d1497990a8469d2fb7415b"
          }
        },
        "fb34ce57e716431484c20f36ef8cc71c": {
          "model_module": "@jupyter-widgets/controls",
          "model_name": "IntSliderModel",
          "model_module_version": "1.5.0",
          "state": {
            "_dom_classes": [],
            "_model_module": "@jupyter-widgets/controls",
            "_model_module_version": "1.5.0",
            "_model_name": "IntSliderModel",
            "_view_count": null,
            "_view_module": "@jupyter-widgets/controls",
            "_view_module_version": "1.5.0",
            "_view_name": "IntSliderView",
            "continuous_update": true,
            "description": "n",
            "description_tooltip": null,
            "disabled": false,
            "layout": "IPY_MODEL_e90cc01fb3c54c3aa9c2ca59d4db069d",
            "max": 20,
            "min": 3,
            "orientation": "horizontal",
            "readout": true,
            "readout_format": "d",
            "step": 1,
            "style": "IPY_MODEL_9b91d6872783443fa1f06ed220bd9a84",
            "value": 15
          }
        },
        "331dea44381543b78a5c0f95b1eca952": {
          "model_module": "@jupyter-widgets/controls",
          "model_name": "IntSliderModel",
          "model_module_version": "1.5.0",
          "state": {
            "_dom_classes": [],
            "_model_module": "@jupyter-widgets/controls",
            "_model_module_version": "1.5.0",
            "_model_name": "IntSliderModel",
            "_view_count": null,
            "_view_module": "@jupyter-widgets/controls",
            "_view_module_version": "1.5.0",
            "_view_name": "IntSliderView",
            "continuous_update": true,
            "description": "valor_x",
            "description_tooltip": null,
            "disabled": false,
            "layout": "IPY_MODEL_9cfe369181294639a639f3e57925d899",
            "max": 20,
            "min": 10,
            "orientation": "horizontal",
            "readout": true,
            "readout_format": "d",
            "step": 1,
            "style": "IPY_MODEL_422489d4631243bba8018fbb9183c96d",
            "value": 13
          }
        },
        "58ebe6a9ace5440f9b226765af4f0ecb": {
          "model_module": "@jupyter-widgets/controls",
          "model_name": "IntSliderModel",
          "model_module_version": "1.5.0",
          "state": {
            "_dom_classes": [],
            "_model_module": "@jupyter-widgets/controls",
            "_model_module_version": "1.5.0",
            "_model_name": "IntSliderModel",
            "_view_count": null,
            "_view_module": "@jupyter-widgets/controls",
            "_view_module_version": "1.5.0",
            "_view_name": "IntSliderView",
            "continuous_update": true,
            "description": "valor_y",
            "description_tooltip": null,
            "disabled": false,
            "layout": "IPY_MODEL_333fc10a0c864a4aa4b3e36643c626f3",
            "max": 20,
            "min": 10,
            "orientation": "horizontal",
            "readout": true,
            "readout_format": "d",
            "step": 1,
            "style": "IPY_MODEL_640d5d5180b04633bc5185de8176cf7a",
            "value": 15
          }
        },
        "5acfa9ce3ac9430bbd1ec5e687d5f282": {
          "model_module": "@jupyter-widgets/output",
          "model_name": "OutputModel",
          "model_module_version": "1.0.0",
          "state": {
            "_dom_classes": [],
            "_model_module": "@jupyter-widgets/output",
            "_model_module_version": "1.0.0",
            "_model_name": "OutputModel",
            "_view_count": null,
            "_view_module": "@jupyter-widgets/output",
            "_view_module_version": "1.0.0",
            "_view_name": "OutputView",
            "layout": "IPY_MODEL_4f51310f79f34a229788e7773c9a22a7",
            "msg_id": "",
            "outputs": [
              {
                "output_type": "display_data",
                "data": {
                  "text/plain": "<Figure size 432x288 with 1 Axes>",
                  "image/png": "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\n"
                },
                "metadata": {
                  "needs_background": "light"
                }
              }
            ]
          }
        },
        "06db69c702d1497990a8469d2fb7415b": {
          "model_module": "@jupyter-widgets/base",
          "model_name": "LayoutModel",
          "model_module_version": "1.2.0",
          "state": {
            "_model_module": "@jupyter-widgets/base",
            "_model_module_version": "1.2.0",
            "_model_name": "LayoutModel",
            "_view_count": null,
            "_view_module": "@jupyter-widgets/base",
            "_view_module_version": "1.2.0",
            "_view_name": "LayoutView",
            "align_content": null,
            "align_items": null,
            "align_self": null,
            "border": null,
            "bottom": null,
            "display": null,
            "flex": null,
            "flex_flow": null,
            "grid_area": null,
            "grid_auto_columns": null,
            "grid_auto_flow": null,
            "grid_auto_rows": null,
            "grid_column": null,
            "grid_gap": null,
            "grid_row": null,
            "grid_template_areas": null,
            "grid_template_columns": null,
            "grid_template_rows": null,
            "height": null,
            "justify_content": null,
            "justify_items": null,
            "left": null,
            "margin": null,
            "max_height": null,
            "max_width": null,
            "min_height": null,
            "min_width": null,
            "object_fit": null,
            "object_position": null,
            "order": null,
            "overflow": null,
            "overflow_x": null,
            "overflow_y": null,
            "padding": null,
            "right": null,
            "top": null,
            "visibility": null,
            "width": null
          }
        },
        "e90cc01fb3c54c3aa9c2ca59d4db069d": {
          "model_module": "@jupyter-widgets/base",
          "model_name": "LayoutModel",
          "model_module_version": "1.2.0",
          "state": {
            "_model_module": "@jupyter-widgets/base",
            "_model_module_version": "1.2.0",
            "_model_name": "LayoutModel",
            "_view_count": null,
            "_view_module": "@jupyter-widgets/base",
            "_view_module_version": "1.2.0",
            "_view_name": "LayoutView",
            "align_content": null,
            "align_items": null,
            "align_self": null,
            "border": null,
            "bottom": null,
            "display": null,
            "flex": null,
            "flex_flow": null,
            "grid_area": null,
            "grid_auto_columns": null,
            "grid_auto_flow": null,
            "grid_auto_rows": null,
            "grid_column": null,
            "grid_gap": null,
            "grid_row": null,
            "grid_template_areas": null,
            "grid_template_columns": null,
            "grid_template_rows": null,
            "height": null,
            "justify_content": null,
            "justify_items": null,
            "left": null,
            "margin": null,
            "max_height": null,
            "max_width": null,
            "min_height": null,
            "min_width": null,
            "object_fit": null,
            "object_position": null,
            "order": null,
            "overflow": null,
            "overflow_x": null,
            "overflow_y": null,
            "padding": null,
            "right": null,
            "top": null,
            "visibility": null,
            "width": null
          }
        },
        "9b91d6872783443fa1f06ed220bd9a84": {
          "model_module": "@jupyter-widgets/controls",
          "model_name": "SliderStyleModel",
          "model_module_version": "1.5.0",
          "state": {
            "_model_module": "@jupyter-widgets/controls",
            "_model_module_version": "1.5.0",
            "_model_name": "SliderStyleModel",
            "_view_count": null,
            "_view_module": "@jupyter-widgets/base",
            "_view_module_version": "1.2.0",
            "_view_name": "StyleView",
            "description_width": "",
            "handle_color": null
          }
        },
        "9cfe369181294639a639f3e57925d899": {
          "model_module": "@jupyter-widgets/base",
          "model_name": "LayoutModel",
          "model_module_version": "1.2.0",
          "state": {
            "_model_module": "@jupyter-widgets/base",
            "_model_module_version": "1.2.0",
            "_model_name": "LayoutModel",
            "_view_count": null,
            "_view_module": "@jupyter-widgets/base",
            "_view_module_version": "1.2.0",
            "_view_name": "LayoutView",
            "align_content": null,
            "align_items": null,
            "align_self": null,
            "border": null,
            "bottom": null,
            "display": null,
            "flex": null,
            "flex_flow": null,
            "grid_area": null,
            "grid_auto_columns": null,
            "grid_auto_flow": null,
            "grid_auto_rows": null,
            "grid_column": null,
            "grid_gap": null,
            "grid_row": null,
            "grid_template_areas": null,
            "grid_template_columns": null,
            "grid_template_rows": null,
            "height": null,
            "justify_content": null,
            "justify_items": null,
            "left": null,
            "margin": null,
            "max_height": null,
            "max_width": null,
            "min_height": null,
            "min_width": null,
            "object_fit": null,
            "object_position": null,
            "order": null,
            "overflow": null,
            "overflow_x": null,
            "overflow_y": null,
            "padding": null,
            "right": null,
            "top": null,
            "visibility": null,
            "width": null
          }
        },
        "422489d4631243bba8018fbb9183c96d": {
          "model_module": "@jupyter-widgets/controls",
          "model_name": "SliderStyleModel",
          "model_module_version": "1.5.0",
          "state": {
            "_model_module": "@jupyter-widgets/controls",
            "_model_module_version": "1.5.0",
            "_model_name": "SliderStyleModel",
            "_view_count": null,
            "_view_module": "@jupyter-widgets/base",
            "_view_module_version": "1.2.0",
            "_view_name": "StyleView",
            "description_width": "",
            "handle_color": null
          }
        },
        "333fc10a0c864a4aa4b3e36643c626f3": {
          "model_module": "@jupyter-widgets/base",
          "model_name": "LayoutModel",
          "model_module_version": "1.2.0",
          "state": {
            "_model_module": "@jupyter-widgets/base",
            "_model_module_version": "1.2.0",
            "_model_name": "LayoutModel",
            "_view_count": null,
            "_view_module": "@jupyter-widgets/base",
            "_view_module_version": "1.2.0",
            "_view_name": "LayoutView",
            "align_content": null,
            "align_items": null,
            "align_self": null,
            "border": null,
            "bottom": null,
            "display": null,
            "flex": null,
            "flex_flow": null,
            "grid_area": null,
            "grid_auto_columns": null,
            "grid_auto_flow": null,
            "grid_auto_rows": null,
            "grid_column": null,
            "grid_gap": null,
            "grid_row": null,
            "grid_template_areas": null,
            "grid_template_columns": null,
            "grid_template_rows": null,
            "height": null,
            "justify_content": null,
            "justify_items": null,
            "left": null,
            "margin": null,
            "max_height": null,
            "max_width": null,
            "min_height": null,
            "min_width": null,
            "object_fit": null,
            "object_position": null,
            "order": null,
            "overflow": null,
            "overflow_x": null,
            "overflow_y": null,
            "padding": null,
            "right": null,
            "top": null,
            "visibility": null,
            "width": null
          }
        },
        "640d5d5180b04633bc5185de8176cf7a": {
          "model_module": "@jupyter-widgets/controls",
          "model_name": "SliderStyleModel",
          "model_module_version": "1.5.0",
          "state": {
            "_model_module": "@jupyter-widgets/controls",
            "_model_module_version": "1.5.0",
            "_model_name": "SliderStyleModel",
            "_view_count": null,
            "_view_module": "@jupyter-widgets/base",
            "_view_module_version": "1.2.0",
            "_view_name": "StyleView",
            "description_width": "",
            "handle_color": null
          }
        },
        "4f51310f79f34a229788e7773c9a22a7": {
          "model_module": "@jupyter-widgets/base",
          "model_name": "LayoutModel",
          "model_module_version": "1.2.0",
          "state": {
            "_model_module": "@jupyter-widgets/base",
            "_model_module_version": "1.2.0",
            "_model_name": "LayoutModel",
            "_view_count": null,
            "_view_module": "@jupyter-widgets/base",
            "_view_module_version": "1.2.0",
            "_view_name": "LayoutView",
            "align_content": null,
            "align_items": null,
            "align_self": null,
            "border": null,
            "bottom": null,
            "display": null,
            "flex": null,
            "flex_flow": null,
            "grid_area": null,
            "grid_auto_columns": null,
            "grid_auto_flow": null,
            "grid_auto_rows": null,
            "grid_column": null,
            "grid_gap": null,
            "grid_row": null,
            "grid_template_areas": null,
            "grid_template_columns": null,
            "grid_template_rows": null,
            "height": null,
            "justify_content": null,
            "justify_items": null,
            "left": null,
            "margin": null,
            "max_height": null,
            "max_width": null,
            "min_height": null,
            "min_width": null,
            "object_fit": null,
            "object_position": null,
            "order": null,
            "overflow": null,
            "overflow_x": null,
            "overflow_y": null,
            "padding": null,
            "right": null,
            "top": null,
            "visibility": null,
            "width": null
          }
        },
        "27ef03a44fc446bfa11ed04022923b26": {
          "model_module": "@jupyter-widgets/controls",
          "model_name": "VBoxModel",
          "model_module_version": "1.5.0",
          "state": {
            "_dom_classes": [
              "widget-interact"
            ],
            "_model_module": "@jupyter-widgets/controls",
            "_model_module_version": "1.5.0",
            "_model_name": "VBoxModel",
            "_view_count": null,
            "_view_module": "@jupyter-widgets/controls",
            "_view_module_version": "1.5.0",
            "_view_name": "VBoxView",
            "box_style": "",
            "children": [
              "IPY_MODEL_5ae037b136a24b0fae85a4c1e83266fd",
              "IPY_MODEL_1279d5d08ae649a993058ef560dfa1d5"
            ],
            "layout": "IPY_MODEL_be56dac8289d420784dcc63054f8d11b"
          }
        },
        "5ae037b136a24b0fae85a4c1e83266fd": {
          "model_module": "@jupyter-widgets/controls",
          "model_name": "IntSliderModel",
          "model_module_version": "1.5.0",
          "state": {
            "_dom_classes": [],
            "_model_module": "@jupyter-widgets/controls",
            "_model_module_version": "1.5.0",
            "_model_name": "IntSliderModel",
            "_view_count": null,
            "_view_module": "@jupyter-widgets/controls",
            "_view_module_version": "1.5.0",
            "_view_name": "IntSliderView",
            "continuous_update": true,
            "description": "n",
            "description_tooltip": null,
            "disabled": false,
            "layout": "IPY_MODEL_f58c1e3f546c4e6294d2a9c5b5a903fc",
            "max": 20,
            "min": 3,
            "orientation": "horizontal",
            "readout": true,
            "readout_format": "d",
            "step": 1,
            "style": "IPY_MODEL_4004b75a1c0a46058ffd93f95361f11c",
            "value": 12
          }
        },
        "1279d5d08ae649a993058ef560dfa1d5": {
          "model_module": "@jupyter-widgets/output",
          "model_name": "OutputModel",
          "model_module_version": "1.0.0",
          "state": {
            "_dom_classes": [],
            "_model_module": "@jupyter-widgets/output",
            "_model_module_version": "1.0.0",
            "_model_name": "OutputModel",
            "_view_count": null,
            "_view_module": "@jupyter-widgets/output",
            "_view_module_version": "1.0.0",
            "_view_name": "OutputView",
            "layout": "IPY_MODEL_35c89f1b07df45a08d4a9679c5f4301d",
            "msg_id": "",
            "outputs": [
              {
                "output_type": "display_data",
                "data": {
                  "text/plain": "<Figure size 432x288 with 1 Axes>",
                  "image/png": "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\n"
                },
                "metadata": {
                  "needs_background": "light"
                }
              }
            ]
          }
        },
        "be56dac8289d420784dcc63054f8d11b": {
          "model_module": "@jupyter-widgets/base",
          "model_name": "LayoutModel",
          "model_module_version": "1.2.0",
          "state": {
            "_model_module": "@jupyter-widgets/base",
            "_model_module_version": "1.2.0",
            "_model_name": "LayoutModel",
            "_view_count": null,
            "_view_module": "@jupyter-widgets/base",
            "_view_module_version": "1.2.0",
            "_view_name": "LayoutView",
            "align_content": null,
            "align_items": null,
            "align_self": null,
            "border": null,
            "bottom": null,
            "display": null,
            "flex": null,
            "flex_flow": null,
            "grid_area": null,
            "grid_auto_columns": null,
            "grid_auto_flow": null,
            "grid_auto_rows": null,
            "grid_column": null,
            "grid_gap": null,
            "grid_row": null,
            "grid_template_areas": null,
            "grid_template_columns": null,
            "grid_template_rows": null,
            "height": null,
            "justify_content": null,
            "justify_items": null,
            "left": null,
            "margin": null,
            "max_height": null,
            "max_width": null,
            "min_height": null,
            "min_width": null,
            "object_fit": null,
            "object_position": null,
            "order": null,
            "overflow": null,
            "overflow_x": null,
            "overflow_y": null,
            "padding": null,
            "right": null,
            "top": null,
            "visibility": null,
            "width": null
          }
        },
        "f58c1e3f546c4e6294d2a9c5b5a903fc": {
          "model_module": "@jupyter-widgets/base",
          "model_name": "LayoutModel",
          "model_module_version": "1.2.0",
          "state": {
            "_model_module": "@jupyter-widgets/base",
            "_model_module_version": "1.2.0",
            "_model_name": "LayoutModel",
            "_view_count": null,
            "_view_module": "@jupyter-widgets/base",
            "_view_module_version": "1.2.0",
            "_view_name": "LayoutView",
            "align_content": null,
            "align_items": null,
            "align_self": null,
            "border": null,
            "bottom": null,
            "display": null,
            "flex": null,
            "flex_flow": null,
            "grid_area": null,
            "grid_auto_columns": null,
            "grid_auto_flow": null,
            "grid_auto_rows": null,
            "grid_column": null,
            "grid_gap": null,
            "grid_row": null,
            "grid_template_areas": null,
            "grid_template_columns": null,
            "grid_template_rows": null,
            "height": null,
            "justify_content": null,
            "justify_items": null,
            "left": null,
            "margin": null,
            "max_height": null,
            "max_width": null,
            "min_height": null,
            "min_width": null,
            "object_fit": null,
            "object_position": null,
            "order": null,
            "overflow": null,
            "overflow_x": null,
            "overflow_y": null,
            "padding": null,
            "right": null,
            "top": null,
            "visibility": null,
            "width": null
          }
        },
        "4004b75a1c0a46058ffd93f95361f11c": {
          "model_module": "@jupyter-widgets/controls",
          "model_name": "SliderStyleModel",
          "model_module_version": "1.5.0",
          "state": {
            "_model_module": "@jupyter-widgets/controls",
            "_model_module_version": "1.5.0",
            "_model_name": "SliderStyleModel",
            "_view_count": null,
            "_view_module": "@jupyter-widgets/base",
            "_view_module_version": "1.2.0",
            "_view_name": "StyleView",
            "description_width": "",
            "handle_color": null
          }
        },
        "35c89f1b07df45a08d4a9679c5f4301d": {
          "model_module": "@jupyter-widgets/base",
          "model_name": "LayoutModel",
          "model_module_version": "1.2.0",
          "state": {
            "_model_module": "@jupyter-widgets/base",
            "_model_module_version": "1.2.0",
            "_model_name": "LayoutModel",
            "_view_count": null,
            "_view_module": "@jupyter-widgets/base",
            "_view_module_version": "1.2.0",
            "_view_name": "LayoutView",
            "align_content": null,
            "align_items": null,
            "align_self": null,
            "border": null,
            "bottom": null,
            "display": null,
            "flex": null,
            "flex_flow": null,
            "grid_area": null,
            "grid_auto_columns": null,
            "grid_auto_flow": null,
            "grid_auto_rows": null,
            "grid_column": null,
            "grid_gap": null,
            "grid_row": null,
            "grid_template_areas": null,
            "grid_template_columns": null,
            "grid_template_rows": null,
            "height": null,
            "justify_content": null,
            "justify_items": null,
            "left": null,
            "margin": null,
            "max_height": null,
            "max_width": null,
            "min_height": null,
            "min_width": null,
            "object_fit": null,
            "object_position": null,
            "order": null,
            "overflow": null,
            "overflow_x": null,
            "overflow_y": null,
            "padding": null,
            "right": null,
            "top": null,
            "visibility": null,
            "width": null
          }
        }
      }
    }
  },
  "cells": [
    {
      "cell_type": "markdown",
      "metadata": {
        "id": "view-in-github",
        "colab_type": "text"
      },
      "source": [
        "<a href=\"https://colab.research.google.com/github/sofiagoldheart/ComputationalGeometry/blob/main/ID0205_Lab_2_06_Ruvalcaba_Sofia.ipynb\" target=\"_parent\"><img src=\"https://colab.research.google.com/assets/colab-badge.svg\" alt=\"Open In Colab\"/></a>"
      ]
    },
    {
      "cell_type": "markdown",
      "source": [
        "#ID0205 - Geometría Computacional\n",
        "\n",
        "### Primavera 2023\n",
        "\n",
        "Ejercicio #: ID0205_Lab2_06\n",
        "\n",
        "Sección: 01\n",
        "\n",
        "ID: 210300529\n",
        "\n",
        "Nombre completo: Sofia Ruvalcaba de la Noval\n",
        "\n",
        "Profesor: Enrique Naredo García"
      ],
      "metadata": {
        "id": "8cyRdgNnj2Nb"
      }
    },
    {
      "cell_type": "markdown",
      "source": [
        "##Intoducción\n",
        "En el presente notebook podremos aprender sobre los usos de las librerias 'matplotlib.pyplot', 'ipywidgets' y 'numpy' en la creación de poligonos."
      ],
      "metadata": {
        "id": "AKpCbD8A5-WG"
      }
    },
    {
      "cell_type": "code",
      "source": [
        "import matplotlib.pyplot as plt\n",
        "from matplotlib.pyplot import *\n",
        "from numpy import *"
      ],
      "metadata": {
        "id": "rM2g8hQgiFCL"
      },
      "execution_count": 6,
      "outputs": []
    },
    {
      "cell_type": "markdown",
      "source": [
        "**Ejercicio 1**\n",
        "\n",
        "Utiliza el código anterior y varia el factor usado para multiplicar ls funciones trigonométricas (seno, coseno), utiliza para este fin una entrada tipo 'input', con tal de que el usuario ingrese estos valores.\n",
        "\n"
      ],
      "metadata": {
        "id": "vcVEMZ-XAUtB"
      }
    },
    {
      "cell_type": "code",
      "source": [
        "# ejemplo para recibir entradas de teclado.\n",
        "answer = input('Quieres imprimir un triángulo (si/no): ')\n",
        "#si la respuesta es si, esto será lo que haga:\n",
        "if answer == \"si\":\n",
        "  #representa los numeros de lados.\n",
        "  n = 3 \n",
        "  #funcion que define el poligono.\n",
        "  t = arange(0,360+(360/(n)),360/(n)) \n",
        "  valor_1 = int(input('Ingresa un valor\\n> '))\n",
        "  valor_2 = int(input('Ingresa otro valor\\n> '))\n",
        "  x = valor_1*sin(radians(t))\n",
        "  y = valor_2*cos(radians(t))\n",
        "  #grafica triángulo.\n",
        "  plot(x,y)\n",
        "  #con los ejes iguales\n",
        "  axis('equal')\n",
        "#si la respuesta es no, esta es la respuesta.\n",
        "else:  \n",
        "  print(\"Gracias, hasta pronto.\") "
      ],
      "metadata": {
        "id": "8rwBT2yEA1HR",
        "colab": {
          "base_uri": "https://localhost:8080/",
          "height": 356
        },
        "outputId": "674c4781-4a0f-4155-a64d-ec25b426a48e"
      },
      "execution_count": 7,
      "outputs": [
        {
          "name": "stdout",
          "output_type": "stream",
          "text": [
            "Quieres imprimir un triángulo (si/no): si\n",
            "Ingresa un valor\n",
            "> 6\n",
            "Ingresa otro valor\n",
            "> 3\n"
          ]
        },
        {
          "output_type": "display_data",
          "data": {
            "text/plain": [
              "<Figure size 432x288 with 1 Axes>"
            ],
            "image/png": "[encoded data removed]"
          },
          "metadata": {
            "needs_background": "light"
          }
        }
      ]
    },
    {
      "cell_type": "markdown",
      "source": [
        "**Ejercicio 2**\n",
        "\n",
        "Define:\n",
        "\n",
        "* Entrada por medio del usuario hasta 20 lados para la figura,\n",
        "\n",
        "* factor multiplicador para las funciones trigonométricas de 10 a 20."
      ],
      "metadata": {
        "id": "je8tW9sJClbK"
      }
    },
    {
      "cell_type": "code",
      "source": [
        "from ipywidgets import interactive\n",
        "\n",
        "#función que traza el poligon.\n",
        "def sides(n, valor_x, valor_y):\n",
        "    t = np.arange(0,360+(360/(n)),360/(n))\n",
        "    x = valor_x*np.sin(np.radians(t))\n",
        "    y = valor_y*np.cos(np.radians(t))\n",
        "    plt.plot(x,y)\n",
        "    plt.axis('equal')\n",
        "#creación de las barras interactivas.\n",
        "interactive_plot = interactive(sides, n=(3,20), valor_x=(10,20), valor_y=(10,20)) \n",
        "interactive_plot "
      ],
      "metadata": {
        "id": "a3-umJ4eJSYw",
        "colab": {
          "base_uri": "https://localhost:8080/",
          "height": 361,
          "referenced_widgets": [
            "282da0bb1cae41c6a1806599c7a846c7",
            "fb34ce57e716431484c20f36ef8cc71c",
            "331dea44381543b78a5c0f95b1eca952",
            "58ebe6a9ace5440f9b226765af4f0ecb",
            "5acfa9ce3ac9430bbd1ec5e687d5f282",
            "06db69c702d1497990a8469d2fb7415b",
            "e90cc01fb3c54c3aa9c2ca59d4db069d",
            "9b91d6872783443fa1f06ed220bd9a84",
            "9cfe369181294639a639f3e57925d899",
            "422489d4631243bba8018fbb9183c96d",
            "333fc10a0c864a4aa4b3e36643c626f3",
            "640d5d5180b04633bc5185de8176cf7a",
            "4f51310f79f34a229788e7773c9a22a7"
          ]
        },
        "outputId": "9855073d-6532-4552-a8a4-0b4796bb59a5"
      },
      "execution_count": 10,
      "outputs": [
        {
          "output_type": "display_data",
          "data": {
            "text/plain": [
              "interactive(children=(IntSlider(value=11, description='n', max=20, min=3), IntSlider(value=15, description='va…"
            ],
            "application/vnd.jupyter.widget-view+json": {
              "version_major": 2,
              "version_minor": 0,
              "model_id": "282da0bb1cae41c6a1806599c7a846c7"
            }
          },
          "metadata": {}
        }
      ]
    },
    {
      "cell_type": "markdown",
      "source": [
        "**Ejercicio 3**\n",
        "\n",
        "Agrega entradas (input) y controles interactivos para generar  poligonos de varios lados usando la librería 'Polygon'."
      ],
      "metadata": {
        "id": "vEKvx9mvIEd3"
      }
    },
    {
      "cell_type": "code",
      "source": [
        "import ipywidgets as widgets\n",
        "import matplotlib.pyplot as plt\n",
        "import numpy as np\n",
        "from matplotlib.patches import Polygon\n",
        "#definición de la figura a través de los ángulos.\n",
        "def create_fig(n):\n",
        "  angulo = np.linspace(0, 2*np.pi, n+1)\n",
        "  x = np.cos(angulo)\n",
        "  y = np.sin(angulo)\n",
        "  return x, y\n",
        "#esta función traza la figura por medio de polygon.\n",
        "def trazar_figura(n):\n",
        "  x, y = create_fig(n)\n",
        "  fig, ax = plt.subplots()\n",
        "  figura = Polygon(np.column_stack([x, y]), color='cyan')\n",
        "  ax.add_patch(figura)\n",
        "  ax.set_aspect('equal')\n",
        "  ax.set_xlim(-1,1)\n",
        "  ax.set_ylim(-1,1)\n",
        "  plt.show()\n",
        "control = input(\"¿Generar una figura? si/no\\n> \")\n",
        "#con la condicional le permitimos al usuario decidir si quiere o no crear la figura.\n",
        "if control.lower() == 'si':\n",
        "  lados = widgets.IntSlider(min=3, max=20, step=1)\n",
        "  widgets.interact(trazar_figura, n=lados)\n",
        "else:\n",
        "  print(\"Recibido, hasta luego\")"
      ],
      "metadata": {
        "colab": {
          "base_uri": "https://localhost:8080/",
          "height": 337,
          "referenced_widgets": [
            "27ef03a44fc446bfa11ed04022923b26",
            "5ae037b136a24b0fae85a4c1e83266fd",
            "1279d5d08ae649a993058ef560dfa1d5",
            "be56dac8289d420784dcc63054f8d11b",
            "f58c1e3f546c4e6294d2a9c5b5a903fc",
            "4004b75a1c0a46058ffd93f95361f11c",
            "35c89f1b07df45a08d4a9679c5f4301d"
          ]
        },
        "id": "BJ9f7Qpj1py_",
        "outputId": "e9b6d55d-72ee-495d-a415-63464c204912"
      },
      "execution_count": 11,
      "outputs": [
        {
          "name": "stdout",
          "output_type": "stream",
          "text": [
            "¿Generar una figura? si/no\n",
            "> si\n"
          ]
        },
        {
          "output_type": "display_data",
          "data": {
            "text/plain": [
              "interactive(children=(IntSlider(value=3, description='n', max=20, min=3), Output()), _dom_classes=('widget-int…"
            ],
            "application/vnd.jupyter.widget-view+json": {
              "version_major": 2,
              "version_minor": 0,
              "model_id": "27ef03a44fc446bfa11ed04022923b26"
            }
          },
          "metadata": {}
        }
      ]
    },
    {
      "cell_type": "markdown",
      "source": [
        "##Conclusión\n",
        "Se adquirieron conocimientos sobre dos técnicas para dibujar polígonos utilizando diferentes bibliotecas de Python, a saber, 'matplotlib.patches' y 'matplotlib.pyplot', con sus respectivas funcionalidades. Además, se utilizó 'numpy' para el cálculo de los ángulos de las figuras utilizando funciones trigonométricas. También se exploró el uso de la biblioteca 'ipywidgets' para la creación de barras interactivas que permiten a los usuarios crear polígonos de múltiples lados en cuestión de segundos."
      ],
      "metadata": {
        "id": "mx3v9Kvd685K"
      }
    }
  ]
}