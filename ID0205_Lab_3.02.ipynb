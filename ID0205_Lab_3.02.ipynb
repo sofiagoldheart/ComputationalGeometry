{
  "nbformat": 4,
  "nbformat_minor": 0,
  "metadata": {
    "colab": {
      "provenance": [],
      "include_colab_link": true
    },
    "kernelspec": {
      "name": "python3",
      "display_name": "Python 3"
    },
    "language_info": {
      "name": "python"
    }
  },
  "cells": [
    {
      "cell_type": "markdown",
      "metadata": {
        "id": "view-in-github",
        "colab_type": "text"
      },
      "source": [
        "<a href=\"https://colab.research.google.com/github/sofiagoldheart/ComputationalGeometry/blob/main/ID0205_Lab_3.02.ipynb\" target=\"_parent\"><img src=\"https://colab.research.google.com/assets/colab-badge.svg\" alt=\"Open In Colab\"/></a>"
      ]
    },
    {
      "cell_type": "markdown",
      "source": [
        "##Árboles\n",
        "\n",
        "Un árbol es una estructura de datos enlazada que organiza elementos en forma jerárquica. \n",
        "\n",
        "* Es decir, hay una relación padre/hijos. \n",
        "* Cada nodo puede tener más de un hijo, pero un solo padre. \n",
        "* Existe un nodo que no tiene padre denominado raiz. \n",
        "* Los nodos que no tienen hijos se denominan hojas\n",
        "* Un árbol es de orden N (o N-ario) cuando la máxima cantidad de hijos que puede tener un nodo es N.\n",
        "* La profundidad de un árbol es la distancia (saltos entre nodos) desde la raiz hasta la hoja más lejana. "
      ],
      "metadata": {
        "id": "ZtzrbO725Gay"
      }
    },
    {
      "cell_type": "code",
      "execution_count": null,
      "metadata": {
        "id": "kexM5B4I1wxR"
      },
      "outputs": [],
      "source": [
        "class Arbol:\n",
        "    def __init__(self, elemento):\n",
        "        self.hijos = []\n",
        "        self.elemento = elemento"
      ]
    },
    {
      "cell_type": "code",
      "source": [
        "def agregarElemento(arbol, elemento, elementoPadre):\n",
        "    subarbol = buscarSubarbol(arbol, elementoPadre);\n",
        "    subarbol.hijos.append(Arbol(elemento))"
      ],
      "metadata": {
        "id": "A-SDvbrJ2Hb6"
      },
      "execution_count": null,
      "outputs": []
    },
    {
      "cell_type": "code",
      "source": [
        "def buscarSubarbol(arbol, elemento):\n",
        "    if arbol.elemento == elemento:\n",
        "        return arbol\n",
        "    for subarbol in arbol.hijos:\n",
        "        arbolBuscado = buscarSubarbol(subarbol, elemento)\n",
        "        if (arbolBuscado != None):\n",
        "            return arbolBuscado\n",
        "    return None"
      ],
      "metadata": {
        "id": "HUenHNlv2JG7"
      },
      "execution_count": null,
      "outputs": []
    },
    {
      "cell_type": "code",
      "source": [
        "def profundidad(arbol):\n",
        "    if len(arbol.hijos) == 0: \n",
        "        return 1\n",
        "    return 1 + max(map(profundidad,arbol.hijos)) \n",
        "\n"
      ],
      "metadata": {
        "id": "m2-cdU_p2Rud"
      },
      "execution_count": null,
      "outputs": []
    },
    {
      "cell_type": "code",
      "source": [
        "def grado(arbol):\n",
        "    return max(map(grado, arbol.hijos) + [len(arbol.hijos)])"
      ],
      "metadata": {
        "id": "EFSxohgw2TJ2"
      },
      "execution_count": null,
      "outputs": []
    },
    {
      "cell_type": "code",
      "source": [
        "def ejecutarProfundidadPrimero(arbol, funcion):\n",
        "    funcion(arbol.elemento)\n",
        "    for hijo in arbol.hijos:\n",
        "        ejecutarProfundidadPrimero(hijo, funcion)"
      ],
      "metadata": {
        "id": "GJ3K79Yq2e7T"
      },
      "execution_count": null,
      "outputs": []
    },
    {
      "cell_type": "code",
      "source": [
        "def printElement(element):\n",
        "    print(element)"
      ],
      "metadata": {
        "id": "RbPORGXa2j6O"
      },
      "execution_count": null,
      "outputs": []
    },
    {
      "cell_type": "markdown",
      "source": [
        "**Ejemplo**\n",
        "\n",
        "El siguiente ejemplo ilustra como usar la clase y métodos definidos anteriormente."
      ],
      "metadata": {
        "id": "7fpXeQ9K3XjA"
      }
    },
    {
      "cell_type": "code",
      "source": [
        "abuela = \"Jaqueline Aki\"\n",
        "\n",
        "magy = \"Margarita Buena\"\n",
        "\n",
        "paty = \"Paty Mala\"\n",
        "\n",
        "salma = \"Salma Jayer\"\n",
        "\n",
        "barto = \"Bartolome Solano\"\n",
        "\n",
        "luisa = \"Luisa Salgado\"\n",
        "\n",
        "mary = \"Maria Sotelo\"\n",
        "\n",
        "lety = \"Lety Baltierra\"\n"
      ],
      "metadata": {
        "id": "RfqscZtj20S_"
      },
      "execution_count": null,
      "outputs": []
    },
    {
      "cell_type": "code",
      "source": [
        "arbol = Arbol(abuela)"
      ],
      "metadata": {
        "id": "LPFZfBPV3_Va"
      },
      "execution_count": null,
      "outputs": []
    },
    {
      "cell_type": "code",
      "source": [
        "agregarElemento(arbol, paty, abuela)\n",
        "\n",
        "agregarElemento(arbol, salma, abuela)\n",
        "\n",
        "agregarElemento(arbol, luisa, salma)\n",
        "\n",
        "agregarElemento(arbol, mary, abuela)\n",
        "\n",
        "agregarElemento(arbol, barto, magy)\n",
        "\n",
        "agregarElemento(arbol, luisa, mary)\n",
        "\n",
        "agregarElemento(arbol, magy, mary)"
      ],
      "metadata": {
        "id": "fSelc3xm20Qc"
      },
      "execution_count": null,
      "outputs": []
    },
    {
      "cell_type": "code",
      "source": [
        "ejecutarProfundidadPrimero(arbol, printElement)"
      ],
      "metadata": {
        "colab": {
          "base_uri": "https://localhost:8080/"
        },
        "id": "P4pc5qcJ2miX",
        "outputId": "e4dfcc12-46da-4e64-f6d4-db08e2bd2132"
      },
      "execution_count": null,
      "outputs": [
        {
          "output_type": "stream",
          "name": "stdout",
          "text": [
            "Jaqueline Aki\n",
            "Paty Mala\n",
            "Salma Jayer\n",
            "Lety Baltierra\n",
            "Luisa Salgado\n",
            "Margarita Buena\n",
            "Bartolome Solano\n",
            "Luisa Salgado\n",
            "Maria Sotelo\n",
            "Luisa Salgado\n",
            "Margarita Buena\n",
            "Bartolome Solano\n",
            "Paty Mala\n",
            "Salma Jayer\n",
            "Maria Sotelo\n"
          ]
        }
      ]
    },
    {
      "cell_type": "markdown",
      "source": [
        "**Ejercicio**\n",
        "\n",
        "Crea tu propio árbol genealógico y utiliza la clase 'Arbol' para hacer operaciones en el árbol."
      ],
      "metadata": {
        "id": "7ovH-lOX4uoL"
      }
    },
    {
      "cell_type": "code",
      "source": [
        "abuelo_materno = Arbol(\"Fausto\")\n",
        "abuela_materna = Arbol(\"Noemi\")\n",
        "padre = Arbol(\"Uhm\")\n",
        "tia_materna = Arbol(\"Marieta\")\n",
        "madre = Arbol(\"Alienne\")\n",
        "hija = Arbol(\"Sofia\")\n",
        "\n",
        "# Creamos las relaciones entre los nodos\n",
        "abuelo_materno.hijos = [madre, tia_materna]\n",
        "abuela_materna.hijos = [madre, tia_materna]\n",
        "madre.hijos = [hija]\n",
        "\n",
        "def imprimir_nodos(arbol, nivel=0):\n",
        "    print(\" \" * nivel + arbol.elemento)\n",
        "    for hijo in arbol.hijos:\n",
        "        imprimir_nodos(hijo, nivel + 2)\n",
        "\n",
        "imprimir_nodos(abuelo_materno)"
      ],
      "metadata": {
        "id": "3fCTRY1ploZU",
        "colab": {
          "base_uri": "https://localhost:8080/"
        },
        "outputId": "11ac937d-a157-43f4-e6ec-9900ad294f5d"
      },
      "execution_count": 9,
      "outputs": [
        {
          "output_type": "stream",
          "name": "stdout",
          "text": [
            "Fausto\n",
            "  Alienne\n",
            "    Sofia\n",
            "  Marieta\n"
          ]
        }
      ]
    }
  ]
}