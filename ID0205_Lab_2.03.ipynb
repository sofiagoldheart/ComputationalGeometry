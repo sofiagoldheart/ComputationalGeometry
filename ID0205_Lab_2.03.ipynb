{
  "nbformat": 4,
  "nbformat_minor": 0,
  "metadata": {
    "colab": {
      "provenance": [],
      "include_colab_link": true
    },
    "kernelspec": {
      "name": "python3",
      "display_name": "Python 3"
    },
    "language_info": {
      "name": "python"
    }
  },
  "cells": [
    {
      "cell_type": "markdown",
      "metadata": {
        "id": "view-in-github",
        "colab_type": "text"
      },
      "source": [
        "<a href=\"https://colab.research.google.com/github/sofiagoldheart/ComputationalGeometry/blob/main/ID0205_Lab_2.03.ipynb\" target=\"_parent\"><img src=\"https://colab.research.google.com/assets/colab-badge.svg\" alt=\"Open In Colab\"/></a>"
      ]
    },
    {
      "cell_type": "markdown",
      "source": [
        "**Ejercicios**\n",
        "\n",
        "\n",
        "1. Define 4 variables, 2 númericas y 2 con caracteres.\n",
        "\n",
        "2. Implementa la operación OR con los conjuntos númericos\n",
        "\n",
        "3. Implementa la operación OR con un conjunto númerico y otro con caracteres\n",
        "\n",
        "4. Implementa la operación AND con los conjuntos númericos\n",
        "\n",
        "5. Implementa la operación AND con un conjunto númerico y otro con caracteres\n",
        "\n",
        "6. Implementa la igualdad con los conjuntos númericos\n",
        "\n",
        "7. Implementa la igualdad con un conjunto númerico y otro con caracteres\n",
        "\n",
        "8. Implementa la diferencia con los conjuntos númericos\n",
        "\n",
        "9. Implementa la diferencia con un conjunto númerico y otro con caracteres\n",
        "\n",
        "10. Aplica la compuerta XOR para los números binarios que se proveen a continuación para cada equipo.\n",
        "\n",
        "Equipo-6: $1101 + 0111$"
      ],
      "metadata": {
        "id": "KEcaNaTb665g"
      }
    },
    {
      "cell_type": "code",
      "source": [
        "#Ejercicio 1\n",
        "num1 = 5\n",
        "num2 = 2\n",
        "palabra1 = 'buenas'\n",
        "palabra2 = 'tardes'\n",
        "print(f'2 variables tipo {type(num1)}: \"{num1}\" y \"{num2}\"\\n2 variables tipo {type(palabra1)} \"{palabra1}\" y \"{palabra2}\"')"
      ],
      "metadata": {
        "colab": {
          "base_uri": "https://localhost:8080/"
        },
        "id": "b_E3Qtk1UmXt",
        "outputId": "07019230-d854-4dc4-c036-b57a858f57b4"
      },
      "execution_count": null,
      "outputs": [
        {
          "output_type": "stream",
          "name": "stdout",
          "text": [
            "2 variables tipo <class 'int'>: \"5\" y \"2\"\n",
            "2 variables tipo <class 'str'> \"buenas\" y \"tardes\"\n"
          ]
        }
      ]
    },
    {
      "cell_type": "code",
      "source": [
        "#Ejercicio 2\n",
        "def operacion_or(a,b):\n",
        "  return a or b\n",
        "result = operacion_or(num1,num2)\n",
        "print(num1 or num2)"
      ],
      "metadata": {
        "id": "899QFn536iPp",
        "colab": {
          "base_uri": "https://localhost:8080/"
        },
        "outputId": "277da9f7-a89f-48e3-ad10-e20424b4ab71"
      },
      "execution_count": null,
      "outputs": [
        {
          "output_type": "stream",
          "name": "stdout",
          "text": [
            "5\n"
          ]
        }
      ]
    },
    {
      "cell_type": "code",
      "source": [
        "#Ejercicio 3\n",
        "def operacion_or(a,b):\n",
        "  return a or b\n",
        "result = operacion_or(num1,palabra1)\n",
        "print(result)"
      ],
      "metadata": {
        "id": "8T9VCVbr6kq5",
        "colab": {
          "base_uri": "https://localhost:8080/"
        },
        "outputId": "d3220829-4a32-4e5f-fae9-be341f37bdbc"
      },
      "execution_count": null,
      "outputs": [
        {
          "output_type": "stream",
          "name": "stdout",
          "text": [
            "5\n"
          ]
        }
      ]
    },
    {
      "cell_type": "code",
      "source": [
        "#Ejercicio 4\n",
        "def operacion_and(a, b):\n",
        "  return a and b\n",
        "result = operacion_and(num1, num2)\n",
        "print(result)"
      ],
      "metadata": {
        "id": "-XpAstgT6mbd",
        "outputId": "6ddd6fb5-6ca6-4f4a-bcca-750fc7cfd7c9",
        "colab": {
          "base_uri": "https://localhost:8080/"
        }
      },
      "execution_count": null,
      "outputs": [
        {
          "output_type": "stream",
          "name": "stdout",
          "text": [
            "2\n"
          ]
        }
      ]
    },
    {
      "cell_type": "code",
      "source": [
        "#Ejercicio 5\n",
        "def operacion_and(a, b):\n",
        "  return a and b\n",
        "result = operacion_and(num1, palabra1)\n",
        "print(result)"
      ],
      "metadata": {
        "id": "KnTOaS5g6oBm",
        "colab": {
          "base_uri": "https://localhost:8080/"
        },
        "outputId": "c7577da9-8f47-438f-cb94-db99a4b25e84"
      },
      "execution_count": null,
      "outputs": [
        {
          "output_type": "stream",
          "name": "stdout",
          "text": [
            "buenas\n"
          ]
        }
      ]
    },
    {
      "cell_type": "code",
      "source": [
        "#Ejercicio 6\n",
        "def operacion_equal(a, b):\n",
        "  return a == b\n",
        "result = operacion_equal(num1, num2)\n",
        "print(result)"
      ],
      "metadata": {
        "id": "EP-Sb--C6qUn",
        "colab": {
          "base_uri": "https://localhost:8080/"
        },
        "outputId": "4b4e8a0e-901d-4dd7-88eb-a64847b19db7"
      },
      "execution_count": null,
      "outputs": [
        {
          "output_type": "stream",
          "name": "stdout",
          "text": [
            "False\n"
          ]
        }
      ]
    },
    {
      "cell_type": "code",
      "source": [
        "#Ejercicio 7\n",
        "def operacion_equal(a, b):\n",
        "  return a == b\n",
        "result = operacion_equal(num1, palabra1)\n",
        "print(result)"
      ],
      "metadata": {
        "id": "OoB1ZFY46sQ_",
        "colab": {
          "base_uri": "https://localhost:8080/"
        },
        "outputId": "31696be3-2f45-4e4d-dca9-7b7d9780c139"
      },
      "execution_count": null,
      "outputs": [
        {
          "output_type": "stream",
          "name": "stdout",
          "text": [
            "False\n"
          ]
        }
      ]
    },
    {
      "cell_type": "code",
      "source": [
        "#Ejercicio 8\n",
        "def operacion_diff(a, b):\n",
        "  return a != b\n",
        "result = operacion_diff(num1, num2)\n",
        "print(result)"
      ],
      "metadata": {
        "id": "DWxZfwsr6uFU",
        "colab": {
          "base_uri": "https://localhost:8080/"
        },
        "outputId": "44b0c8b7-04bb-495d-92f6-cdd10e3aa937"
      },
      "execution_count": null,
      "outputs": [
        {
          "output_type": "stream",
          "name": "stdout",
          "text": [
            "True\n"
          ]
        }
      ]
    },
    {
      "cell_type": "code",
      "source": [
        "#Ejercicio 9\n",
        "def operacion_diff(a, b):\n",
        "  return a != b\n",
        "result = operacion_diff(num1, palabra1)\n",
        "print(result)"
      ],
      "metadata": {
        "id": "d63jbcun6v-J",
        "colab": {
          "base_uri": "https://localhost:8080/"
        },
        "outputId": "dc3ea6f4-e53b-4fad-970b-8495f0143568"
      },
      "execution_count": null,
      "outputs": [
        {
          "output_type": "stream",
          "name": "stdout",
          "text": [
            "True\n"
          ]
        }
      ]
    },
    {
      "cell_type": "code",
      "source": [
        "#Ejercicio 10\n",
        "# 1101 + 0111\n",
        "print(True ^ False) \n",
        "print(True ^ True)  \n",
        "print(False ^ True)  \n",
        "print(True ^ True) "
      ],
      "metadata": {
        "id": "l101WDJ66xPG",
        "colab": {
          "base_uri": "https://localhost:8080/"
        },
        "outputId": "80034a23-84bc-4609-9bde-117e46ee8a56"
      },
      "execution_count": null,
      "outputs": [
        {
          "output_type": "stream",
          "name": "stdout",
          "text": [
            "True\n",
            "False\n",
            "True\n",
            "False\n"
          ]
        }
      ]
    },
    {
      "cell_type": "markdown",
      "source": [
        "* $1 ⊕ 0 = 1 $\n",
        "* $1 ⊕ 1 = 0 $\n",
        "* $0 ⊕ 1 = 1 $\n",
        "* $1 ⊕ 1 = 0 $"
      ],
      "metadata": {
        "id": "glrZY6KGmLMH"
      }
    }
  ]
}