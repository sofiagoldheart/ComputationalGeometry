{
  "nbformat": 4,
  "nbformat_minor": 0,
  "metadata": {
    "colab": {
      "provenance": [],
      "include_colab_link": true
    },
    "kernelspec": {
      "name": "python3",
      "display_name": "Python 3"
    },
    "language_info": {
      "name": "python"
    },
    "widgets": {
      "application/vnd.jupyter.widget-state+json": {
        "256802806475449ebf6310ccb696b8de": {
          "model_module": "@jupyter-widgets/controls",
          "model_name": "IntSliderModel",
          "model_module_version": "1.5.0",
          "state": {
            "_dom_classes": [],
            "_model_module": "@jupyter-widgets/controls",
            "_model_module_version": "1.5.0",
            "_model_name": "IntSliderModel",
            "_view_count": null,
            "_view_module": "@jupyter-widgets/controls",
            "_view_module_version": "1.5.0",
            "_view_name": "IntSliderView",
            "continuous_update": true,
            "description": "Triangulación:",
            "description_tooltip": null,
            "disabled": false,
            "layout": "IPY_MODEL_d8020c86373d4aa2b8cfc04664a9fd6d",
            "max": 50,
            "min": 3,
            "orientation": "horizontal",
            "readout": true,
            "readout_format": "d",
            "step": 1,
            "style": "IPY_MODEL_7b1c1ee9fac44f399b814f0a2f793aae",
            "value": 3
          }
        },
        "d8020c86373d4aa2b8cfc04664a9fd6d": {
          "model_module": "@jupyter-widgets/base",
          "model_name": "LayoutModel",
          "model_module_version": "1.2.0",
          "state": {
            "_model_module": "@jupyter-widgets/base",
            "_model_module_version": "1.2.0",
            "_model_name": "LayoutModel",
            "_view_count": null,
            "_view_module": "@jupyter-widgets/base",
            "_view_module_version": "1.2.0",
            "_view_name": "LayoutView",
            "align_content": null,
            "align_items": null,
            "align_self": null,
            "border": null,
            "bottom": null,
            "display": null,
            "flex": null,
            "flex_flow": null,
            "grid_area": null,
            "grid_auto_columns": null,
            "grid_auto_flow": null,
            "grid_auto_rows": null,
            "grid_column": null,
            "grid_gap": null,
            "grid_row": null,
            "grid_template_areas": null,
            "grid_template_columns": null,
            "grid_template_rows": null,
            "height": null,
            "justify_content": null,
            "justify_items": null,
            "left": null,
            "margin": null,
            "max_height": null,
            "max_width": null,
            "min_height": null,
            "min_width": null,
            "object_fit": null,
            "object_position": null,
            "order": null,
            "overflow": null,
            "overflow_x": null,
            "overflow_y": null,
            "padding": null,
            "right": null,
            "top": null,
            "visibility": null,
            "width": null
          }
        },
        "7b1c1ee9fac44f399b814f0a2f793aae": {
          "model_module": "@jupyter-widgets/controls",
          "model_name": "SliderStyleModel",
          "model_module_version": "1.5.0",
          "state": {
            "_model_module": "@jupyter-widgets/controls",
            "_model_module_version": "1.5.0",
            "_model_name": "SliderStyleModel",
            "_view_count": null,
            "_view_module": "@jupyter-widgets/base",
            "_view_module_version": "1.2.0",
            "_view_name": "StyleView",
            "description_width": "",
            "handle_color": null
          }
        },
        "15da0f77ab2348cb8407ae0116e5f24b": {
          "model_module": "@jupyter-widgets/controls",
          "model_name": "VBoxModel",
          "model_module_version": "1.5.0",
          "state": {
            "_dom_classes": [
              "widget-interact"
            ],
            "_model_module": "@jupyter-widgets/controls",
            "_model_module_version": "1.5.0",
            "_model_name": "VBoxModel",
            "_view_count": null,
            "_view_module": "@jupyter-widgets/controls",
            "_view_module_version": "1.5.0",
            "_view_name": "VBoxView",
            "box_style": "",
            "children": [
              "IPY_MODEL_256802806475449ebf6310ccb696b8de",
              "IPY_MODEL_56fb511e587d4d1484a2386e6eef2de8"
            ],
            "layout": "IPY_MODEL_e5e3b0e55a984e0eb1ac6193003b6d3b"
          }
        },
        "56fb511e587d4d1484a2386e6eef2de8": {
          "model_module": "@jupyter-widgets/output",
          "model_name": "OutputModel",
          "model_module_version": "1.0.0",
          "state": {
            "_dom_classes": [],
            "_model_module": "@jupyter-widgets/output",
            "_model_module_version": "1.0.0",
            "_model_name": "OutputModel",
            "_view_count": null,
            "_view_module": "@jupyter-widgets/output",
            "_view_module_version": "1.0.0",
            "_view_name": "OutputView",
            "layout": "IPY_MODEL_48804eda773447d4bf7483e71312c785",
            "msg_id": "",
            "outputs": [
              {
                "output_type": "display_data",
                "data": {
                  "text/plain": "<Figure size 432x288 with 1 Axes>",
                  "image/png": "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\n"
                },
                "metadata": {
                  "needs_background": "light"
                }
              }
            ]
          }
        },
        "e5e3b0e55a984e0eb1ac6193003b6d3b": {
          "model_module": "@jupyter-widgets/base",
          "model_name": "LayoutModel",
          "model_module_version": "1.2.0",
          "state": {
            "_model_module": "@jupyter-widgets/base",
            "_model_module_version": "1.2.0",
            "_model_name": "LayoutModel",
            "_view_count": null,
            "_view_module": "@jupyter-widgets/base",
            "_view_module_version": "1.2.0",
            "_view_name": "LayoutView",
            "align_content": null,
            "align_items": null,
            "align_self": null,
            "border": null,
            "bottom": null,
            "display": null,
            "flex": null,
            "flex_flow": null,
            "grid_area": null,
            "grid_auto_columns": null,
            "grid_auto_flow": null,
            "grid_auto_rows": null,
            "grid_column": null,
            "grid_gap": null,
            "grid_row": null,
            "grid_template_areas": null,
            "grid_template_columns": null,
            "grid_template_rows": null,
            "height": null,
            "justify_content": null,
            "justify_items": null,
            "left": null,
            "margin": null,
            "max_height": null,
            "max_width": null,
            "min_height": null,
            "min_width": null,
            "object_fit": null,
            "object_position": null,
            "order": null,
            "overflow": null,
            "overflow_x": null,
            "overflow_y": null,
            "padding": null,
            "right": null,
            "top": null,
            "visibility": null,
            "width": null
          }
        },
        "48804eda773447d4bf7483e71312c785": {
          "model_module": "@jupyter-widgets/base",
          "model_name": "LayoutModel",
          "model_module_version": "1.2.0",
          "state": {
            "_model_module": "@jupyter-widgets/base",
            "_model_module_version": "1.2.0",
            "_model_name": "LayoutModel",
            "_view_count": null,
            "_view_module": "@jupyter-widgets/base",
            "_view_module_version": "1.2.0",
            "_view_name": "LayoutView",
            "align_content": null,
            "align_items": null,
            "align_self": null,
            "border": null,
            "bottom": null,
            "display": null,
            "flex": null,
            "flex_flow": null,
            "grid_area": null,
            "grid_auto_columns": null,
            "grid_auto_flow": null,
            "grid_auto_rows": null,
            "grid_column": null,
            "grid_gap": null,
            "grid_row": null,
            "grid_template_areas": null,
            "grid_template_columns": null,
            "grid_template_rows": null,
            "height": null,
            "justify_content": null,
            "justify_items": null,
            "left": null,
            "margin": null,
            "max_height": null,
            "max_width": null,
            "min_height": null,
            "min_width": null,
            "object_fit": null,
            "object_position": null,
            "order": null,
            "overflow": null,
            "overflow_x": null,
            "overflow_y": null,
            "padding": null,
            "right": null,
            "top": null,
            "visibility": null,
            "width": null
          }
        },
        "afd1a277cf7e42dba6983ad381edab73": {
          "model_module": "@jupyter-widgets/controls",
          "model_name": "IntSliderModel",
          "model_module_version": "1.5.0",
          "state": {
            "_dom_classes": [],
            "_model_module": "@jupyter-widgets/controls",
            "_model_module_version": "1.5.0",
            "_model_name": "IntSliderModel",
            "_view_count": null,
            "_view_module": "@jupyter-widgets/controls",
            "_view_module_version": "1.5.0",
            "_view_name": "IntSliderView",
            "continuous_update": true,
            "description": "Triangulación:",
            "description_tooltip": null,
            "disabled": false,
            "layout": "IPY_MODEL_aab595cf0d6445c6ba5fb4600fc0601d",
            "max": 50,
            "min": 3,
            "orientation": "horizontal",
            "readout": true,
            "readout_format": "d",
            "step": 1,
            "style": "IPY_MODEL_6955437de87148fea4646f3dd9ea5fa7",
            "value": 3
          }
        },
        "aab595cf0d6445c6ba5fb4600fc0601d": {
          "model_module": "@jupyter-widgets/base",
          "model_name": "LayoutModel",
          "model_module_version": "1.2.0",
          "state": {
            "_model_module": "@jupyter-widgets/base",
            "_model_module_version": "1.2.0",
            "_model_name": "LayoutModel",
            "_view_count": null,
            "_view_module": "@jupyter-widgets/base",
            "_view_module_version": "1.2.0",
            "_view_name": "LayoutView",
            "align_content": null,
            "align_items": null,
            "align_self": null,
            "border": null,
            "bottom": null,
            "display": null,
            "flex": null,
            "flex_flow": null,
            "grid_area": null,
            "grid_auto_columns": null,
            "grid_auto_flow": null,
            "grid_auto_rows": null,
            "grid_column": null,
            "grid_gap": null,
            "grid_row": null,
            "grid_template_areas": null,
            "grid_template_columns": null,
            "grid_template_rows": null,
            "height": null,
            "justify_content": null,
            "justify_items": null,
            "left": null,
            "margin": null,
            "max_height": null,
            "max_width": null,
            "min_height": null,
            "min_width": null,
            "object_fit": null,
            "object_position": null,
            "order": null,
            "overflow": null,
            "overflow_x": null,
            "overflow_y": null,
            "padding": null,
            "right": null,
            "top": null,
            "visibility": null,
            "width": null
          }
        },
        "6955437de87148fea4646f3dd9ea5fa7": {
          "model_module": "@jupyter-widgets/controls",
          "model_name": "SliderStyleModel",
          "model_module_version": "1.5.0",
          "state": {
            "_model_module": "@jupyter-widgets/controls",
            "_model_module_version": "1.5.0",
            "_model_name": "SliderStyleModel",
            "_view_count": null,
            "_view_module": "@jupyter-widgets/base",
            "_view_module_version": "1.2.0",
            "_view_name": "StyleView",
            "description_width": "",
            "handle_color": null
          }
        },
        "5b251e0d997d47068079a966f665dc47": {
          "model_module": "@jupyter-widgets/controls",
          "model_name": "VBoxModel",
          "model_module_version": "1.5.0",
          "state": {
            "_dom_classes": [
              "widget-interact"
            ],
            "_model_module": "@jupyter-widgets/controls",
            "_model_module_version": "1.5.0",
            "_model_name": "VBoxModel",
            "_view_count": null,
            "_view_module": "@jupyter-widgets/controls",
            "_view_module_version": "1.5.0",
            "_view_name": "VBoxView",
            "box_style": "",
            "children": [
              "IPY_MODEL_afd1a277cf7e42dba6983ad381edab73",
              "IPY_MODEL_2e480a001f7f47d5a69e2a9f70b17e01"
            ],
            "layout": "IPY_MODEL_eb703b9f79554fa08458516305e47e0e"
          }
        },
        "2e480a001f7f47d5a69e2a9f70b17e01": {
          "model_module": "@jupyter-widgets/output",
          "model_name": "OutputModel",
          "model_module_version": "1.0.0",
          "state": {
            "_dom_classes": [],
            "_model_module": "@jupyter-widgets/output",
            "_model_module_version": "1.0.0",
            "_model_name": "OutputModel",
            "_view_count": null,
            "_view_module": "@jupyter-widgets/output",
            "_view_module_version": "1.0.0",
            "_view_name": "OutputView",
            "layout": "IPY_MODEL_25b457bf869346d3a4dd02787d4fd69d",
            "msg_id": "",
            "outputs": [
              {
                "output_type": "display_data",
                "data": {
                  "text/plain": "<Figure size 432x288 with 1 Axes>",
                  "image/png": "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\n"
                },
                "metadata": {
                  "needs_background": "light"
                }
              }
            ]
          }
        },
        "eb703b9f79554fa08458516305e47e0e": {
          "model_module": "@jupyter-widgets/base",
          "model_name": "LayoutModel",
          "model_module_version": "1.2.0",
          "state": {
            "_model_module": "@jupyter-widgets/base",
            "_model_module_version": "1.2.0",
            "_model_name": "LayoutModel",
            "_view_count": null,
            "_view_module": "@jupyter-widgets/base",
            "_view_module_version": "1.2.0",
            "_view_name": "LayoutView",
            "align_content": null,
            "align_items": null,
            "align_self": null,
            "border": null,
            "bottom": null,
            "display": null,
            "flex": null,
            "flex_flow": null,
            "grid_area": null,
            "grid_auto_columns": null,
            "grid_auto_flow": null,
            "grid_auto_rows": null,
            "grid_column": null,
            "grid_gap": null,
            "grid_row": null,
            "grid_template_areas": null,
            "grid_template_columns": null,
            "grid_template_rows": null,
            "height": null,
            "justify_content": null,
            "justify_items": null,
            "left": null,
            "margin": null,
            "max_height": null,
            "max_width": null,
            "min_height": null,
            "min_width": null,
            "object_fit": null,
            "object_position": null,
            "order": null,
            "overflow": null,
            "overflow_x": null,
            "overflow_y": null,
            "padding": null,
            "right": null,
            "top": null,
            "visibility": null,
            "width": null
          }
        },
        "25b457bf869346d3a4dd02787d4fd69d": {
          "model_module": "@jupyter-widgets/base",
          "model_name": "LayoutModel",
          "model_module_version": "1.2.0",
          "state": {
            "_model_module": "@jupyter-widgets/base",
            "_model_module_version": "1.2.0",
            "_model_name": "LayoutModel",
            "_view_count": null,
            "_view_module": "@jupyter-widgets/base",
            "_view_module_version": "1.2.0",
            "_view_name": "LayoutView",
            "align_content": null,
            "align_items": null,
            "align_self": null,
            "border": null,
            "bottom": null,
            "display": null,
            "flex": null,
            "flex_flow": null,
            "grid_area": null,
            "grid_auto_columns": null,
            "grid_auto_flow": null,
            "grid_auto_rows": null,
            "grid_column": null,
            "grid_gap": null,
            "grid_row": null,
            "grid_template_areas": null,
            "grid_template_columns": null,
            "grid_template_rows": null,
            "height": null,
            "justify_content": null,
            "justify_items": null,
            "left": null,
            "margin": null,
            "max_height": null,
            "max_width": null,
            "min_height": null,
            "min_width": null,
            "object_fit": null,
            "object_position": null,
            "order": null,
            "overflow": null,
            "overflow_x": null,
            "overflow_y": null,
            "padding": null,
            "right": null,
            "top": null,
            "visibility": null,
            "width": null
          }
        },
        "1ece4add7350457ab574695326b5253f": {
          "model_module": "@jupyter-widgets/controls",
          "model_name": "VBoxModel",
          "model_module_version": "1.5.0",
          "state": {
            "_dom_classes": [
              "widget-interact"
            ],
            "_model_module": "@jupyter-widgets/controls",
            "_model_module_version": "1.5.0",
            "_model_name": "VBoxModel",
            "_view_count": null,
            "_view_module": "@jupyter-widgets/controls",
            "_view_module_version": "1.5.0",
            "_view_name": "VBoxView",
            "box_style": "",
            "children": [
              "IPY_MODEL_361f75936725482590e6f69fc130ef22",
              "IPY_MODEL_038b922dd12f450196a3abc28aa3afa1",
              "IPY_MODEL_94c11dbe60e941958f87a863bb128737",
              "IPY_MODEL_98d5c8866fbb4c788fdd4d7a99cf64ab"
            ],
            "layout": "IPY_MODEL_2558ada9b0e94aae9c706fd02ca9f3a1"
          }
        },
        "361f75936725482590e6f69fc130ef22": {
          "model_module": "@jupyter-widgets/controls",
          "model_name": "FloatSliderModel",
          "model_module_version": "1.5.0",
          "state": {
            "_dom_classes": [],
            "_model_module": "@jupyter-widgets/controls",
            "_model_module_version": "1.5.0",
            "_model_name": "FloatSliderModel",
            "_view_count": null,
            "_view_module": "@jupyter-widgets/controls",
            "_view_module_version": "1.5.0",
            "_view_name": "FloatSliderView",
            "continuous_update": true,
            "description": "Radio interior",
            "description_tooltip": null,
            "disabled": false,
            "layout": "IPY_MODEL_1bff9d2be4924339bc83fb43533181b2",
            "max": 0.9,
            "min": 0.1,
            "orientation": "horizontal",
            "readout": true,
            "readout_format": ".2f",
            "step": 0.05,
            "style": "IPY_MODEL_5a46b1f5ffa14c45859606c61c379875",
            "value": 0.2
          }
        },
        "038b922dd12f450196a3abc28aa3afa1": {
          "model_module": "@jupyter-widgets/controls",
          "model_name": "FloatSliderModel",
          "model_module_version": "1.5.0",
          "state": {
            "_dom_classes": [],
            "_model_module": "@jupyter-widgets/controls",
            "_model_module_version": "1.5.0",
            "_model_name": "FloatSliderModel",
            "_view_count": null,
            "_view_module": "@jupyter-widgets/controls",
            "_view_module_version": "1.5.0",
            "_view_name": "FloatSliderView",
            "continuous_update": true,
            "description": "Radio exterior",
            "description_tooltip": null,
            "disabled": false,
            "layout": "IPY_MODEL_5677cb24b47b4d9083f1725533764d56",
            "max": 2.5,
            "min": 1.1,
            "orientation": "horizontal",
            "readout": true,
            "readout_format": ".2f",
            "step": 0.05,
            "style": "IPY_MODEL_51d2dd8417304806863dd92cf82e69f4",
            "value": 1.5
          }
        },
        "94c11dbe60e941958f87a863bb128737": {
          "model_module": "@jupyter-widgets/controls",
          "model_name": "IntSliderModel",
          "model_module_version": "1.5.0",
          "state": {
            "_dom_classes": [],
            "_model_module": "@jupyter-widgets/controls",
            "_model_module_version": "1.5.0",
            "_model_name": "IntSliderModel",
            "_view_count": null,
            "_view_module": "@jupyter-widgets/controls",
            "_view_module_version": "1.5.0",
            "_view_name": "IntSliderView",
            "continuous_update": true,
            "description": "Número de puntos",
            "description_tooltip": null,
            "disabled": false,
            "layout": "IPY_MODEL_c7ab9255e0a14e959230d288770732a9",
            "max": 100,
            "min": 10,
            "orientation": "horizontal",
            "readout": true,
            "readout_format": "d",
            "step": 10,
            "style": "IPY_MODEL_e213ef95bd454d308cfd3ab53e492d9a",
            "value": 30
          }
        },
        "98d5c8866fbb4c788fdd4d7a99cf64ab": {
          "model_module": "@jupyter-widgets/output",
          "model_name": "OutputModel",
          "model_module_version": "1.0.0",
          "state": {
            "_dom_classes": [],
            "_model_module": "@jupyter-widgets/output",
            "_model_module_version": "1.0.0",
            "_model_name": "OutputModel",
            "_view_count": null,
            "_view_module": "@jupyter-widgets/output",
            "_view_module_version": "1.0.0",
            "_view_name": "OutputView",
            "layout": "IPY_MODEL_42d2faed60694a408555280dee551cff",
            "msg_id": "",
            "outputs": [
              {
                "output_type": "display_data",
                "data": {
                  "text/plain": "<Figure size 432x216 with 2 Axes>",
                  "image/png": "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\n"
                },
                "metadata": {
                  "needs_background": "light"
                }
              }
            ]
          }
        },
        "2558ada9b0e94aae9c706fd02ca9f3a1": {
          "model_module": "@jupyter-widgets/base",
          "model_name": "LayoutModel",
          "model_module_version": "1.2.0",
          "state": {
            "_model_module": "@jupyter-widgets/base",
            "_model_module_version": "1.2.0",
            "_model_name": "LayoutModel",
            "_view_count": null,
            "_view_module": "@jupyter-widgets/base",
            "_view_module_version": "1.2.0",
            "_view_name": "LayoutView",
            "align_content": null,
            "align_items": null,
            "align_self": null,
            "border": null,
            "bottom": null,
            "display": null,
            "flex": null,
            "flex_flow": null,
            "grid_area": null,
            "grid_auto_columns": null,
            "grid_auto_flow": null,
            "grid_auto_rows": null,
            "grid_column": null,
            "grid_gap": null,
            "grid_row": null,
            "grid_template_areas": null,
            "grid_template_columns": null,
            "grid_template_rows": null,
            "height": null,
            "justify_content": null,
            "justify_items": null,
            "left": null,
            "margin": null,
            "max_height": null,
            "max_width": null,
            "min_height": null,
            "min_width": null,
            "object_fit": null,
            "object_position": null,
            "order": null,
            "overflow": null,
            "overflow_x": null,
            "overflow_y": null,
            "padding": null,
            "right": null,
            "top": null,
            "visibility": null,
            "width": null
          }
        },
        "1bff9d2be4924339bc83fb43533181b2": {
          "model_module": "@jupyter-widgets/base",
          "model_name": "LayoutModel",
          "model_module_version": "1.2.0",
          "state": {
            "_model_module": "@jupyter-widgets/base",
            "_model_module_version": "1.2.0",
            "_model_name": "LayoutModel",
            "_view_count": null,
            "_view_module": "@jupyter-widgets/base",
            "_view_module_version": "1.2.0",
            "_view_name": "LayoutView",
            "align_content": null,
            "align_items": null,
            "align_self": null,
            "border": null,
            "bottom": null,
            "display": null,
            "flex": null,
            "flex_flow": null,
            "grid_area": null,
            "grid_auto_columns": null,
            "grid_auto_flow": null,
            "grid_auto_rows": null,
            "grid_column": null,
            "grid_gap": null,
            "grid_row": null,
            "grid_template_areas": null,
            "grid_template_columns": null,
            "grid_template_rows": null,
            "height": null,
            "justify_content": null,
            "justify_items": null,
            "left": null,
            "margin": null,
            "max_height": null,
            "max_width": null,
            "min_height": null,
            "min_width": null,
            "object_fit": null,
            "object_position": null,
            "order": null,
            "overflow": null,
            "overflow_x": null,
            "overflow_y": null,
            "padding": null,
            "right": null,
            "top": null,
            "visibility": null,
            "width": null
          }
        },
        "5a46b1f5ffa14c45859606c61c379875": {
          "model_module": "@jupyter-widgets/controls",
          "model_name": "SliderStyleModel",
          "model_module_version": "1.5.0",
          "state": {
            "_model_module": "@jupyter-widgets/controls",
            "_model_module_version": "1.5.0",
            "_model_name": "SliderStyleModel",
            "_view_count": null,
            "_view_module": "@jupyter-widgets/base",
            "_view_module_version": "1.2.0",
            "_view_name": "StyleView",
            "description_width": "",
            "handle_color": null
          }
        },
        "5677cb24b47b4d9083f1725533764d56": {
          "model_module": "@jupyter-widgets/base",
          "model_name": "LayoutModel",
          "model_module_version": "1.2.0",
          "state": {
            "_model_module": "@jupyter-widgets/base",
            "_model_module_version": "1.2.0",
            "_model_name": "LayoutModel",
            "_view_count": null,
            "_view_module": "@jupyter-widgets/base",
            "_view_module_version": "1.2.0",
            "_view_name": "LayoutView",
            "align_content": null,
            "align_items": null,
            "align_self": null,
            "border": null,
            "bottom": null,
            "display": null,
            "flex": null,
            "flex_flow": null,
            "grid_area": null,
            "grid_auto_columns": null,
            "grid_auto_flow": null,
            "grid_auto_rows": null,
            "grid_column": null,
            "grid_gap": null,
            "grid_row": null,
            "grid_template_areas": null,
            "grid_template_columns": null,
            "grid_template_rows": null,
            "height": null,
            "justify_content": null,
            "justify_items": null,
            "left": null,
            "margin": null,
            "max_height": null,
            "max_width": null,
            "min_height": null,
            "min_width": null,
            "object_fit": null,
            "object_position": null,
            "order": null,
            "overflow": null,
            "overflow_x": null,
            "overflow_y": null,
            "padding": null,
            "right": null,
            "top": null,
            "visibility": null,
            "width": null
          }
        },
        "51d2dd8417304806863dd92cf82e69f4": {
          "model_module": "@jupyter-widgets/controls",
          "model_name": "SliderStyleModel",
          "model_module_version": "1.5.0",
          "state": {
            "_model_module": "@jupyter-widgets/controls",
            "_model_module_version": "1.5.0",
            "_model_name": "SliderStyleModel",
            "_view_count": null,
            "_view_module": "@jupyter-widgets/base",
            "_view_module_version": "1.2.0",
            "_view_name": "StyleView",
            "description_width": "",
            "handle_color": null
          }
        },
        "c7ab9255e0a14e959230d288770732a9": {
          "model_module": "@jupyter-widgets/base",
          "model_name": "LayoutModel",
          "model_module_version": "1.2.0",
          "state": {
            "_model_module": "@jupyter-widgets/base",
            "_model_module_version": "1.2.0",
            "_model_name": "LayoutModel",
            "_view_count": null,
            "_view_module": "@jupyter-widgets/base",
            "_view_module_version": "1.2.0",
            "_view_name": "LayoutView",
            "align_content": null,
            "align_items": null,
            "align_self": null,
            "border": null,
            "bottom": null,
            "display": null,
            "flex": null,
            "flex_flow": null,
            "grid_area": null,
            "grid_auto_columns": null,
            "grid_auto_flow": null,
            "grid_auto_rows": null,
            "grid_column": null,
            "grid_gap": null,
            "grid_row": null,
            "grid_template_areas": null,
            "grid_template_columns": null,
            "grid_template_rows": null,
            "height": null,
            "justify_content": null,
            "justify_items": null,
            "left": null,
            "margin": null,
            "max_height": null,
            "max_width": null,
            "min_height": null,
            "min_width": null,
            "object_fit": null,
            "object_position": null,
            "order": null,
            "overflow": null,
            "overflow_x": null,
            "overflow_y": null,
            "padding": null,
            "right": null,
            "top": null,
            "visibility": null,
            "width": null
          }
        },
        "e213ef95bd454d308cfd3ab53e492d9a": {
          "model_module": "@jupyter-widgets/controls",
          "model_name": "SliderStyleModel",
          "model_module_version": "1.5.0",
          "state": {
            "_model_module": "@jupyter-widgets/controls",
            "_model_module_version": "1.5.0",
            "_model_name": "SliderStyleModel",
            "_view_count": null,
            "_view_module": "@jupyter-widgets/base",
            "_view_module_version": "1.2.0",
            "_view_name": "StyleView",
            "description_width": "",
            "handle_color": null
          }
        },
        "42d2faed60694a408555280dee551cff": {
          "model_module": "@jupyter-widgets/base",
          "model_name": "LayoutModel",
          "model_module_version": "1.2.0",
          "state": {
            "_model_module": "@jupyter-widgets/base",
            "_model_module_version": "1.2.0",
            "_model_name": "LayoutModel",
            "_view_count": null,
            "_view_module": "@jupyter-widgets/base",
            "_view_module_version": "1.2.0",
            "_view_name": "LayoutView",
            "align_content": null,
            "align_items": null,
            "align_self": null,
            "border": null,
            "bottom": null,
            "display": null,
            "flex": null,
            "flex_flow": null,
            "grid_area": null,
            "grid_auto_columns": null,
            "grid_auto_flow": null,
            "grid_auto_rows": null,
            "grid_column": null,
            "grid_gap": null,
            "grid_row": null,
            "grid_template_areas": null,
            "grid_template_columns": null,
            "grid_template_rows": null,
            "height": null,
            "justify_content": null,
            "justify_items": null,
            "left": null,
            "margin": null,
            "max_height": null,
            "max_width": null,
            "min_height": null,
            "min_width": null,
            "object_fit": null,
            "object_position": null,
            "order": null,
            "overflow": null,
            "overflow_x": null,
            "overflow_y": null,
            "padding": null,
            "right": null,
            "top": null,
            "visibility": null,
            "width": null
          }
        }
      }
    }
  },
  "cells": [
    {
      "cell_type": "markdown",
      "metadata": {
        "id": "view-in-github",
        "colab_type": "text"
      },
      "source": [
        "<a href=\"https://colab.research.google.com/github/sofiagoldheart/ComputationalGeometry/blob/main/ID0205_Lab_14.ipynb\" target=\"_parent\"><img src=\"https://colab.research.google.com/assets/colab-badge.svg\" alt=\"Open In Colab\"/></a>"
      ]
    },
    {
      "cell_type": "markdown",
      "source": [
        "#ID0205 - Geometría Computacional\n",
        "\n",
        "### Primavera 2023\n",
        "\n",
        "Ejercicio #: ID0205_Lab2_07\n",
        "\n",
        "Sección: 01\n",
        "\n",
        "ID: 210300519\n",
        "\n",
        "Nombre completo: Daniela de la Cruz Frias\n",
        "\n",
        "ID: 210300528\n",
        "\n",
        "Nombre completo: Erin González Zavala\n",
        "\n",
        "ID: 210300542\n",
        "\n",
        "Nombre completo: Guadalupe Pool Mazun\n",
        "\n",
        "ID: 210300529\n",
        "\n",
        "Nombre completo: Sofia Ruvalcaba de la Noval\n",
        "\n",
        "Profesor: Enrique Naredo García"
      ],
      "metadata": {
        "id": "SW_0ySHy9qWP"
      }
    },
    {
      "cell_type": "markdown",
      "source": [
        "##Introducción\n",
        "En el presente notebook, veremos la manera de triangular puntos dados por medio de librerias e interacción con el usuario."
      ],
      "metadata": {
        "id": "V0Y2UWlc4Izl"
      }
    },
    {
      "cell_type": "markdown",
      "source": [
        "##Triangulación\n",
        "\n",
        "La [triangulación](https://es.wikipedia.org/wiki/Triangulaci%C3%B3n), en geometría, es el uso de la trigonometría para determinar posiciones de puntos, medidas de distancias o áreas de figuras. "
      ],
      "metadata": {
        "id": "w9vgmGgDMG8R"
      }
    },
    {
      "cell_type": "code",
      "source": [
        "import numpy as np\n",
        "import matplotlib.pyplot as plt\n",
        "import matplotlib.tri as mtri"
      ],
      "metadata": {
        "id": "zKlEzVRiACNM"
      },
      "execution_count": null,
      "outputs": []
    },
    {
      "cell_type": "code",
      "source": [
        "Puntitos = [\n",
        "      [0.3,0.5], # Punto 0\n",
        "      [0.6,0.8], # Punto 1\n",
        "      [0.5,0.1], # Punto 2\n",
        "      [0.1,0.2]  # Punto 3\n",
        "      ] \n",
        "\n",
        "Puntos = np.array(Puntitos)\n"
      ],
      "metadata": {
        "id": "mwbI84OYKN-C"
      },
      "execution_count": null,
      "outputs": []
    },
    {
      "cell_type": "code",
      "source": [
        "# Definición de triángulos usando \n",
        "# los indices de los 'Puntitos'\n",
        "triangulos = [\n",
        "              [0,2,1], # triángulo 0\n",
        "              [2,0,3]# triángulo 1\n",
        "              ]"
      ],
      "metadata": {
        "id": "BRZxhJkGKVfl"
      },
      "execution_count": null,
      "outputs": []
    },
    {
      "cell_type": "code",
      "source": [
        "# Construye una cuadrícula triangular \n",
        "triangulacion = mtri.Triangulation(Puntos[:,0], Puntos[:,1], triangles=triangulos)"
      ],
      "metadata": {
        "id": "_AZxOil3KdWg"
      },
      "execution_count": null,
      "outputs": []
    },
    {
      "cell_type": "code",
      "source": [
        "# Grafica la cuadrícula triangular \n",
        "plt.triplot(triangulacion, marker=\"o\")\n",
        "\n",
        "plt.show()\n"
      ],
      "metadata": {
        "colab": {
          "base_uri": "https://localhost:8080/",
          "height": 265
        },
        "id": "8o9z5qxZKN7Z",
        "outputId": "ed77885f-a975-4833-82f4-e60c7a5f20a7"
      },
      "execution_count": null,
      "outputs": [
        {
          "output_type": "display_data",
          "data": {
            "text/plain": [
              "<Figure size 432x288 with 1 Axes>"
            ],
            "image/png": "[encoded data removed]"
          },
          "metadata": {
            "needs_background": "light"
          }
        }
      ]
    },
    {
      "cell_type": "markdown",
      "source": [
        "**Ejercicio**\n",
        "\n",
        "* Agrega un punto más al arreglo dado en el ejemplo anterior, con tal de que ahora se cuente con 5 puntos.\n",
        "\n",
        "* Intenta que el punto agregado quede fuera del poligono generado por los 4 primeros puntos.\n",
        "\n",
        "* Construye una cuadrícula triangular con los 5 puntos.\n",
        "\n",
        "* Intenta hacer el mismo ejercicio ahora para 6 puntos."
      ],
      "metadata": {
        "id": "3xK3HdGpMCGM"
      }
    },
    {
      "cell_type": "code",
      "source": [
        "Puntitos = [\n",
        "      [0.3,0.5], # Punto 0\n",
        "      [0.6,0.8], # Punto 1\n",
        "      [0.5,0.1], # Punto 2\n",
        "      [0.1,0.2], # Punto 3\n",
        "      [0.2,0.7]  # Punto 4\n",
        "      ] \n",
        "\n",
        "Puntos = np.array(Puntitos)\n",
        "\n",
        "# Definición de triángulos usando \n",
        "# los indices de los 'Puntitos'\n",
        "triangulos = [\n",
        "              [0,2,1], # triángulo 0\n",
        "              [2,0,3], # triángulo 1\n",
        "              [3,0,4]  # triángulo 2\n",
        "              ]\n",
        "\n",
        "# Construye una cuadrícula triangular \n",
        "triangulacion = mtri.Triangulation(Puntos[:,0], Puntos[:,1], triangles=triangulos)\n",
        "\n",
        "# Grafica la cuadrícula triangular \n",
        "plt.triplot(triangulacion, marker=\"o\")\n",
        "\n",
        "plt.show()\n"
      ],
      "metadata": {
        "colab": {
          "base_uri": "https://localhost:8080/",
          "height": 265
        },
        "id": "rweyXDo4egGS",
        "outputId": "c0048268-f83b-4bc0-bd0e-68ce1099b8dd"
      },
      "execution_count": null,
      "outputs": [
        {
          "output_type": "display_data",
          "data": {
            "text/plain": [
              "<Figure size 432x288 with 1 Axes>"
            ],
            "image/png": "[encoded data removed]"
          },
          "metadata": {
            "needs_background": "light"
          }
        }
      ]
    },
    {
      "cell_type": "code",
      "source": [
        "Puntitos = [\n",
        "      [0.3,0.5], # Punto 0\n",
        "      [0.6,0.8], # Punto 1\n",
        "      [0.5,0.1], # Punto 2\n",
        "      [0.1,0.2], # Punto 3\n",
        "      [0.2,0.7], # Punto 4\n",
        "      [0.4,0.8]  # Punto 5\n",
        "      ] \n",
        "\n",
        "Puntos = np.array(Puntitos)\n",
        "\n",
        "# Definición de triángulos usando \n",
        "# los indices de los 'Puntitos'\n",
        "triangulos = [\n",
        "              [0,2,1], # triángulo 0\n",
        "              [2,0,3], # triángulo 1\n",
        "              [3,0,4], # triángulo 2\n",
        "              [1,4,5]  # triángulo 3\n",
        "              ]\n",
        "\n",
        "# Construye una cuadrícula triangular \n",
        "triangulacion = mtri.Triangulation(Puntos[:,0], Puntos[:,1], triangles=triangulos)\n",
        "\n",
        "# Grafica la cuadrícula triangular \n",
        "plt.triplot(triangulacion, marker=\"o\")\n",
        "\n",
        "plt.show()"
      ],
      "metadata": {
        "colab": {
          "base_uri": "https://localhost:8080/",
          "height": 265
        },
        "id": "ms58lj-DgX-p",
        "outputId": "f8ca8862-df36-4c62-cab0-d1953568fe9c"
      },
      "execution_count": null,
      "outputs": [
        {
          "output_type": "display_data",
          "data": {
            "text/plain": [
              "<Figure size 432x288 with 1 Axes>"
            ],
            "image/png": "[encoded data removed]"
          },
          "metadata": {
            "needs_background": "light"
          }
        }
      ]
    },
    {
      "cell_type": "markdown",
      "source": [
        "###Triangle\n",
        "\n",
        "Ahora usaremos otra librería nombrada como 'Triangle', la cual esta utiliza Cython para envolver (wrap) la API de C."
      ],
      "metadata": {
        "id": "bnGVFYJmNVWz"
      }
    },
    {
      "cell_type": "code",
      "source": [
        "# instala triangle\n",
        "!pip install triangle"
      ],
      "metadata": {
        "id": "h2Wg7gzyDdVz",
        "colab": {
          "base_uri": "https://localhost:8080/"
        },
        "outputId": "4878e662-dad3-4bc4-f960-0350f59bfbee"
      },
      "execution_count": null,
      "outputs": [
        {
          "output_type": "stream",
          "name": "stdout",
          "text": [
            "Looking in indexes: https://pypi.org/simple, https://us-python.pkg.dev/colab-wheels/public/simple/\n",
            "Requirement already satisfied: triangle in /usr/local/lib/python3.8/dist-packages (20220202)\n",
            "Requirement already satisfied: numpy in /usr/local/lib/python3.8/dist-packages (from triangle) (1.21.6)\n"
          ]
        }
      ]
    },
    {
      "cell_type": "code",
      "source": [
        "# importa triangle\n",
        "import triangle as tr"
      ],
      "metadata": {
        "id": "hi742mEfORff"
      },
      "execution_count": null,
      "outputs": []
    },
    {
      "cell_type": "code",
      "source": [
        "# definimos una tupla de puntos\n",
        "Puntos = ( (0, 0), (1, 0), (1, 1), (0, 1) )"
      ],
      "metadata": {
        "id": "yIC6UiB4PcYD"
      },
      "execution_count": null,
      "outputs": []
    },
    {
      "cell_type": "code",
      "source": [
        "type(Puntos)"
      ],
      "metadata": {
        "colab": {
          "base_uri": "https://localhost:8080/"
        },
        "id": "bEhEMRoHPugb",
        "outputId": "88f25252-31bc-46d0-f66d-6a641fc0f1a6"
      },
      "execution_count": null,
      "outputs": [
        {
          "output_type": "execute_result",
          "data": {
            "text/plain": [
              "tuple"
            ]
          },
          "metadata": {},
          "execution_count": 44
        }
      ]
    },
    {
      "cell_type": "code",
      "source": [
        "# convertimos la tupla a un np.array\n",
        "Vert = np.array(Puntos)"
      ],
      "metadata": {
        "id": "9FTJx0UmPtdx"
      },
      "execution_count": null,
      "outputs": []
    },
    {
      "cell_type": "code",
      "source": [
        "type(Vert)"
      ],
      "metadata": {
        "colab": {
          "base_uri": "https://localhost:8080/"
        },
        "id": "UC6RJSMhPm35",
        "outputId": "ccea6d82-ff07-4f6d-b8e7-dd88d6809969"
      },
      "execution_count": null,
      "outputs": [
        {
          "output_type": "execute_result",
          "data": {
            "text/plain": [
              "numpy.ndarray"
            ]
          },
          "metadata": {},
          "execution_count": 46
        }
      ]
    },
    {
      "cell_type": "code",
      "source": [
        "# construimos un diccionario\n",
        "A = dict(vertices=Vert)"
      ],
      "metadata": {
        "id": "VLZvIaJ9P2VN"
      },
      "execution_count": null,
      "outputs": []
    },
    {
      "cell_type": "code",
      "source": [
        "type(A)"
      ],
      "metadata": {
        "colab": {
          "base_uri": "https://localhost:8080/"
        },
        "id": "RcMc5OSoP3IP",
        "outputId": "2cd886ed-33a8-479c-fd90-2e0d83caa307"
      },
      "execution_count": null,
      "outputs": [
        {
          "output_type": "execute_result",
          "data": {
            "text/plain": [
              "dict"
            ]
          },
          "metadata": {},
          "execution_count": 48
        }
      ]
    },
    {
      "cell_type": "code",
      "source": [
        "A"
      ],
      "metadata": {
        "colab": {
          "base_uri": "https://localhost:8080/"
        },
        "id": "PuH79ieZErS_",
        "outputId": "9d66960b-4e17-4e34-b813-e713a900b0e4"
      },
      "execution_count": null,
      "outputs": [
        {
          "output_type": "execute_result",
          "data": {
            "text/plain": [
              "{'vertices': array([[0, 0],\n",
              "        [1, 0],\n",
              "        [1, 1],\n",
              "        [0, 1]])}"
            ]
          },
          "metadata": {},
          "execution_count": 49
        }
      ]
    },
    {
      "cell_type": "code",
      "source": [
        "# construye triangulación\n",
        "B = tr.triangulate(A)"
      ],
      "metadata": {
        "id": "Kw4k42CQPrgi"
      },
      "execution_count": null,
      "outputs": []
    },
    {
      "cell_type": "code",
      "source": [
        "# puntos y diagonales\n",
        "tr.compare(plt, A, B)\n",
        "\n",
        "# graficamos la triangulación\n",
        "plt.show()"
      ],
      "metadata": {
        "id": "gFcOES4uDdTI",
        "colab": {
          "base_uri": "https://localhost:8080/",
          "height": 229
        },
        "outputId": "2a53d7a7-d29e-4695-95d0-588e98874a5c"
      },
      "execution_count": null,
      "outputs": [
        {
          "output_type": "display_data",
          "data": {
            "text/plain": [
              "<Figure size 432x216 with 2 Axes>"
            ],
            "image/png": "[encoded data removed]"
          },
          "metadata": {
            "needs_background": "light"
          }
        }
      ]
    },
    {
      "cell_type": "markdown",
      "source": [
        "**Ejercicio**\n",
        "\n",
        "* Grafica la triangulación de 6 puntos que siga la configuración original, de tal forma que se incremente de forma vertical hacia abajo, usando la librería 'triangle'.\n",
        "\n"
      ],
      "metadata": {
        "id": "OLBwzVRqSm0T"
      }
    },
    {
      "cell_type": "code",
      "source": [
        "# importa triangle\n",
        "import triangle as tr\n",
        "\n",
        "# definimos una tupla de puntos\n",
        "Puntos = ( (0, 0), (1, 0), (1, 1), (0, 1), (0, -1), (1, -1))\n",
        "\n",
        "type(Puntos)\n",
        "\n",
        "# convertimos la tupla a un np.array\n",
        "Vert = np.array(Puntos)\n",
        "\n",
        "type(Vert)\n",
        "\n",
        "# construimos un diccionario\n",
        "A = dict(vertices=Vert)\n",
        "\n",
        "type(A)\n",
        "\n",
        "A\n",
        "\n",
        "# construye triangulación\n",
        "B = tr.triangulate(A)\n",
        "\n",
        "# puntos y diagonales\n",
        "tr.compare(plt, A, B)\n",
        "\n",
        "# graficamos la triangulación\n",
        "plt.show()\n"
      ],
      "metadata": {
        "id": "W5Q4imSoU1Qg",
        "colab": {
          "base_uri": "https://localhost:8080/",
          "height": 225
        },
        "outputId": "018ded69-382a-451b-f998-c78fefd711da"
      },
      "execution_count": null,
      "outputs": [
        {
          "output_type": "display_data",
          "data": {
            "text/plain": [
              "<Figure size 432x216 with 2 Axes>"
            ],
            "image/png": "[encoded data removed]"
          },
          "metadata": {
            "needs_background": "light"
          }
        }
      ]
    },
    {
      "cell_type": "markdown",
      "source": [
        "**Ejemplo**\n",
        "\n",
        "Triangulación creando nuevos vertices usando 'qa0.1'."
      ],
      "metadata": {
        "id": "mm8iOUC1T-Pv"
      }
    },
    {
      "cell_type": "code",
      "source": [
        "# definir puntos\n",
        "C = dict(vertices=np.array(((0, 0), (1, 0), (1, 1), (0, 1))))\n",
        "\n",
        "# triangulación con nuevos vertices 'qa0.1'\n",
        "D = tr.triangulate(C, 'qa0.1')\n",
        "\n",
        "# compara puntos y líneas\n",
        "tr.compare(plt, C, D)\n",
        "\n",
        "# grafica triangulación\n",
        "plt.show()"
      ],
      "metadata": {
        "id": "5u2P_vL7DwTF",
        "colab": {
          "base_uri": "https://localhost:8080/",
          "height": 229
        },
        "outputId": "b01ff9dd-bffb-44ff-dec1-51c792ed5941"
      },
      "execution_count": null,
      "outputs": [
        {
          "output_type": "display_data",
          "data": {
            "text/plain": [
              "<Figure size 432x216 with 2 Axes>"
            ],
            "image/png": "[encoded data removed]"
          },
          "metadata": {
            "needs_background": "light"
          }
        }
      ]
    },
    {
      "cell_type": "markdown",
      "source": [
        "**Ejercicio**\n",
        "\n",
        "* Utiliza el código del ejercicio anterior para construir la triangulación con nuevos vertices usando 'qa0.1' aplicada a los 6 puntos que usaste anteriormente."
      ],
      "metadata": {
        "id": "C1UE_oRmUaak"
      }
    },
    {
      "cell_type": "code",
      "source": [
        "# definir puntos\n",
        "C = dict(vertices=np.array(((0, 0), (1, 0), (1, 1), (0, 1), (0, -1), (1, -1))))\n",
        "\n",
        "# triangulación con nuevos vertices 'qa0.1'\n",
        "D = tr.triangulate(C, 'qa0.1')\n",
        "\n",
        "# compara puntos y líneas\n",
        "tr.compare(plt, C, D)\n",
        "\n",
        "# grafica triangulación\n",
        "plt.show()\n"
      ],
      "metadata": {
        "id": "hNjauz4RUvi3",
        "colab": {
          "base_uri": "https://localhost:8080/",
          "height": 225
        },
        "outputId": "f5cfeb45-f511-474a-8c1f-551c14748ac0"
      },
      "execution_count": null,
      "outputs": [
        {
          "output_type": "display_data",
          "data": {
            "text/plain": [
              "<Figure size 432x216 with 2 Axes>"
            ],
            "image/png": "[encoded data removed]"
          },
          "metadata": {
            "needs_background": "light"
          }
        }
      ]
    },
    {
      "cell_type": "markdown",
      "source": [
        "**Ejemplo**\n",
        "\n",
        "Triangulación creando nuevos vertices usando 'qa0.4'."
      ],
      "metadata": {
        "id": "YJ_Dw2WCVFDU"
      }
    },
    {
      "cell_type": "code",
      "source": [
        "E = dict(vertices=np.array(((0, 0), (1, 0), (1, 1), (0, 1))))\n",
        "F = tr.triangulate(E, 'qa0.4')\n",
        "tr.compare(plt, E, F)\n",
        "plt.show()"
      ],
      "metadata": {
        "id": "NvAKn0KGD-DJ",
        "colab": {
          "base_uri": "https://localhost:8080/",
          "height": 229
        },
        "outputId": "13dd9e25-4733-402b-f3f0-349918faeb04"
      },
      "execution_count": null,
      "outputs": [
        {
          "output_type": "display_data",
          "data": {
            "text/plain": [
              "<Figure size 432x216 with 2 Axes>"
            ],
            "image/png": "[encoded data removed]"
          },
          "metadata": {
            "needs_background": "light"
          }
        }
      ]
    },
    {
      "cell_type": "markdown",
      "source": [
        "**Ejercicio**\n",
        "\n",
        "* Utiliza el código del ejercicio anterior para construir la triangulación con nuevos vertices usando 'qa0.4' aplicada a los 6 puntos que usaste anteriormente."
      ],
      "metadata": {
        "id": "FBf_CrpGVZdV"
      }
    },
    {
      "cell_type": "code",
      "source": [
        "# definir puntos\n",
        "C = dict(vertices=np.array(((0, 0), (1, 0), (1, 1), (0, 1), (0, -1), (1, -1))))\n",
        "\n",
        "# triangulación con nuevos vertices 'qa0.1'\n",
        "D = tr.triangulate(C, 'qa0.4')\n",
        "\n",
        "# compara puntos y líneas\n",
        "tr.compare(plt, C, D)\n",
        "\n",
        "# grafica triangulación\n",
        "plt.show()\n"
      ],
      "metadata": {
        "id": "76DFgYtaVXLB",
        "colab": {
          "base_uri": "https://localhost:8080/",
          "height": 225
        },
        "outputId": "7c4757f1-1c3b-442f-c415-f94462dcb36d"
      },
      "execution_count": null,
      "outputs": [
        {
          "output_type": "display_data",
          "data": {
            "text/plain": [
              "<Figure size 432x216 with 2 Axes>"
            ],
            "image/png": "[encoded data removed]"
          },
          "metadata": {
            "needs_background": "light"
          }
        }
      ]
    },
    {
      "cell_type": "markdown",
      "source": [
        "**Ejercicio**\n",
        "\n",
        "* Prueba diferentes opciones desde 'qa0.1' hasta 'qa0.10' usando los 6 puntos que definiste anteriormente."
      ],
      "metadata": {
        "id": "f0NqvCSjVkKS"
      }
    },
    {
      "cell_type": "code",
      "source": [
        "# definir puntos\n",
        "C = dict(vertices=np.array(((0, 0), (1, 0), (1, 1), (0, 1), (0, -1), (1, -1))))\n",
        "\n",
        "# triangulación con nuevos vertices 'qa0.1'\n",
        "D = tr.triangulate(C, 'qa0.7')\n",
        "\n",
        "# compara puntos y líneas\n",
        "tr.compare(plt, C, D)\n",
        "\n",
        "# grafica triangulación\n",
        "plt.show()"
      ],
      "metadata": {
        "colab": {
          "base_uri": "https://localhost:8080/",
          "height": 225
        },
        "id": "2rEdDnxBlQ2v",
        "outputId": "ea6e1721-2ec2-4e2d-9d42-68586b36d870"
      },
      "execution_count": null,
      "outputs": [
        {
          "output_type": "display_data",
          "data": {
            "text/plain": [
              "<Figure size 432x216 with 2 Axes>"
            ],
            "image/png": "[encoded data removed]"
          },
          "metadata": {
            "needs_background": "light"
          }
        }
      ]
    },
    {
      "cell_type": "markdown",
      "source": [
        "**Ejemplo**\n",
        "\n",
        "Triangulación creando nuevos vertices usando 'qa0.01'."
      ],
      "metadata": {
        "id": "Za0ugEr_WGxP"
      }
    },
    {
      "cell_type": "code",
      "source": [
        "E = dict(vertices=np.array(((0, 0), (1, 0), (1, 1), (0, 1))))\n",
        "F = tr.triangulate(E, 'qa0.01')\n",
        "tr.compare(plt, E, F)\n",
        "plt.show()"
      ],
      "metadata": {
        "id": "3HfmDkSYEVwn",
        "colab": {
          "base_uri": "https://localhost:8080/",
          "height": 229
        },
        "outputId": "c1c283a9-0574-424b-ece2-5caa71d85a27"
      },
      "execution_count": null,
      "outputs": [
        {
          "output_type": "display_data",
          "data": {
            "text/plain": [
              "<Figure size 432x216 with 2 Axes>"
            ],
            "image/png": "[encoded data removed]"
          },
          "metadata": {
            "needs_background": "light"
          }
        }
      ]
    },
    {
      "cell_type": "markdown",
      "source": [
        "**Ejercicio**\n",
        "\n",
        "* Prueba diferentes opciones desde 'qa0.01' hasta 'qa0.09' usando los 6 puntos que definiste anteriormente."
      ],
      "metadata": {
        "id": "PBkDhR3PWY3d"
      }
    },
    {
      "cell_type": "code",
      "source": [
        "# definir puntos\n",
        "C = dict(vertices=np.array(((0, 0), (1, 0), (1, 1), (0, 1), (0, -1), (1, -1))))\n",
        "\n",
        "# triangulación con nuevos vertices 'qa0.1'\n",
        "D = tr.triangulate(C, 'qa0.06')\n",
        "\n",
        "# compara puntos y líneas\n",
        "tr.compare(plt, C, D)\n",
        "\n",
        "# grafica triangulación\n",
        "plt.show()"
      ],
      "metadata": {
        "id": "JedM2XrXJ-p0",
        "colab": {
          "base_uri": "https://localhost:8080/",
          "height": 225
        },
        "outputId": "0b3ace26-a14f-442f-ddba-711c8fd46ae7"
      },
      "execution_count": null,
      "outputs": [
        {
          "output_type": "display_data",
          "data": {
            "text/plain": [
              "<Figure size 432x216 with 2 Axes>"
            ],
            "image/png": "[encoded data removed]"
          },
          "metadata": {
            "needs_background": "light"
          }
        }
      ]
    },
    {
      "cell_type": "markdown",
      "source": [
        "**Ejemplo**\n",
        "\n",
        "Triangulación en un círculo usando la opción;'q'."
      ],
      "metadata": {
        "id": "CvLD36DGWxOm"
      }
    },
    {
      "cell_type": "code",
      "source": [
        "# definir número de puntos\n",
        "N = 32\n",
        "\n",
        "# Devuelve números espaciados uniformemente en un intervalo específico\n",
        "theta = np.linspace(0, 2 * np.pi, N, endpoint=False)\n",
        "\n",
        "# Úne una secuencia de arreglos a lo largo de un eje.\n",
        "pts = np.stack([np.cos(theta), np.sin(theta)], axis=1)\n",
        "\n",
        "# crea un diccionario\n",
        "A = dict(vertices=pts)\n",
        "\n",
        "# define la triangulación\n",
        "B = tr.triangulate(A, 'q')\n",
        "\n",
        "# compara puntos y líneas\n",
        "tr.compare(plt, A, B)\n",
        "\n",
        "# grafica la triagulación\n",
        "plt.show()\n"
      ],
      "metadata": {
        "id": "7Pay1ajoEedC",
        "colab": {
          "base_uri": "https://localhost:8080/",
          "height": 229
        },
        "outputId": "21d1827f-9332-4bec-91c4-23cd653c29b9"
      },
      "execution_count": null,
      "outputs": [
        {
          "output_type": "display_data",
          "data": {
            "text/plain": [
              "<Figure size 432x216 with 2 Axes>"
            ],
            "image/png": "[encoded data removed]"
          },
          "metadata": {
            "needs_background": "light"
          }
        }
      ]
    },
    {
      "cell_type": "markdown",
      "source": [
        "**Ejercicio**\n",
        "\n",
        "* Utiliza un rango de valores para definir una barra deslizadora.\n",
        "* Se debe visualizar la barra.\n",
        "* El rango debe ser desde 3 hasta 50 puntos.\n",
        "* La barra debe variar la triangulación de acuerdo a los puntos usados."
      ],
      "metadata": {
        "id": "j2gbG9zTXxVE"
      }
    },
    {
      "cell_type": "code",
      "source": [
        "import numpy as np\n",
        "import matplotlib.pyplot as plt\n",
        "from matplotlib.tri import Triangulation\n",
        "import ipywidgets as widgets\n",
        "\n",
        "# Generar datos aleatorios para crear la triangulación\n",
        "np.random.seed(1)\n",
        "x = np.random.rand(200)\n",
        "y = np.random.rand(200)\n",
        "tri = Triangulation(x, y)\n",
        "\n",
        "# Función para graficar la triangulación\n",
        "def plot_triangulation(n_points):\n",
        "  # Crear una nueva triangulación con el número de puntos especificado\n",
        "  new_tri = Triangulation(x[:n_points], y[:n_points])\n",
        "  \n",
        "  # Graficar la nueva triangulación\n",
        "  plt.triplot(new_tri)\n",
        "  plt.plot(x[:n_points], y[:n_points], 'o')\n",
        "  plt.title('Triangulación con {} puntos'.format(n_points))\n",
        "  plt.show()\n",
        "\n",
        "# Agregar la barra deslizadora\n",
        "slider = widgets.IntSlider(value=3, min=3, max=50, step=1, description='Triangulación:')\n",
        "display(slider)\n",
        "\n",
        "# Actualizar la gráfica cuando se mueve la barra deslizadora\n",
        "widgets.interactive(plot_triangulation, n_points=slider)\n"
      ],
      "metadata": {
        "colab": {
          "base_uri": "https://localhost:8080/",
          "height": 345,
          "referenced_widgets": [
            "256802806475449ebf6310ccb696b8de",
            "d8020c86373d4aa2b8cfc04664a9fd6d",
            "7b1c1ee9fac44f399b814f0a2f793aae",
            "15da0f77ab2348cb8407ae0116e5f24b",
            "56fb511e587d4d1484a2386e6eef2de8",
            "e5e3b0e55a984e0eb1ac6193003b6d3b",
            "48804eda773447d4bf7483e71312c785"
          ]
        },
        "id": "rGyn1a69xI7i",
        "outputId": "717072ad-e645-422a-bb95-5713727390c4"
      },
      "execution_count": null,
      "outputs": [
        {
          "output_type": "display_data",
          "data": {
            "text/plain": [
              "IntSlider(value=3, description='Triangulación:', max=50, min=3)"
            ],
            "application/vnd.jupyter.widget-view+json": {
              "version_major": 2,
              "version_minor": 0,
              "model_id": "256802806475449ebf6310ccb696b8de"
            }
          },
          "metadata": {}
        },
        {
          "output_type": "display_data",
          "data": {
            "text/plain": [
              "interactive(children=(IntSlider(value=3, description='Triangulación:', max=50, min=3), Output()), _dom_classes…"
            ],
            "application/vnd.jupyter.widget-view+json": {
              "version_major": 2,
              "version_minor": 0,
              "model_id": "15da0f77ab2348cb8407ae0116e5f24b"
            }
          },
          "metadata": {}
        }
      ]
    },
    {
      "cell_type": "markdown",
      "source": [
        "**Ejemplo**\n",
        "\n",
        "Triangulación en un círculo usando la opción;'qa0'."
      ],
      "metadata": {
        "id": "JZywlSBRYpYz"
      }
    },
    {
      "cell_type": "code",
      "source": [
        "N = 32\n",
        "theta = np.linspace(0, 2 * np.pi, N, endpoint=False)\n",
        "pts = np.stack([np.cos(theta), np.sin(theta)], axis=1)\n",
        "A = dict(vertices=pts)\n",
        "B = tr.triangulate(A, 'qa0.10')\n",
        "tr.compare(plt, A, B)\n",
        "plt.show()"
      ],
      "metadata": {
        "id": "jIFqbuYWqtM7",
        "colab": {
          "base_uri": "https://localhost:8080/",
          "height": 229
        },
        "outputId": "94c83cef-ae2d-4d1b-b1f4-8debd657de74"
      },
      "execution_count": null,
      "outputs": [
        {
          "output_type": "display_data",
          "data": {
            "text/plain": [
              "<Figure size 432x216 with 2 Axes>"
            ],
            "image/png": "[encoded data removed]"
          },
          "metadata": {
            "needs_background": "light"
          }
        }
      ]
    },
    {
      "cell_type": "markdown",
      "source": [
        "**Ejercicio**\n",
        "\n",
        "* Utiliza el código anterior en este Ejercicio.\n",
        "* Agrega antes una varialble para que el usuario use 'input'.\n",
        "* Las opciones de usuario deben ser: 1=qa0.01, 2=qa0.02, hasta 10=qa0.10\n",
        "* Utiliza un rango de valores para definir una barra deslizadora.\n",
        "* Se debe visualizar la barra.\n",
        "* El rango debe ser desde 3 hasta 50 puntos.\n",
        "* La barra debe variar la triangulación de acuerdo a los puntos usados."
      ],
      "metadata": {
        "id": "K85mbJWEaMfm"
      }
    },
    {
      "cell_type": "code",
      "source": [
        "import numpy as np\n",
        "import matplotlib.pyplot as plt\n",
        "from matplotlib.tri import Triangulation\n",
        "import ipywidgets as widgets\n",
        "\n",
        "# Preguntar al usuario qué opción desea seleccionar\n",
        "opcion = input('Seleccione una opción (1=qa0.01, 2=qa0.02, ..., 10=qa0.10): ')\n",
        "\n",
        "# Convertir la opción a un valor flotante correspondiente a qa\n",
        "qa = float('0.0' + opcion[1:])\n",
        "\n",
        "# Generar datos aleatorios para crear la triangulación\n",
        "np.random.seed(1)\n",
        "x = np.random.rand(200)\n",
        "y = np.random.rand(200)\n",
        "tri = Triangulation(x, y)\n",
        "\n",
        "# Función para graficar la triangulación\n",
        "def plot_triangulation(n_points):\n",
        "  # Crear una nueva triangulación con el número de puntos especificado\n",
        "  new_tri = Triangulation(x[:n_points], y[:n_points])\n",
        "  \n",
        "  # Graficar la nueva triangulación\n",
        "  plt.triplot(new_tri)\n",
        "  plt.plot(x[:n_points], y[:n_points], 'o')\n",
        "  plt.title('Triangulación con {} puntos y qa={}'.format(n_points, qa))\n",
        "  plt.show()\n",
        "\n",
        "# Agregar la barra deslizadora\n",
        "slider = widgets.IntSlider(value=3, min=3, max=50, step=1, description='Triangulación:')\n",
        "display(slider)\n",
        "\n",
        "# Actualizar la gráfica cuando se mueve la barra deslizadora\n",
        "widgets.interactive(plot_triangulation, n_points=slider)\n"
      ],
      "metadata": {
        "id": "-ABv_gN3KphU",
        "colab": {
          "base_uri": "https://localhost:8080/",
          "height": 362,
          "referenced_widgets": [
            "afd1a277cf7e42dba6983ad381edab73",
            "aab595cf0d6445c6ba5fb4600fc0601d",
            "6955437de87148fea4646f3dd9ea5fa7",
            "5b251e0d997d47068079a966f665dc47",
            "2e480a001f7f47d5a69e2a9f70b17e01",
            "eb703b9f79554fa08458516305e47e0e",
            "25b457bf869346d3a4dd02787d4fd69d"
          ]
        },
        "outputId": "ec1fbfec-85a7-4816-bd42-44a44c8e0164"
      },
      "execution_count": null,
      "outputs": [
        {
          "name": "stdout",
          "output_type": "stream",
          "text": [
            "Seleccione una opción (1=qa0.01, 2=qa0.02, ..., 10=qa0.10): 3\n"
          ]
        },
        {
          "output_type": "display_data",
          "data": {
            "text/plain": [
              "IntSlider(value=3, description='Triangulación:', max=50, min=3)"
            ],
            "application/vnd.jupyter.widget-view+json": {
              "version_major": 2,
              "version_minor": 0,
              "model_id": "afd1a277cf7e42dba6983ad381edab73"
            }
          },
          "metadata": {}
        },
        {
          "output_type": "display_data",
          "data": {
            "text/plain": [
              "interactive(children=(IntSlider(value=3, description='Triangulación:', max=50, min=3), Output()), _dom_classes…"
            ],
            "application/vnd.jupyter.widget-view+json": {
              "version_major": 2,
              "version_minor": 0,
              "model_id": "5b251e0d997d47068079a966f665dc47"
            }
          },
          "metadata": {}
        }
      ]
    },
    {
      "cell_type": "markdown",
      "source": [
        "**Ejemplo**\n",
        "\n",
        "Uso de un método para crear triangulaciones en una dona."
      ],
      "metadata": {
        "id": "cuTglVuWZlci"
      }
    },
    {
      "cell_type": "code",
      "source": [
        "def circulo(N, R):\n",
        "    i = np.arange(N)\n",
        "    theta = i * 2 * np.pi / N\n",
        "    pts = np.stack([np.cos(theta), np.sin(theta)], axis=1) * R\n",
        "    seg = np.stack([i, i + 1], axis=1) % N\n",
        "    return pts, seg"
      ],
      "metadata": {
        "id": "a7-sac8cZtUY"
      },
      "execution_count": null,
      "outputs": []
    },
    {
      "cell_type": "code",
      "source": [
        "# definir puntos\n",
        "pts0, seg0 = circulo(30, 1.4)\n",
        "pts1, seg1 = circulo(16, 0.6)\n",
        "pts = np.vstack([pts0, pts1])\n",
        "\n",
        "# definir segmento\n",
        "seg = np.vstack([seg0, seg1 + seg0.shape[0]])\n",
        "\n",
        "# dicccionario\n",
        "A = dict(vertices=pts, segments=seg, holes=[[0, 0]])\n",
        "\n",
        "# triangulación\n",
        "B = tr.triangulate(A, 'qpa0.05')\n",
        "\n",
        "# comparación\n",
        "tr.compare(plt, A, B)\n",
        "\n",
        "# graficación\n",
        "plt.show()"
      ],
      "metadata": {
        "id": "i24P-efpEnR7",
        "colab": {
          "base_uri": "https://localhost:8080/",
          "height": 229
        },
        "outputId": "20ba4719-3d2d-45eb-8cca-4d47a6b148f9"
      },
      "execution_count": null,
      "outputs": [
        {
          "output_type": "display_data",
          "data": {
            "text/plain": [
              "<Figure size 432x216 with 2 Axes>"
            ],
            "image/png": "[encoded data removed]"
          },
          "metadata": {
            "needs_background": "light"
          }
        }
      ]
    },
    {
      "cell_type": "markdown",
      "source": [
        "**Ejercicio**\n",
        "\n",
        "* Utiliza dos barras deslizadores para el usuario.\n",
        "\n",
        "* La primera debe definir el circulo interior.\n",
        "\n",
        "* La segunda debe definir el circulo exterior.\n",
        "\n",
        "* Considera probar y arreglar que pasa cuando el circulo interior es mayor que el exterior y viceversa."
      ],
      "metadata": {
        "id": "rwPxup3xaO6G"
      }
    },
    {
      "cell_type": "code",
      "source": [
        "import matplotlib.pyplot as plt\n",
        "import numpy as np\n",
        "import triangle as tr\n",
        "import ipywidgets as widgets\n",
        "\n",
        "def dona(r_in, r_out, n_points):\n",
        "    # Definir puntos del círculo exterior e interior\n",
        "    n_points_out = int(n_points * r_out / (r_out + r_in))\n",
        "    n_points_in = n_points - n_points_out\n",
        "\n",
        "    theta_out = np.linspace(0, 2 * np.pi, n_points_out, endpoint=False)\n",
        "    pts_out = np.c_[r_out * np.cos(theta_out), r_out * np.sin(theta_out)]\n",
        "\n",
        "    theta_in = np.linspace(0, 2 * np.pi, n_points_in, endpoint=False)\n",
        "    pts_in = np.c_[r_in * np.cos(theta_in), r_in * np.sin(theta_in)]\n",
        "\n",
        "    # Definir segmentos de los dos círculos\n",
        "    seg_out = np.vstack([np.arange(n_points_out),\n",
        "                         np.roll(np.arange(n_points_out), -1)]).T\n",
        "    seg_in = np.vstack([np.arange(n_points_in) + n_points_out,\n",
        "                        np.roll(np.arange(n_points_in) + n_points_out, -1)]).T\n",
        "\n",
        "    # Unir los puntos y los segmentos\n",
        "    pts = np.vstack([pts_out, pts_in])\n",
        "    seg = np.vstack([seg_out, seg_in])\n",
        "\n",
        "    # Definir el agujero central\n",
        "    hole = [[0, 0]]\n",
        "\n",
        "    # Realizar la triangulación\n",
        "    A = dict(vertices=pts, segments=seg, holes=hole)\n",
        "    B = tr.triangulate(A, 'qpa0.05')\n",
        "\n",
        "    # Comparar la triangulación original y la generada\n",
        "    tr.compare(plt, A, B)\n",
        "\n",
        "    # Graficar la triangulación\n",
        "    plt.show()\n",
        "\n",
        "# Interfaz gráfica con dos barras deslizadoras para definir el tamaño de los círculos interiores y exteriores\n",
        "r_in_slider = widgets.FloatSlider(min=0.1, max=0.9, step=0.05, value=0.2, description='Radio interior')\n",
        "r_out_slider = widgets.FloatSlider(min=1.1, max=2.5, step=0.05, value=1.5, description='Radio exterior')\n",
        "n_points_slider = widgets.IntSlider(min=10, max=100, step=10, value=30, description='Número de puntos')\n",
        "\n",
        "widgets.interact(dona, r_in=r_in_slider, r_out=r_out_slider, n_points=n_points_slider)\n"
      ],
      "metadata": {
        "colab": {
          "base_uri": "https://localhost:8080/",
          "height": 342,
          "referenced_widgets": [
            "1ece4add7350457ab574695326b5253f",
            "361f75936725482590e6f69fc130ef22",
            "038b922dd12f450196a3abc28aa3afa1",
            "94c11dbe60e941958f87a863bb128737",
            "98d5c8866fbb4c788fdd4d7a99cf64ab",
            "2558ada9b0e94aae9c706fd02ca9f3a1",
            "1bff9d2be4924339bc83fb43533181b2",
            "5a46b1f5ffa14c45859606c61c379875",
            "5677cb24b47b4d9083f1725533764d56",
            "51d2dd8417304806863dd92cf82e69f4",
            "c7ab9255e0a14e959230d288770732a9",
            "e213ef95bd454d308cfd3ab53e492d9a",
            "42d2faed60694a408555280dee551cff"
          ]
        },
        "id": "cKAH-Ze53eux",
        "outputId": "b692c0a2-f33a-46be-b802-36efbef5a73a"
      },
      "execution_count": null,
      "outputs": [
        {
          "output_type": "display_data",
          "data": {
            "text/plain": [
              "interactive(children=(FloatSlider(value=0.2, description='Radio interior', max=0.9, min=0.1, step=0.05), Float…"
            ],
            "application/vnd.jupyter.widget-view+json": {
              "version_major": 2,
              "version_minor": 0,
              "model_id": "1ece4add7350457ab574695326b5253f"
            }
          },
          "metadata": {}
        },
        {
          "output_type": "execute_result",
          "data": {
            "text/plain": [
              "<function __main__.dona(r_in, r_out, n_points)>"
            ]
          },
          "metadata": {},
          "execution_count": 66
        }
      ]
    },
    {
      "cell_type": "markdown",
      "source": [
        "##Conclusión\n",
        "Gracias a esta actividad se pudo conocer una amplia variedad de herramientas de visualización de la triangulación, que vienen de la mano con las bibliotecas incluidas en Python para crear resultados impresionantes."
      ],
      "metadata": {
        "id": "pEOYq77u5Dlz"
      }
    }
  ]
}